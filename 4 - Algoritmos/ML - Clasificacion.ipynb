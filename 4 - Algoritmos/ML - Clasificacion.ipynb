{
 "cells": [
  {
   "cell_type": "markdown",
   "id": "6221a7ff",
   "metadata": {
    "id": "6221a7ff"
   },
   "source": [
    "# Algoritmos de Clasificacion "
   ]
  },
  {
   "cell_type": "code",
   "execution_count": 1,
   "id": "dc0b5e5a",
   "metadata": {
    "colab": {
     "base_uri": "https://localhost:8080/"
    },
    "executionInfo": {
     "elapsed": 846,
     "status": "ok",
     "timestamp": 1659975567311,
     "user": {
      "displayName": "Rossana Scavone",
      "userId": "17148856163347856032"
     },
     "user_tz": 180
    },
    "id": "dc0b5e5a",
    "outputId": "66b9b770-5043-40a3-a302-877182aec9e0"
   },
   "outputs": [
    {
     "name": "stdout",
     "output_type": "stream",
     "text": [
      "¡Librerías importadas con éxito!\n"
     ]
    }
   ],
   "source": [
    "#Import\n",
    "\n",
    "import numpy as np\n",
    "import pandas as pd\n",
    "import matplotlib.pyplot as plt\n",
    "%matplotlib inline\n",
    "import seaborn as sns\n",
    "import math\n",
    "\n",
    "from sklearn.model_selection import StratifiedKFold, cross_val_score, train_test_split\n",
    "from sklearn import tree\n",
    "from sklearn.ensemble import RandomForestClassifier\n",
    "\n",
    "\n",
    "print('¡Librerías importadas con éxito!')"
   ]
  },
  {
   "cell_type": "code",
   "execution_count": 5,
   "id": "775218df",
   "metadata": {
    "colab": {
     "base_uri": "https://localhost:8080/",
     "height": 375
    },
    "executionInfo": {
     "elapsed": 11,
     "status": "error",
     "timestamp": 1659975569033,
     "user": {
      "displayName": "Rossana Scavone",
      "userId": "17148856163347856032"
     },
     "user_tz": 180
    },
    "id": "775218df",
    "outputId": "79a96544-3ffc-4ce5-ab5b-e241ad7daf4a"
   },
   "outputs": [
    {
     "data": {
      "text/html": [
       "<div>\n",
       "<style scoped>\n",
       "    .dataframe tbody tr th:only-of-type {\n",
       "        vertical-align: middle;\n",
       "    }\n",
       "\n",
       "    .dataframe tbody tr th {\n",
       "        vertical-align: top;\n",
       "    }\n",
       "\n",
       "    .dataframe thead th {\n",
       "        text-align: right;\n",
       "    }\n",
       "</style>\n",
       "<table border=\"1\" class=\"dataframe\">\n",
       "  <thead>\n",
       "    <tr style=\"text-align: right;\">\n",
       "      <th></th>\n",
       "      <th>t_key0</th>\n",
       "      <th>t_mode0</th>\n",
       "      <th>t_dur0</th>\n",
       "      <th>t_dance0</th>\n",
       "      <th>t_energy0</th>\n",
       "      <th>t_speech0</th>\n",
       "      <th>t_acous0</th>\n",
       "      <th>t_ins0</th>\n",
       "      <th>t_live0</th>\n",
       "      <th>t_val0</th>\n",
       "      <th>t_tempo0</th>\n",
       "      <th>popularity</th>\n",
       "      <th>ClasePopularidad</th>\n",
       "    </tr>\n",
       "    <tr>\n",
       "      <th>id</th>\n",
       "      <th></th>\n",
       "      <th></th>\n",
       "      <th></th>\n",
       "      <th></th>\n",
       "      <th></th>\n",
       "      <th></th>\n",
       "      <th></th>\n",
       "      <th></th>\n",
       "      <th></th>\n",
       "      <th></th>\n",
       "      <th></th>\n",
       "      <th></th>\n",
       "      <th></th>\n",
       "    </tr>\n",
       "  </thead>\n",
       "  <tbody>\n",
       "    <tr>\n",
       "      <th>146790</th>\n",
       "      <td>2.217079</td>\n",
       "      <td>0.0</td>\n",
       "      <td>139.731735</td>\n",
       "      <td>0.869118</td>\n",
       "      <td>0.519249</td>\n",
       "      <td>0.029225</td>\n",
       "      <td>0.319573</td>\n",
       "      <td>0.002967</td>\n",
       "      <td>0.091678</td>\n",
       "      <td>0.188732</td>\n",
       "      <td>26.457350</td>\n",
       "      <td>34.0</td>\n",
       "      <td>2</td>\n",
       "    </tr>\n",
       "    <tr>\n",
       "      <th>142735</th>\n",
       "      <td>4.304625</td>\n",
       "      <td>0.0</td>\n",
       "      <td>140.968215</td>\n",
       "      <td>1.910310</td>\n",
       "      <td>0.769341</td>\n",
       "      <td>0.067253</td>\n",
       "      <td>0.023262</td>\n",
       "      <td>0.000000</td>\n",
       "      <td>0.052209</td>\n",
       "      <td>0.663667</td>\n",
       "      <td>23.141670</td>\n",
       "      <td>2.0</td>\n",
       "      <td>1</td>\n",
       "    </tr>\n",
       "    <tr>\n",
       "      <th>971</th>\n",
       "      <td>4.304625</td>\n",
       "      <td>1.0</td>\n",
       "      <td>109.520185</td>\n",
       "      <td>0.977668</td>\n",
       "      <td>0.253525</td>\n",
       "      <td>0.026992</td>\n",
       "      <td>0.364818</td>\n",
       "      <td>0.001985</td>\n",
       "      <td>0.074177</td>\n",
       "      <td>0.444230</td>\n",
       "      <td>29.855429</td>\n",
       "      <td>62.0</td>\n",
       "      <td>4</td>\n",
       "    </tr>\n",
       "    <tr>\n",
       "      <th>61341</th>\n",
       "      <td>3.828397</td>\n",
       "      <td>1.0</td>\n",
       "      <td>75.954987</td>\n",
       "      <td>1.509001</td>\n",
       "      <td>0.931646</td>\n",
       "      <td>0.106186</td>\n",
       "      <td>0.139922</td>\n",
       "      <td>0.000000</td>\n",
       "      <td>0.120665</td>\n",
       "      <td>0.491329</td>\n",
       "      <td>31.462427</td>\n",
       "      <td>19.0</td>\n",
       "      <td>1</td>\n",
       "    </tr>\n",
       "    <tr>\n",
       "      <th>153359</th>\n",
       "      <td>3.828397</td>\n",
       "      <td>1.0</td>\n",
       "      <td>91.244224</td>\n",
       "      <td>1.555391</td>\n",
       "      <td>0.545826</td>\n",
       "      <td>0.035371</td>\n",
       "      <td>0.251469</td>\n",
       "      <td>0.149262</td>\n",
       "      <td>0.083623</td>\n",
       "      <td>0.272233</td>\n",
       "      <td>34.090480</td>\n",
       "      <td>43.0</td>\n",
       "      <td>3</td>\n",
       "    </tr>\n",
       "  </tbody>\n",
       "</table>\n",
       "</div>"
      ],
      "text/plain": [
       "          t_key0  t_mode0      t_dur0  t_dance0  t_energy0  t_speech0  \\\n",
       "id                                                                      \n",
       "146790  2.217079      0.0  139.731735  0.869118   0.519249   0.029225   \n",
       "142735  4.304625      0.0  140.968215  1.910310   0.769341   0.067253   \n",
       "971     4.304625      1.0  109.520185  0.977668   0.253525   0.026992   \n",
       "61341   3.828397      1.0   75.954987  1.509001   0.931646   0.106186   \n",
       "153359  3.828397      1.0   91.244224  1.555391   0.545826   0.035371   \n",
       "\n",
       "        t_acous0    t_ins0   t_live0    t_val0   t_tempo0  popularity  \\\n",
       "id                                                                      \n",
       "146790  0.319573  0.002967  0.091678  0.188732  26.457350        34.0   \n",
       "142735  0.023262  0.000000  0.052209  0.663667  23.141670         2.0   \n",
       "971     0.364818  0.001985  0.074177  0.444230  29.855429        62.0   \n",
       "61341   0.139922  0.000000  0.120665  0.491329  31.462427        19.0   \n",
       "153359  0.251469  0.149262  0.083623  0.272233  34.090480        43.0   \n",
       "\n",
       "        ClasePopularidad  \n",
       "id                        \n",
       "146790                 2  \n",
       "142735                 1  \n",
       "971                    4  \n",
       "61341                  1  \n",
       "153359                 3  "
      ]
     },
     "execution_count": 5,
     "metadata": {},
     "output_type": "execute_result"
    }
   ],
   "source": [
    "#Abrimos los archivos con el Train set\n",
    "train = pd.read_csv('../1 - Base de Datos/trainset.csv')\n",
    "train = train.set_index('id')\n",
    "train.head()"
   ]
  },
  {
   "cell_type": "code",
   "execution_count": 6,
   "id": "4f8a00b4",
   "metadata": {
    "id": "4f8a00b4",
    "outputId": "e7d3fc2c-8c83-4f1d-cf89-6ca1d263cf06"
   },
   "outputs": [
    {
     "data": {
      "text/plain": [
       "(55543, 13)"
      ]
     },
     "execution_count": 6,
     "metadata": {},
     "output_type": "execute_result"
    }
   ],
   "source": [
    "train.shape"
   ]
  },
  {
   "cell_type": "code",
   "execution_count": 7,
   "id": "89c58300",
   "metadata": {
    "id": "89c58300",
    "outputId": "22cdfd0b-b670-43f9-d963-12aefa2eec9a"
   },
   "outputs": [
    {
     "data": {
      "text/plain": [
       "t_key0              0\n",
       "t_mode0             0\n",
       "t_dur0              0\n",
       "t_dance0            0\n",
       "t_energy0           0\n",
       "t_speech0           0\n",
       "t_acous0            0\n",
       "t_ins0              0\n",
       "t_live0             0\n",
       "t_val0              0\n",
       "t_tempo0            0\n",
       "popularity          0\n",
       "ClasePopularidad    0\n",
       "dtype: int64"
      ]
     },
     "execution_count": 7,
     "metadata": {},
     "output_type": "execute_result"
    }
   ],
   "source": [
    "#Verificamos que no hay valores nulos \n",
    "train.isnull().sum()"
   ]
  },
  {
   "cell_type": "code",
   "execution_count": 9,
   "id": "39acfbba",
   "metadata": {
    "id": "39acfbba",
    "outputId": "ec61f420-a641-424f-a8fb-46f164e34ab7"
   },
   "outputs": [
    {
     "data": {
      "text/html": [
       "<div>\n",
       "<style scoped>\n",
       "    .dataframe tbody tr th:only-of-type {\n",
       "        vertical-align: middle;\n",
       "    }\n",
       "\n",
       "    .dataframe tbody tr th {\n",
       "        vertical-align: top;\n",
       "    }\n",
       "\n",
       "    .dataframe thead th {\n",
       "        text-align: right;\n",
       "    }\n",
       "</style>\n",
       "<table border=\"1\" class=\"dataframe\">\n",
       "  <thead>\n",
       "    <tr style=\"text-align: right;\">\n",
       "      <th></th>\n",
       "      <th>t_key0</th>\n",
       "      <th>t_mode0</th>\n",
       "      <th>t_dur0</th>\n",
       "      <th>t_dance0</th>\n",
       "      <th>t_energy0</th>\n",
       "      <th>t_speech0</th>\n",
       "      <th>t_acous0</th>\n",
       "      <th>t_ins0</th>\n",
       "      <th>t_live0</th>\n",
       "      <th>t_val0</th>\n",
       "      <th>t_tempo0</th>\n",
       "      <th>popularity</th>\n",
       "      <th>ClasePopularidad</th>\n",
       "    </tr>\n",
       "    <tr>\n",
       "      <th>id</th>\n",
       "      <th></th>\n",
       "      <th></th>\n",
       "      <th></th>\n",
       "      <th></th>\n",
       "      <th></th>\n",
       "      <th></th>\n",
       "      <th></th>\n",
       "      <th></th>\n",
       "      <th></th>\n",
       "      <th></th>\n",
       "      <th></th>\n",
       "      <th></th>\n",
       "      <th></th>\n",
       "    </tr>\n",
       "  </thead>\n",
       "  <tbody>\n",
       "    <tr>\n",
       "      <th>116295</th>\n",
       "      <td>3.873489</td>\n",
       "      <td>1.0</td>\n",
       "      <td>102.077431</td>\n",
       "      <td>1.136005</td>\n",
       "      <td>0.652068</td>\n",
       "      <td>0.038806</td>\n",
       "      <td>0.245297</td>\n",
       "      <td>0.000004</td>\n",
       "      <td>0.061371</td>\n",
       "      <td>0.313870</td>\n",
       "      <td>20.325737</td>\n",
       "      <td>56.0</td>\n",
       "      <td>3</td>\n",
       "    </tr>\n",
       "    <tr>\n",
       "      <th>101223</th>\n",
       "      <td>1.595405</td>\n",
       "      <td>1.0</td>\n",
       "      <td>163.222447</td>\n",
       "      <td>1.559666</td>\n",
       "      <td>1.375892</td>\n",
       "      <td>0.090603</td>\n",
       "      <td>0.000999</td>\n",
       "      <td>0.144474</td>\n",
       "      <td>0.079899</td>\n",
       "      <td>0.237952</td>\n",
       "      <td>32.519311</td>\n",
       "      <td>22.0</td>\n",
       "      <td>2</td>\n",
       "    </tr>\n",
       "    <tr>\n",
       "      <th>47928</th>\n",
       "      <td>4.359420</td>\n",
       "      <td>1.0</td>\n",
       "      <td>113.531849</td>\n",
       "      <td>1.593801</td>\n",
       "      <td>1.504156</td>\n",
       "      <td>0.052763</td>\n",
       "      <td>0.030623</td>\n",
       "      <td>0.005559</td>\n",
       "      <td>0.070192</td>\n",
       "      <td>0.776168</td>\n",
       "      <td>26.369466</td>\n",
       "      <td>22.0</td>\n",
       "      <td>2</td>\n",
       "    </tr>\n",
       "    <tr>\n",
       "      <th>88722</th>\n",
       "      <td>3.873489</td>\n",
       "      <td>1.0</td>\n",
       "      <td>96.792058</td>\n",
       "      <td>1.289259</td>\n",
       "      <td>1.595320</td>\n",
       "      <td>0.048714</td>\n",
       "      <td>0.151174</td>\n",
       "      <td>0.000000</td>\n",
       "      <td>0.034878</td>\n",
       "      <td>0.862629</td>\n",
       "      <td>32.618253</td>\n",
       "      <td>50.0</td>\n",
       "      <td>3</td>\n",
       "    </tr>\n",
       "    <tr>\n",
       "      <th>111363</th>\n",
       "      <td>4.359420</td>\n",
       "      <td>0.0</td>\n",
       "      <td>102.640814</td>\n",
       "      <td>1.814995</td>\n",
       "      <td>1.031562</td>\n",
       "      <td>0.036711</td>\n",
       "      <td>0.015053</td>\n",
       "      <td>0.000002</td>\n",
       "      <td>0.089617</td>\n",
       "      <td>0.838169</td>\n",
       "      <td>25.157346</td>\n",
       "      <td>35.0</td>\n",
       "      <td>2</td>\n",
       "    </tr>\n",
       "  </tbody>\n",
       "</table>\n",
       "</div>"
      ],
      "text/plain": [
       "          t_key0  t_mode0      t_dur0  t_dance0  t_energy0  t_speech0  \\\n",
       "id                                                                      \n",
       "116295  3.873489      1.0  102.077431  1.136005   0.652068   0.038806   \n",
       "101223  1.595405      1.0  163.222447  1.559666   1.375892   0.090603   \n",
       "47928   4.359420      1.0  113.531849  1.593801   1.504156   0.052763   \n",
       "88722   3.873489      1.0   96.792058  1.289259   1.595320   0.048714   \n",
       "111363  4.359420      0.0  102.640814  1.814995   1.031562   0.036711   \n",
       "\n",
       "        t_acous0    t_ins0   t_live0    t_val0   t_tempo0  popularity  \\\n",
       "id                                                                      \n",
       "116295  0.245297  0.000004  0.061371  0.313870  20.325737        56.0   \n",
       "101223  0.000999  0.144474  0.079899  0.237952  32.519311        22.0   \n",
       "47928   0.030623  0.005559  0.070192  0.776168  26.369466        22.0   \n",
       "88722   0.151174  0.000000  0.034878  0.862629  32.618253        50.0   \n",
       "111363  0.015053  0.000002  0.089617  0.838169  25.157346        35.0   \n",
       "\n",
       "        ClasePopularidad  \n",
       "id                        \n",
       "116295                 3  \n",
       "101223                 2  \n",
       "47928                  2  \n",
       "88722                  3  \n",
       "111363                 2  "
      ]
     },
     "execution_count": 9,
     "metadata": {},
     "output_type": "execute_result"
    }
   ],
   "source": [
    "#Abrimos los archivos con el Test set\n",
    "test = pd.read_csv('../1 - Base de Datos/testset.csv')\n",
    "test = test.set_index('id')\n",
    "test.head()"
   ]
  },
  {
   "cell_type": "code",
   "execution_count": 10,
   "id": "c7fe60ed",
   "metadata": {
    "id": "c7fe60ed",
    "outputId": "f32374d5-0b31-4bd7-a107-5d4a4acccdf3"
   },
   "outputs": [
    {
     "data": {
      "text/plain": [
       "(13920, 13)"
      ]
     },
     "execution_count": 10,
     "metadata": {},
     "output_type": "execute_result"
    }
   ],
   "source": [
    "test.shape"
   ]
  },
  {
   "cell_type": "code",
   "execution_count": 11,
   "id": "d48086d8",
   "metadata": {
    "id": "d48086d8",
    "outputId": "5cb50c7a-0b2b-4a60-a57c-c9ea4c4a886a"
   },
   "outputs": [
    {
     "data": {
      "text/plain": [
       "t_key0              0\n",
       "t_mode0             0\n",
       "t_dur0              0\n",
       "t_dance0            0\n",
       "t_energy0           0\n",
       "t_speech0           0\n",
       "t_acous0            0\n",
       "t_ins0              0\n",
       "t_live0             0\n",
       "t_val0              0\n",
       "t_tempo0            0\n",
       "popularity          0\n",
       "ClasePopularidad    0\n",
       "dtype: int64"
      ]
     },
     "execution_count": 11,
     "metadata": {},
     "output_type": "execute_result"
    }
   ],
   "source": [
    "#Verificamos que no hay valores nulos \n",
    "test.isnull().sum()"
   ]
  },
  {
   "cell_type": "markdown",
   "id": "ca82f809",
   "metadata": {
    "id": "ca82f809"
   },
   "source": [
    "**Entrenamiento como Problema de Clasificacion**\n",
    "\n",
    "En este caso nuestro target es la variable creada **ClasePopularidad** que tiene los 5 niveles de popularidad definidos (ver Notebook de Limpieza de Datos).\n",
    "\n",
    "Veamos la proporcion de cada clase, para ver que tan desbalanceada esta la variable target\n"
   ]
  },
  {
   "cell_type": "code",
   "execution_count": 12,
   "id": "cfcc7d90",
   "metadata": {
    "id": "cfcc7d90",
    "outputId": "11dfad89-0bda-4f98-ff1c-a12c08ce7acd"
   },
   "outputs": [
    {
     "data": {
      "text/plain": [
       "ClasePopularidad\n",
       "2    0.358173\n",
       "1    0.319950\n",
       "3    0.254956\n",
       "4    0.065445\n",
       "5    0.001476\n",
       "Name: proportion, dtype: float64"
      ]
     },
     "execution_count": 12,
     "metadata": {},
     "output_type": "execute_result"
    }
   ],
   "source": [
    "train['ClasePopularidad'].value_counts(normalize = True)"
   ]
  },
  {
   "cell_type": "markdown",
   "id": "9f8926cd",
   "metadata": {
    "id": "9f8926cd"
   },
   "source": [
    "Vemos que las clases 1,2 y 3 resultan en el 92% de todos los datos, mientras que las clases 4 y 5 estan reducidas al 8%. Por lo que los datos estan muy desbalanceados. "
   ]
  },
  {
   "cell_type": "code",
   "execution_count": 13,
   "id": "851952ff",
   "metadata": {
    "id": "851952ff"
   },
   "outputs": [],
   "source": [
    "'''Dividimos el Train data set en Atributos y Target'''\n",
    "\n",
    "X_train = train.drop(['popularity','ClasePopularidad'],axis = 1)\n",
    "y_train = train['ClasePopularidad']\n"
   ]
  },
  {
   "cell_type": "code",
   "execution_count": 14,
   "id": "1ccbb3c2",
   "metadata": {
    "id": "1ccbb3c2"
   },
   "outputs": [],
   "source": [
    "'''Dividimos el Test Set en Atributos y Target'''\n",
    "\n",
    "X_test = test.drop(['popularity','ClasePopularidad'],axis = 1)\n",
    "y_test = test['ClasePopularidad']"
   ]
  },
  {
   "cell_type": "markdown",
   "id": "aa32b43f",
   "metadata": {
    "id": "aa32b43f"
   },
   "source": [
    "## 1- Arbol de Decision"
   ]
  },
  {
   "cell_type": "code",
   "execution_count": 15,
   "id": "50445523",
   "metadata": {
    "id": "50445523",
    "outputId": "79bc80ba-e708-41ee-a1f6-f22c2f01cd29"
   },
   "outputs": [
    {
     "data": {
      "text/plain": [
       "array([0.33736056, 0.33645254, 0.33916421, 0.33991389, 0.33445741])"
      ]
     },
     "execution_count": 15,
     "metadata": {},
     "output_type": "execute_result"
    }
   ],
   "source": [
    "'''Creamos el modelo'''\n",
    "\n",
    "kfold = StratifiedKFold(n_splits=5,shuffle=True, random_state = 13)  #Agregaremos Cross-Validation para este metodo\n",
    "\n",
    "modelArbol= tree.DecisionTreeClassifier(random_state = 13) \n",
    "\n",
    "modelArbol.fit(X_train, y_train) \n",
    "\n",
    "CV_scores = cross_val_score(modelArbol, X_train, y_train, cv=kfold, scoring = \"f1_weighted\")\n",
    "\n",
    "CV_scores\n"
   ]
  },
  {
   "cell_type": "code",
   "execution_count": 16,
   "id": "20f04c6a",
   "metadata": {
    "id": "20f04c6a",
    "outputId": "81c075a2-c631-405e-fc18-29d9fd4b6bdd"
   },
   "outputs": [
    {
     "data": {
      "text/plain": [
       "array([2, 2, 4, ..., 2, 2, 1], dtype=int64)"
      ]
     },
     "execution_count": 16,
     "metadata": {},
     "output_type": "execute_result"
    }
   ],
   "source": [
    "#prediccion\n",
    "\n",
    "yPred = modelArbol.predict(X_test)\n",
    "yPred"
   ]
  },
  {
   "cell_type": "markdown",
   "id": "e17b079e",
   "metadata": {
    "id": "e17b079e"
   },
   "source": [
    "### Evaluacion del Modelo - Metricas"
   ]
  },
  {
   "cell_type": "code",
   "execution_count": 18,
   "id": "9001d09a",
   "metadata": {
    "id": "9001d09a",
    "outputId": "e2ed4e24-021d-46a2-b146-b36b95206d9f"
   },
   "outputs": [
    {
     "name": "stdout",
     "output_type": "stream",
     "text": [
      "El F1 Score del modelo es de 0.3315639447407611\n",
      "              precision    recall  f1-score   support\n",
      "\n",
      "           1       0.37      0.37      0.37      4488\n",
      "           2       0.36      0.35      0.36      4914\n",
      "           3       0.31      0.31      0.31      3592\n",
      "           4       0.10      0.11      0.11       904\n",
      "           5       0.05      0.05      0.05        22\n",
      "\n",
      "    accuracy                           0.33     13920\n",
      "   macro avg       0.24      0.24      0.24     13920\n",
      "weighted avg       0.33      0.33      0.33     13920\n",
      "\n",
      "           Prediccion Baja  Prediccion MediaBaja  PrediccionMeida  \\\n",
      "Baja                  1645                  1578             1005   \n",
      "MediaBaja             1593                  1732             1223   \n",
      "Media                  985                  1180             1120   \n",
      "MediaAlta              217                   309              273   \n",
      "Alta                     6                     8                5   \n",
      "\n",
      "           Prediccion MediaAlta  Prediccion Alta  \n",
      "Baja                        256                4  \n",
      "MediaBaja                   360                6  \n",
      "Media                       301                6  \n",
      "MediaAlta                   102                3  \n",
      "Alta                          2                1  \n"
     ]
    }
   ],
   "source": [
    "#Evaluacion para Clasificacion\n",
    "\n",
    "from sklearn.metrics import confusion_matrix, classification_report, f1_score, accuracy_score\n",
    "\n",
    "#Report\n",
    "f1 = f1_score(y_test,yPred,average='weighted')\n",
    "print(f'El F1 Score del modelo es de {f1}')\n",
    "print(classification_report(y_test,yPred))\n",
    "\n",
    "\n",
    "confusion_matrixArbol = pd.DataFrame(confusion_matrix(y_test, yPred))\n",
    "confusion_matrixArbol.index = ['Baja','MediaBaja','Media','MediaAlta','Alta']\n",
    "confusion_matrixArbol.columns = ['Prediccion Baja','Prediccion MediaBaja','PrediccionMeida','Prediccion MediaAlta','Prediccion Alta']\n",
    "\n",
    "print(confusion_matrixArbol)"
   ]
  },
  {
   "cell_type": "code",
   "execution_count": 19,
   "id": "5d774a8e",
   "metadata": {
    "id": "5d774a8e",
    "outputId": "988103fc-312b-48d4-abee-8e044357ffbd"
   },
   "outputs": [
    {
     "data": {
      "text/html": [
       "<div>\n",
       "<style scoped>\n",
       "    .dataframe tbody tr th:only-of-type {\n",
       "        vertical-align: middle;\n",
       "    }\n",
       "\n",
       "    .dataframe tbody tr th {\n",
       "        vertical-align: top;\n",
       "    }\n",
       "\n",
       "    .dataframe thead th {\n",
       "        text-align: right;\n",
       "    }\n",
       "</style>\n",
       "<table border=\"1\" class=\"dataframe\">\n",
       "  <thead>\n",
       "    <tr style=\"text-align: right;\">\n",
       "      <th></th>\n",
       "      <th>ClasePopularidad</th>\n",
       "      <th>prediccion</th>\n",
       "    </tr>\n",
       "  </thead>\n",
       "  <tbody>\n",
       "    <tr>\n",
       "      <th>1474</th>\n",
       "      <td>5</td>\n",
       "      <td>2</td>\n",
       "    </tr>\n",
       "    <tr>\n",
       "      <th>1617</th>\n",
       "      <td>5</td>\n",
       "      <td>2</td>\n",
       "    </tr>\n",
       "    <tr>\n",
       "      <th>1738</th>\n",
       "      <td>5</td>\n",
       "      <td>2</td>\n",
       "    </tr>\n",
       "    <tr>\n",
       "      <th>2335</th>\n",
       "      <td>5</td>\n",
       "      <td>3</td>\n",
       "    </tr>\n",
       "    <tr>\n",
       "      <th>2857</th>\n",
       "      <td>5</td>\n",
       "      <td>4</td>\n",
       "    </tr>\n",
       "    <tr>\n",
       "      <th>2969</th>\n",
       "      <td>5</td>\n",
       "      <td>2</td>\n",
       "    </tr>\n",
       "    <tr>\n",
       "      <th>3429</th>\n",
       "      <td>5</td>\n",
       "      <td>1</td>\n",
       "    </tr>\n",
       "    <tr>\n",
       "      <th>3441</th>\n",
       "      <td>5</td>\n",
       "      <td>3</td>\n",
       "    </tr>\n",
       "    <tr>\n",
       "      <th>3540</th>\n",
       "      <td>5</td>\n",
       "      <td>1</td>\n",
       "    </tr>\n",
       "    <tr>\n",
       "      <th>4125</th>\n",
       "      <td>5</td>\n",
       "      <td>5</td>\n",
       "    </tr>\n",
       "    <tr>\n",
       "      <th>5201</th>\n",
       "      <td>5</td>\n",
       "      <td>1</td>\n",
       "    </tr>\n",
       "    <tr>\n",
       "      <th>7269</th>\n",
       "      <td>5</td>\n",
       "      <td>2</td>\n",
       "    </tr>\n",
       "    <tr>\n",
       "      <th>7393</th>\n",
       "      <td>5</td>\n",
       "      <td>2</td>\n",
       "    </tr>\n",
       "    <tr>\n",
       "      <th>7538</th>\n",
       "      <td>5</td>\n",
       "      <td>3</td>\n",
       "    </tr>\n",
       "    <tr>\n",
       "      <th>7632</th>\n",
       "      <td>5</td>\n",
       "      <td>1</td>\n",
       "    </tr>\n",
       "    <tr>\n",
       "      <th>9281</th>\n",
       "      <td>5</td>\n",
       "      <td>4</td>\n",
       "    </tr>\n",
       "    <tr>\n",
       "      <th>9362</th>\n",
       "      <td>5</td>\n",
       "      <td>1</td>\n",
       "    </tr>\n",
       "    <tr>\n",
       "      <th>11382</th>\n",
       "      <td>5</td>\n",
       "      <td>3</td>\n",
       "    </tr>\n",
       "    <tr>\n",
       "      <th>12313</th>\n",
       "      <td>5</td>\n",
       "      <td>3</td>\n",
       "    </tr>\n",
       "    <tr>\n",
       "      <th>12546</th>\n",
       "      <td>5</td>\n",
       "      <td>2</td>\n",
       "    </tr>\n",
       "    <tr>\n",
       "      <th>13139</th>\n",
       "      <td>5</td>\n",
       "      <td>2</td>\n",
       "    </tr>\n",
       "    <tr>\n",
       "      <th>13187</th>\n",
       "      <td>5</td>\n",
       "      <td>1</td>\n",
       "    </tr>\n",
       "  </tbody>\n",
       "</table>\n",
       "</div>"
      ],
      "text/plain": [
       "       ClasePopularidad  prediccion\n",
       "1474                  5           2\n",
       "1617                  5           2\n",
       "1738                  5           2\n",
       "2335                  5           3\n",
       "2857                  5           4\n",
       "2969                  5           2\n",
       "3429                  5           1\n",
       "3441                  5           3\n",
       "3540                  5           1\n",
       "4125                  5           5\n",
       "5201                  5           1\n",
       "7269                  5           2\n",
       "7393                  5           2\n",
       "7538                  5           3\n",
       "7632                  5           1\n",
       "9281                  5           4\n",
       "9362                  5           1\n",
       "11382                 5           3\n",
       "12313                 5           3\n",
       "12546                 5           2\n",
       "13139                 5           2\n",
       "13187                 5           1"
      ]
     },
     "execution_count": 19,
     "metadata": {},
     "output_type": "execute_result"
    }
   ],
   "source": [
    "yTest = y_test.reset_index()\n",
    "ResultsClas = yTest.drop('id', axis = 1)\n",
    "ResultsClas['prediccion'] = yPred\n",
    "ResultsClas.loc[ResultsClas['ClasePopularidad']>4]\n",
    "    "
   ]
  },
  {
   "cell_type": "code",
   "execution_count": 20,
   "id": "6dd2b9cf",
   "metadata": {
    "id": "6dd2b9cf",
    "outputId": "1a9b1b3b-d770-4499-caa4-59667a294d68"
   },
   "outputs": [
    {
     "data": {
      "text/plain": [
       "[0.2951969706675922,\n",
       " 0.2951969706675922,\n",
       " 0.314933806230348,\n",
       " 0.3127274988376215,\n",
       " 0.36656428792234197,\n",
       " 0.3629344801808425,\n",
       " 0.3733621634212004,\n",
       " 0.3701310204381786,\n",
       " 0.36999206212251357,\n",
       " 0.36829454041931026,\n",
       " 0.3663741104278563,\n",
       " 0.36674471495903244,\n",
       " 0.3633696174507611,\n",
       " 0.3607106007147153]"
      ]
     },
     "execution_count": 20,
     "metadata": {},
     "output_type": "execute_result"
    }
   ],
   "source": [
    "'''Generamos una funcion que nos de el Valor de F1 para diferentes valores de Poda, de 1 a 15'''\n",
    "\n",
    "poda = np.arange(1,15)\n",
    "accuracy = []\n",
    "result = []\n",
    "\n",
    "for i in poda:\n",
    "    modelArbol= tree.DecisionTreeClassifier(random_state = 13,max_depth = i)  #Generamos el clasificador con la poda seleccionada\n",
    "    modelArbol.fit(X_train, y_train) \n",
    "    yPred = modelArbol.predict(X_test) #Generamos la prediccion\n",
    "    CV_scores = cross_val_score(modelArbol, X_train, y_train, cv=kfold, scoring = \"f1_weighted\")\n",
    "    \n",
    "    a= accuracy_score(y_test,yPred) #En este caso por el desbalanceo el accuracy no es lo mas adecuado\n",
    "    f = CV_scores.mean() \n",
    "    accuracy.append(a)\n",
    "    result.append(f)\n",
    "result\n"
   ]
  },
  {
   "cell_type": "code",
   "execution_count": 21,
   "id": "32b05bfc",
   "metadata": {
    "id": "32b05bfc",
    "outputId": "91e988a9-fa9e-4a72-e9f2-f332b3a59d87"
   },
   "outputs": [
    {
     "data": {
      "text/plain": [
       "<matplotlib.legend.Legend at 0x18dffc75670>"
      ]
     },
     "execution_count": 21,
     "metadata": {},
     "output_type": "execute_result"
    },
    {
     "data": {
      "image/png": "[encoded data removed]",
      "text/plain": [
       "<Figure size 640x480 with 1 Axes>"
      ]
     },
     "metadata": {},
     "output_type": "display_data"
    }
   ],
   "source": [
    "'''Hacemos un grafico sencillo para ver evaluar el resultado'''\n",
    "plt.plot(result)\n",
    "plt.legend(\"f1 Score\")"
   ]
  },
  {
   "cell_type": "markdown",
   "id": "e848b618",
   "metadata": {},
   "source": [
    "**Conclusion**\n",
    "\n",
    "El mejor arbol de decision se obtiene con una poda de 7, obteniendose un f1 score de 0.373 (promedio de cross validation con 5 folds) "
   ]
  },
  {
   "cell_type": "markdown",
   "id": "efe7745d",
   "metadata": {
    "id": "efe7745d"
   },
   "source": [
    "# 2- Random Forest"
   ]
  },
  {
   "cell_type": "code",
   "execution_count": 22,
   "id": "0c71c236",
   "metadata": {
    "id": "0c71c236",
    "outputId": "e7a65f88-4194-48f5-9609-a732bf2b3324"
   },
   "outputs": [
    {
     "data": {
      "text/plain": [
       "id\n",
       "146790    2\n",
       "142735    1\n",
       "971       4\n",
       "61341     1\n",
       "153359    3\n",
       "         ..\n",
       "70247     2\n",
       "44415     4\n",
       "142189    3\n",
       "62804     2\n",
       "95312     1\n",
       "Name: ClasePopularidad, Length: 55543, dtype: int64"
      ]
     },
     "execution_count": 22,
     "metadata": {},
     "output_type": "execute_result"
    }
   ],
   "source": [
    "'''Utilizando la misma division que se uso para la Regresion por Arbol de decision'''\n",
    "\n",
    "X_train\n",
    "y_train"
   ]
  },
  {
   "cell_type": "code",
   "execution_count": 23,
   "id": "0e7b8725",
   "metadata": {
    "id": "0e7b8725",
    "outputId": "d560f83e-130f-47b0-c13b-e53fa02a8cc6"
   },
   "outputs": [
    {
     "data": {
      "text/html": [
       "<style>#sk-container-id-1 {\n",
       "  /* Definition of color scheme common for light and dark mode */\n",
       "  --sklearn-color-text: black;\n",
       "  --sklearn-color-line: gray;\n",
       "  /* Definition of color scheme for unfitted estimators */\n",
       "  --sklearn-color-unfitted-level-0: #fff5e6;\n",
       "  --sklearn-color-unfitted-level-1: #f6e4d2;\n",
       "  --sklearn-color-unfitted-level-2: #ffe0b3;\n",
       "  --sklearn-color-unfitted-level-3: chocolate;\n",
       "  /* Definition of color scheme for fitted estimators */\n",
       "  --sklearn-color-fitted-level-0: #f0f8ff;\n",
       "  --sklearn-color-fitted-level-1: #d4ebff;\n",
       "  --sklearn-color-fitted-level-2: #b3dbfd;\n",
       "  --sklearn-color-fitted-level-3: cornflowerblue;\n",
       "\n",
       "  /* Specific color for light theme */\n",
       "  --sklearn-color-text-on-default-background: var(--sg-text-color, var(--theme-code-foreground, var(--jp-content-font-color1, black)));\n",
       "  --sklearn-color-background: var(--sg-background-color, var(--theme-background, var(--jp-layout-color0, white)));\n",
       "  --sklearn-color-border-box: var(--sg-text-color, var(--theme-code-foreground, var(--jp-content-font-color1, black)));\n",
       "  --sklearn-color-icon: #696969;\n",
       "\n",
       "  @media (prefers-color-scheme: dark) {\n",
       "    /* Redefinition of color scheme for dark theme */\n",
       "    --sklearn-color-text-on-default-background: var(--sg-text-color, var(--theme-code-foreground, var(--jp-content-font-color1, white)));\n",
       "    --sklearn-color-background: var(--sg-background-color, var(--theme-background, var(--jp-layout-color0, #111)));\n",
       "    --sklearn-color-border-box: var(--sg-text-color, var(--theme-code-foreground, var(--jp-content-font-color1, white)));\n",
       "    --sklearn-color-icon: #878787;\n",
       "  }\n",
       "}\n",
       "\n",
       "#sk-container-id-1 {\n",
       "  color: var(--sklearn-color-text);\n",
       "}\n",
       "\n",
       "#sk-container-id-1 pre {\n",
       "  padding: 0;\n",
       "}\n",
       "\n",
       "#sk-container-id-1 input.sk-hidden--visually {\n",
       "  border: 0;\n",
       "  clip: rect(1px 1px 1px 1px);\n",
       "  clip: rect(1px, 1px, 1px, 1px);\n",
       "  height: 1px;\n",
       "  margin: -1px;\n",
       "  overflow: hidden;\n",
       "  padding: 0;\n",
       "  position: absolute;\n",
       "  width: 1px;\n",
       "}\n",
       "\n",
       "#sk-container-id-1 div.sk-dashed-wrapped {\n",
       "  border: 1px dashed var(--sklearn-color-line);\n",
       "  margin: 0 0.4em 0.5em 0.4em;\n",
       "  box-sizing: border-box;\n",
       "  padding-bottom: 0.4em;\n",
       "  background-color: var(--sklearn-color-background);\n",
       "}\n",
       "\n",
       "#sk-container-id-1 div.sk-container {\n",
       "  /* jupyter's `normalize.less` sets `[hidden] { display: none; }`\n",
       "     but bootstrap.min.css set `[hidden] { display: none !important; }`\n",
       "     so we also need the `!important` here to be able to override the\n",
       "     default hidden behavior on the sphinx rendered scikit-learn.org.\n",
       "     See: https://github.com/scikit-learn/scikit-learn/issues/21755 */\n",
       "  display: inline-block !important;\n",
       "  position: relative;\n",
       "}\n",
       "\n",
       "#sk-container-id-1 div.sk-text-repr-fallback {\n",
       "  display: none;\n",
       "}\n",
       "\n",
       "div.sk-parallel-item,\n",
       "div.sk-serial,\n",
       "div.sk-item {\n",
       "  /* draw centered vertical line to link estimators */\n",
       "  background-image: linear-gradient(var(--sklearn-color-text-on-default-background), var(--sklearn-color-text-on-default-background));\n",
       "  background-size: 2px 100%;\n",
       "  background-repeat: no-repeat;\n",
       "  background-position: center center;\n",
       "}\n",
       "\n",
       "/* Parallel-specific style estimator block */\n",
       "\n",
       "#sk-container-id-1 div.sk-parallel-item::after {\n",
       "  content: \"\";\n",
       "  width: 100%;\n",
       "  border-bottom: 2px solid var(--sklearn-color-text-on-default-background);\n",
       "  flex-grow: 1;\n",
       "}\n",
       "\n",
       "#sk-container-id-1 div.sk-parallel {\n",
       "  display: flex;\n",
       "  align-items: stretch;\n",
       "  justify-content: center;\n",
       "  background-color: var(--sklearn-color-background);\n",
       "  position: relative;\n",
       "}\n",
       "\n",
       "#sk-container-id-1 div.sk-parallel-item {\n",
       "  display: flex;\n",
       "  flex-direction: column;\n",
       "}\n",
       "\n",
       "#sk-container-id-1 div.sk-parallel-item:first-child::after {\n",
       "  align-self: flex-end;\n",
       "  width: 50%;\n",
       "}\n",
       "\n",
       "#sk-container-id-1 div.sk-parallel-item:last-child::after {\n",
       "  align-self: flex-start;\n",
       "  width: 50%;\n",
       "}\n",
       "\n",
       "#sk-container-id-1 div.sk-parallel-item:only-child::after {\n",
       "  width: 0;\n",
       "}\n",
       "\n",
       "/* Serial-specific style estimator block */\n",
       "\n",
       "#sk-container-id-1 div.sk-serial {\n",
       "  display: flex;\n",
       "  flex-direction: column;\n",
       "  align-items: center;\n",
       "  background-color: var(--sklearn-color-background);\n",
       "  padding-right: 1em;\n",
       "  padding-left: 1em;\n",
       "}\n",
       "\n",
       "\n",
       "/* Toggleable style: style used for estimator/Pipeline/ColumnTransformer box that is\n",
       "clickable and can be expanded/collapsed.\n",
       "- Pipeline and ColumnTransformer use this feature and define the default style\n",
       "- Estimators will overwrite some part of the style using the `sk-estimator` class\n",
       "*/\n",
       "\n",
       "/* Pipeline and ColumnTransformer style (default) */\n",
       "\n",
       "#sk-container-id-1 div.sk-toggleable {\n",
       "  /* Default theme specific background. It is overwritten whether we have a\n",
       "  specific estimator or a Pipeline/ColumnTransformer */\n",
       "  background-color: var(--sklearn-color-background);\n",
       "}\n",
       "\n",
       "/* Toggleable label */\n",
       "#sk-container-id-1 label.sk-toggleable__label {\n",
       "  cursor: pointer;\n",
       "  display: block;\n",
       "  width: 100%;\n",
       "  margin-bottom: 0;\n",
       "  padding: 0.5em;\n",
       "  box-sizing: border-box;\n",
       "  text-align: center;\n",
       "}\n",
       "\n",
       "#sk-container-id-1 label.sk-toggleable__label-arrow:before {\n",
       "  /* Arrow on the left of the label */\n",
       "  content: \"▸\";\n",
       "  float: left;\n",
       "  margin-right: 0.25em;\n",
       "  color: var(--sklearn-color-icon);\n",
       "}\n",
       "\n",
       "#sk-container-id-1 label.sk-toggleable__label-arrow:hover:before {\n",
       "  color: var(--sklearn-color-text);\n",
       "}\n",
       "\n",
       "/* Toggleable content - dropdown */\n",
       "\n",
       "#sk-container-id-1 div.sk-toggleable__content {\n",
       "  max-height: 0;\n",
       "  max-width: 0;\n",
       "  overflow: hidden;\n",
       "  text-align: left;\n",
       "  /* unfitted */\n",
       "  background-color: var(--sklearn-color-unfitted-level-0);\n",
       "}\n",
       "\n",
       "#sk-container-id-1 div.sk-toggleable__content.fitted {\n",
       "  /* fitted */\n",
       "  background-color: var(--sklearn-color-fitted-level-0);\n",
       "}\n",
       "\n",
       "#sk-container-id-1 div.sk-toggleable__content pre {\n",
       "  margin: 0.2em;\n",
       "  border-radius: 0.25em;\n",
       "  color: var(--sklearn-color-text);\n",
       "  /* unfitted */\n",
       "  background-color: var(--sklearn-color-unfitted-level-0);\n",
       "}\n",
       "\n",
       "#sk-container-id-1 div.sk-toggleable__content.fitted pre {\n",
       "  /* unfitted */\n",
       "  background-color: var(--sklearn-color-fitted-level-0);\n",
       "}\n",
       "\n",
       "#sk-container-id-1 input.sk-toggleable__control:checked~div.sk-toggleable__content {\n",
       "  /* Expand drop-down */\n",
       "  max-height: 200px;\n",
       "  max-width: 100%;\n",
       "  overflow: auto;\n",
       "}\n",
       "\n",
       "#sk-container-id-1 input.sk-toggleable__control:checked~label.sk-toggleable__label-arrow:before {\n",
       "  content: \"▾\";\n",
       "}\n",
       "\n",
       "/* Pipeline/ColumnTransformer-specific style */\n",
       "\n",
       "#sk-container-id-1 div.sk-label input.sk-toggleable__control:checked~label.sk-toggleable__label {\n",
       "  color: var(--sklearn-color-text);\n",
       "  background-color: var(--sklearn-color-unfitted-level-2);\n",
       "}\n",
       "\n",
       "#sk-container-id-1 div.sk-label.fitted input.sk-toggleable__control:checked~label.sk-toggleable__label {\n",
       "  background-color: var(--sklearn-color-fitted-level-2);\n",
       "}\n",
       "\n",
       "/* Estimator-specific style */\n",
       "\n",
       "/* Colorize estimator box */\n",
       "#sk-container-id-1 div.sk-estimator input.sk-toggleable__control:checked~label.sk-toggleable__label {\n",
       "  /* unfitted */\n",
       "  background-color: var(--sklearn-color-unfitted-level-2);\n",
       "}\n",
       "\n",
       "#sk-container-id-1 div.sk-estimator.fitted input.sk-toggleable__control:checked~label.sk-toggleable__label {\n",
       "  /* fitted */\n",
       "  background-color: var(--sklearn-color-fitted-level-2);\n",
       "}\n",
       "\n",
       "#sk-container-id-1 div.sk-label label.sk-toggleable__label,\n",
       "#sk-container-id-1 div.sk-label label {\n",
       "  /* The background is the default theme color */\n",
       "  color: var(--sklearn-color-text-on-default-background);\n",
       "}\n",
       "\n",
       "/* On hover, darken the color of the background */\n",
       "#sk-container-id-1 div.sk-label:hover label.sk-toggleable__label {\n",
       "  color: var(--sklearn-color-text);\n",
       "  background-color: var(--sklearn-color-unfitted-level-2);\n",
       "}\n",
       "\n",
       "/* Label box, darken color on hover, fitted */\n",
       "#sk-container-id-1 div.sk-label.fitted:hover label.sk-toggleable__label.fitted {\n",
       "  color: var(--sklearn-color-text);\n",
       "  background-color: var(--sklearn-color-fitted-level-2);\n",
       "}\n",
       "\n",
       "/* Estimator label */\n",
       "\n",
       "#sk-container-id-1 div.sk-label label {\n",
       "  font-family: monospace;\n",
       "  font-weight: bold;\n",
       "  display: inline-block;\n",
       "  line-height: 1.2em;\n",
       "}\n",
       "\n",
       "#sk-container-id-1 div.sk-label-container {\n",
       "  text-align: center;\n",
       "}\n",
       "\n",
       "/* Estimator-specific */\n",
       "#sk-container-id-1 div.sk-estimator {\n",
       "  font-family: monospace;\n",
       "  border: 1px dotted var(--sklearn-color-border-box);\n",
       "  border-radius: 0.25em;\n",
       "  box-sizing: border-box;\n",
       "  margin-bottom: 0.5em;\n",
       "  /* unfitted */\n",
       "  background-color: var(--sklearn-color-unfitted-level-0);\n",
       "}\n",
       "\n",
       "#sk-container-id-1 div.sk-estimator.fitted {\n",
       "  /* fitted */\n",
       "  background-color: var(--sklearn-color-fitted-level-0);\n",
       "}\n",
       "\n",
       "/* on hover */\n",
       "#sk-container-id-1 div.sk-estimator:hover {\n",
       "  /* unfitted */\n",
       "  background-color: var(--sklearn-color-unfitted-level-2);\n",
       "}\n",
       "\n",
       "#sk-container-id-1 div.sk-estimator.fitted:hover {\n",
       "  /* fitted */\n",
       "  background-color: var(--sklearn-color-fitted-level-2);\n",
       "}\n",
       "\n",
       "/* Specification for estimator info (e.g. \"i\" and \"?\") */\n",
       "\n",
       "/* Common style for \"i\" and \"?\" */\n",
       "\n",
       ".sk-estimator-doc-link,\n",
       "a:link.sk-estimator-doc-link,\n",
       "a:visited.sk-estimator-doc-link {\n",
       "  float: right;\n",
       "  font-size: smaller;\n",
       "  line-height: 1em;\n",
       "  font-family: monospace;\n",
       "  background-color: var(--sklearn-color-background);\n",
       "  border-radius: 1em;\n",
       "  height: 1em;\n",
       "  width: 1em;\n",
       "  text-decoration: none !important;\n",
       "  margin-left: 1ex;\n",
       "  /* unfitted */\n",
       "  border: var(--sklearn-color-unfitted-level-1) 1pt solid;\n",
       "  color: var(--sklearn-color-unfitted-level-1);\n",
       "}\n",
       "\n",
       ".sk-estimator-doc-link.fitted,\n",
       "a:link.sk-estimator-doc-link.fitted,\n",
       "a:visited.sk-estimator-doc-link.fitted {\n",
       "  /* fitted */\n",
       "  border: var(--sklearn-color-fitted-level-1) 1pt solid;\n",
       "  color: var(--sklearn-color-fitted-level-1);\n",
       "}\n",
       "\n",
       "/* On hover */\n",
       "div.sk-estimator:hover .sk-estimator-doc-link:hover,\n",
       ".sk-estimator-doc-link:hover,\n",
       "div.sk-label-container:hover .sk-estimator-doc-link:hover,\n",
       ".sk-estimator-doc-link:hover {\n",
       "  /* unfitted */\n",
       "  background-color: var(--sklearn-color-unfitted-level-3);\n",
       "  color: var(--sklearn-color-background);\n",
       "  text-decoration: none;\n",
       "}\n",
       "\n",
       "div.sk-estimator.fitted:hover .sk-estimator-doc-link.fitted:hover,\n",
       ".sk-estimator-doc-link.fitted:hover,\n",
       "div.sk-label-container:hover .sk-estimator-doc-link.fitted:hover,\n",
       ".sk-estimator-doc-link.fitted:hover {\n",
       "  /* fitted */\n",
       "  background-color: var(--sklearn-color-fitted-level-3);\n",
       "  color: var(--sklearn-color-background);\n",
       "  text-decoration: none;\n",
       "}\n",
       "\n",
       "/* Span, style for the box shown on hovering the info icon */\n",
       ".sk-estimator-doc-link span {\n",
       "  display: none;\n",
       "  z-index: 9999;\n",
       "  position: relative;\n",
       "  font-weight: normal;\n",
       "  right: .2ex;\n",
       "  padding: .5ex;\n",
       "  margin: .5ex;\n",
       "  width: min-content;\n",
       "  min-width: 20ex;\n",
       "  max-width: 50ex;\n",
       "  color: var(--sklearn-color-text);\n",
       "  box-shadow: 2pt 2pt 4pt #999;\n",
       "  /* unfitted */\n",
       "  background: var(--sklearn-color-unfitted-level-0);\n",
       "  border: .5pt solid var(--sklearn-color-unfitted-level-3);\n",
       "}\n",
       "\n",
       ".sk-estimator-doc-link.fitted span {\n",
       "  /* fitted */\n",
       "  background: var(--sklearn-color-fitted-level-0);\n",
       "  border: var(--sklearn-color-fitted-level-3);\n",
       "}\n",
       "\n",
       ".sk-estimator-doc-link:hover span {\n",
       "  display: block;\n",
       "}\n",
       "\n",
       "/* \"?\"-specific style due to the `<a>` HTML tag */\n",
       "\n",
       "#sk-container-id-1 a.estimator_doc_link {\n",
       "  float: right;\n",
       "  font-size: 1rem;\n",
       "  line-height: 1em;\n",
       "  font-family: monospace;\n",
       "  background-color: var(--sklearn-color-background);\n",
       "  border-radius: 1rem;\n",
       "  height: 1rem;\n",
       "  width: 1rem;\n",
       "  text-decoration: none;\n",
       "  /* unfitted */\n",
       "  color: var(--sklearn-color-unfitted-level-1);\n",
       "  border: var(--sklearn-color-unfitted-level-1) 1pt solid;\n",
       "}\n",
       "\n",
       "#sk-container-id-1 a.estimator_doc_link.fitted {\n",
       "  /* fitted */\n",
       "  border: var(--sklearn-color-fitted-level-1) 1pt solid;\n",
       "  color: var(--sklearn-color-fitted-level-1);\n",
       "}\n",
       "\n",
       "/* On hover */\n",
       "#sk-container-id-1 a.estimator_doc_link:hover {\n",
       "  /* unfitted */\n",
       "  background-color: var(--sklearn-color-unfitted-level-3);\n",
       "  color: var(--sklearn-color-background);\n",
       "  text-decoration: none;\n",
       "}\n",
       "\n",
       "#sk-container-id-1 a.estimator_doc_link.fitted:hover {\n",
       "  /* fitted */\n",
       "  background-color: var(--sklearn-color-fitted-level-3);\n",
       "}\n",
       "</style><div id=\"sk-container-id-1\" class=\"sk-top-container\"><div class=\"sk-text-repr-fallback\"><pre>RandomForestClassifier(n_estimators=25, random_state=13)</pre><b>In a Jupyter environment, please rerun this cell to show the HTML representation or trust the notebook. <br />On GitHub, the HTML representation is unable to render, please try loading this page with nbviewer.org.</b></div><div class=\"sk-container\" hidden><div class=\"sk-item\"><div class=\"sk-estimator fitted sk-toggleable\"><input class=\"sk-toggleable__control sk-hidden--visually\" id=\"sk-estimator-id-1\" type=\"checkbox\" checked><label for=\"sk-estimator-id-1\" class=\"sk-toggleable__label fitted sk-toggleable__label-arrow fitted\">&nbsp;&nbsp;RandomForestClassifier<a class=\"sk-estimator-doc-link fitted\" rel=\"noreferrer\" target=\"_blank\" href=\"https://scikit-learn.org/1.5/modules/generated/sklearn.ensemble.RandomForestClassifier.html\">?<span>Documentation for RandomForestClassifier</span></a><span class=\"sk-estimator-doc-link fitted\">i<span>Fitted</span></span></label><div class=\"sk-toggleable__content fitted\"><pre>RandomForestClassifier(n_estimators=25, random_state=13)</pre></div> </div></div></div></div>"
      ],
      "text/plain": [
       "RandomForestClassifier(n_estimators=25, random_state=13)"
      ]
     },
     "execution_count": 23,
     "metadata": {},
     "output_type": "execute_result"
    }
   ],
   "source": [
    "'''Creamos el modelo'''\n",
    "\n",
    "modelo_random_forest = RandomForestClassifier(n_estimators = 25,random_state = 13) \n",
    "modelo_random_forest.fit(X_train, y_train)"
   ]
  },
  {
   "cell_type": "code",
   "execution_count": 24,
   "id": "103612b2",
   "metadata": {
    "id": "103612b2"
   },
   "outputs": [],
   "source": [
    "#Se hace la prediccion\n",
    "yPredForest = modelo_random_forest.predict(X_test)"
   ]
  },
  {
   "cell_type": "code",
   "execution_count": 25,
   "id": "70f57a42",
   "metadata": {
    "id": "70f57a42",
    "outputId": "d9ef65a2-fba9-456e-b5c4-eca6be3c113c"
   },
   "outputs": [
    {
     "name": "stdout",
     "output_type": "stream",
     "text": [
      "El F1 Score del modelo es de 0.3681208589632677\n",
      "              precision    recall  f1-score   support\n",
      "\n",
      "           1       0.40      0.45      0.43      4488\n",
      "           2       0.37      0.47      0.42      4914\n",
      "           3       0.36      0.26      0.30      3592\n",
      "           4       0.41      0.04      0.08       904\n",
      "           5       0.00      0.00      0.00        22\n",
      "\n",
      "    accuracy                           0.38     13920\n",
      "   macro avg       0.31      0.25      0.24     13920\n",
      "weighted avg       0.38      0.38      0.37     13920\n",
      "\n",
      "           Prediccion Baja  Prediccion MediaBaja  PrediccionMeida  \\\n",
      "Baja                  2038                  1875              564   \n",
      "MediaBaja             1751                  2310              837   \n",
      "Media                 1020                  1606              940   \n",
      "MediaAlta              245                   370              250   \n",
      "Alta                     7                     7                7   \n",
      "\n",
      "           Prediccion MediaAlta  Prediccion Alta  \n",
      "Baja                         11                0  \n",
      "MediaBaja                    16                0  \n",
      "Media                        26                0  \n",
      "MediaAlta                    38                1  \n",
      "Alta                          1                0  \n"
     ]
    }
   ],
   "source": [
    "#Evaluacion con Metricas\n",
    "\n",
    "f1Forest = f1_score(y_test,yPredForest,average='weighted')\n",
    "print(f'El F1 Score del modelo es de {f1Forest}')\n",
    "print(classification_report(y_test,yPredForest))\n",
    "\n",
    "\n",
    "confusion_matrixForest = pd.DataFrame(confusion_matrix(y_test, yPredForest))\n",
    "confusion_matrixForest.index = ['Baja','MediaBaja','Media','MediaAlta','Alta']\n",
    "confusion_matrixForest.columns = ['Prediccion Baja','Prediccion MediaBaja','PrediccionMeida','Prediccion MediaAlta','Prediccion Alta']\n",
    "\n",
    "print(confusion_matrixForest)"
   ]
  },
  {
   "cell_type": "code",
   "execution_count": 26,
   "id": "795ab4d8",
   "metadata": {
    "id": "795ab4d8",
    "outputId": "f12acc36-5f7f-490e-c2d4-db4ec1bb0e5a"
   },
   "outputs": [
    {
     "name": "stdout",
     "output_type": "stream",
     "text": [
      "1.859375\n",
      "3.765625\n",
      "5.484375\n",
      "7.03125\n",
      "8.75\n",
      "10.5\n",
      "13.0\n",
      "14.28125\n",
      "15.84375\n",
      "19.6875\n",
      "21.328125\n",
      "23.09375\n",
      "26.65625\n",
      "28.546875\n"
     ]
    },
    {
     "data": {
      "text/plain": [
       "[0.35115444066556517,\n",
       " 0.36631207364250223,\n",
       " 0.3709693723867204,\n",
       " 0.37390241384661055,\n",
       " 0.37676024330595237,\n",
       " 0.37775162267637946,\n",
       " 0.3773590723080222,\n",
       " 0.37966411665943506,\n",
       " 0.38263621214533333,\n",
       " 0.38358408211163564,\n",
       " 0.38424624817475106,\n",
       " 0.3847214036245894,\n",
       " 0.38572349728902644,\n",
       " 0.38367552915345743]"
      ]
     },
     "execution_count": 26,
     "metadata": {},
     "output_type": "execute_result"
    }
   ],
   "source": [
    "'''Similar al caso del Arbol, haremos un loop para calcular Accuracies a diferentes valore de n_estimator'''\n",
    "\n",
    "import time   #Quiero ver tambien cuanto tiempo lleva el training segun el numero de estimadores\n",
    "T = []\n",
    "estimators = np.arange(10,150,10)\n",
    "accuracyForest = []\n",
    "resultForest = []\n",
    "\n",
    "for i in estimators:\n",
    "    inicio = time.process_time()\n",
    "    modelo_random_forest = RandomForestClassifier(n_estimators = i,random_state = 13) \n",
    "    modelo_random_forest.fit(X_train, y_train)\n",
    "    yPredForest = modelo_random_forest.predict(X_test)\n",
    "    fin = time.process_time()\n",
    "    t = fin-inicio\n",
    "    T.append(t)\n",
    "    print(t)\n",
    "    \n",
    "    \n",
    "    a= accuracy_score(y_test,yPredForest)\n",
    "    f = f1_score(y_test,yPredForest,average='weighted')  \n",
    "    accuracyForest.append(a)\n",
    "    resultForest.append(f)\n",
    "\n",
    "resultForest\n",
    "\n"
   ]
  },
  {
   "cell_type": "code",
   "execution_count": 27,
   "id": "994c3a54",
   "metadata": {
    "id": "994c3a54",
    "outputId": "d736c714-c58c-4a08-ea04-cc153ba248a1"
   },
   "outputs": [
    {
     "data": {
      "text/plain": [
       "<matplotlib.legend.Legend at 0x18dffc78f20>"
      ]
     },
     "execution_count": 27,
     "metadata": {},
     "output_type": "execute_result"
    },
    {
     "data": {
      "image/png": "[encoded data removed]",
      "text/plain": [
       "<Figure size 640x480 with 1 Axes>"
      ]
     },
     "metadata": {},
     "output_type": "display_data"
    }
   ],
   "source": [
    "'''Hacemos un grafico sencillo para ver evaluar el resultado'''\n",
    "plt.plot(estimators, resultForest)\n",
    "plt.legend(\"f1 Score\")"
   ]
  },
  {
   "cell_type": "markdown",
   "id": "3755433d",
   "metadata": {},
   "source": [
    "**Conclusion**\n",
    "\n",
    "Se obtiene el mejor resultado conun Random Forest con 130 n_estimators, dando un resultado de f1 = 0.386"
   ]
  },
  {
   "cell_type": "markdown",
   "id": "f639accd",
   "metadata": {
    "id": "f639accd"
   },
   "source": [
    "## Dummy Classifier"
   ]
  },
  {
   "cell_type": "code",
   "execution_count": 28,
   "id": "9d699c6b",
   "metadata": {
    "id": "9d699c6b",
    "outputId": "48365f3f-808a-4868-f64a-dc054a0f6cbc"
   },
   "outputs": [
    {
     "data": {
      "text/plain": [
       "id\n",
       "116295    2\n",
       "101223    2\n",
       "47928     2\n",
       "88722     2\n",
       "111363    2\n",
       "         ..\n",
       "159895    2\n",
       "37399     2\n",
       "139733    2\n",
       "136482    2\n",
       "103656    2\n",
       "Name: ClasePopularidad, Length: 13920, dtype: int64"
      ]
     },
     "execution_count": 28,
     "metadata": {},
     "output_type": "execute_result"
    }
   ],
   "source": [
    "moda = test['ClasePopularidad'].mode()[0]\n",
    "y_Dummy = test['ClasePopularidad'].apply(lambda x: moda)\n",
    "y_Dummy"
   ]
  },
  {
   "cell_type": "code",
   "execution_count": 29,
   "id": "6293962b",
   "metadata": {
    "id": "6293962b",
    "outputId": "8c7f9565-514a-47f6-ad07-e254e6f4d619"
   },
   "outputs": [
    {
     "name": "stdout",
     "output_type": "stream",
     "text": [
      "El F1 Score del Modelo mas facil es 0.18421224637760766\n"
     ]
    }
   ],
   "source": [
    "f1Dummy= f1_score(y_test,y_Dummy,average='weighted')\n",
    "print(f'El F1 Score del Modelo mas facil es {f1Dummy}')"
   ]
  },
  {
   "cell_type": "markdown",
   "id": "b185dcaa",
   "metadata": {
    "id": "b185dcaa"
   },
   "source": [
    "## Resumen"
   ]
  },
  {
   "cell_type": "code",
   "execution_count": 30,
   "id": "ad17cf0f",
   "metadata": {
    "id": "ad17cf0f"
   },
   "outputs": [],
   "source": [
    "#Table Resumen\n",
    "\n",
    "Resumen = pd.DataFrame([[0.373,'poda = 7'],[0.386,'estimadores = 130'],[0.184,'no aplica']],index = ['Arbol','Random Forest','Dummy'], columns = ['Score','Parametro'])"
   ]
  },
  {
   "cell_type": "code",
   "execution_count": 31,
   "id": "bf19810a",
   "metadata": {
    "id": "bf19810a",
    "outputId": "5b3dbe7a-46bd-4488-c998-10d4a8fe588d"
   },
   "outputs": [
    {
     "data": {
      "text/html": [
       "<div>\n",
       "<style scoped>\n",
       "    .dataframe tbody tr th:only-of-type {\n",
       "        vertical-align: middle;\n",
       "    }\n",
       "\n",
       "    .dataframe tbody tr th {\n",
       "        vertical-align: top;\n",
       "    }\n",
       "\n",
       "    .dataframe thead th {\n",
       "        text-align: right;\n",
       "    }\n",
       "</style>\n",
       "<table border=\"1\" class=\"dataframe\">\n",
       "  <thead>\n",
       "    <tr style=\"text-align: right;\">\n",
       "      <th></th>\n",
       "      <th>Score</th>\n",
       "      <th>Parametro</th>\n",
       "    </tr>\n",
       "  </thead>\n",
       "  <tbody>\n",
       "    <tr>\n",
       "      <th>Arbol</th>\n",
       "      <td>0.373</td>\n",
       "      <td>poda = 7</td>\n",
       "    </tr>\n",
       "    <tr>\n",
       "      <th>Random Forest</th>\n",
       "      <td>0.386</td>\n",
       "      <td>estimadores = 130</td>\n",
       "    </tr>\n",
       "    <tr>\n",
       "      <th>Dummy</th>\n",
       "      <td>0.184</td>\n",
       "      <td>no aplica</td>\n",
       "    </tr>\n",
       "  </tbody>\n",
       "</table>\n",
       "</div>"
      ],
      "text/plain": [
       "               Score          Parametro\n",
       "Arbol          0.373           poda = 7\n",
       "Random Forest  0.386  estimadores = 130\n",
       "Dummy          0.184          no aplica"
      ]
     },
     "execution_count": 31,
     "metadata": {},
     "output_type": "execute_result"
    }
   ],
   "source": [
    "Resumen"
   ]
  },
  {
   "cell_type": "markdown",
   "id": "5eccc61e",
   "metadata": {
    "id": "81f2dbda"
   },
   "source": [
    "## Algoritmos de Clasificacion con Balanceo de Clases - SMOTE"
   ]
  },
  {
   "cell_type": "code",
   "execution_count": 32,
   "id": "0013b85e",
   "metadata": {},
   "outputs": [
    {
     "name": "stdout",
     "output_type": "stream",
     "text": [
      "Collecting imbalanced-learn\n",
      "  Downloading imbalanced_learn-0.12.3-py3-none-any.whl.metadata (8.3 kB)\n",
      "Requirement already satisfied: numpy>=1.17.3 in c:\\users\\fghiotti\\appdata\\local\\programs\\python\\python312\\lib\\site-packages (from imbalanced-learn) (1.26.4)\n",
      "Requirement already satisfied: scipy>=1.5.0 in c:\\users\\fghiotti\\appdata\\local\\programs\\python\\python312\\lib\\site-packages (from imbalanced-learn) (1.13.1)\n",
      "Requirement already satisfied: scikit-learn>=1.0.2 in c:\\users\\fghiotti\\appdata\\local\\programs\\python\\python312\\lib\\site-packages (from imbalanced-learn) (1.5.0)\n",
      "Requirement already satisfied: joblib>=1.1.1 in c:\\users\\fghiotti\\appdata\\local\\programs\\python\\python312\\lib\\site-packages (from imbalanced-learn) (1.4.2)\n",
      "Requirement already satisfied: threadpoolctl>=2.0.0 in c:\\users\\fghiotti\\appdata\\local\\programs\\python\\python312\\lib\\site-packages (from imbalanced-learn) (3.5.0)\n",
      "Downloading imbalanced_learn-0.12.3-py3-none-any.whl (258 kB)\n",
      "   ---------------------------------------- 0.0/258.3 kB ? eta -:--:--\n",
      "   - -------------------------------------- 10.2/258.3 kB ? eta -:--:--\n",
      "   ---- ---------------------------------- 30.7/258.3 kB 435.7 kB/s eta 0:00:01\n",
      "   ---------- ---------------------------- 71.7/258.3 kB 563.7 kB/s eta 0:00:01\n",
      "   ------------------------------- -------- 204.8/258.3 kB 1.2 MB/s eta 0:00:01\n",
      "   ---------------------------------------- 258.3/258.3 kB 1.4 MB/s eta 0:00:00\n",
      "Installing collected packages: imbalanced-learn\n",
      "Successfully installed imbalanced-learn-0.12.3\n",
      "Note: you may need to restart the kernel to use updated packages.\n"
     ]
    },
    {
     "name": "stderr",
     "output_type": "stream",
     "text": [
      "  WARNING: Retrying (Retry(total=4, connect=None, read=None, redirect=None, status=None)) after connection broken by 'SSLError(SSLCertVerificationError(1, '[SSL: CERTIFICATE_VERIFY_FAILED] certificate verify failed: self-signed certificate in certificate chain (_ssl.c:1000)'))': /packages/5a/fa/267de06c95210580f4b82b45cec1ce1e9ce1f21a01a684367db89e7da70d/imbalanced_learn-0.12.3-py3-none-any.whl.metadata\n",
      "\n",
      "[notice] A new release of pip is available: 24.0 -> 24.2\n",
      "[notice] To update, run: python.exe -m pip install --upgrade pip\n"
     ]
    }
   ],
   "source": [
    "pip install imbalanced-learn"
   ]
  },
  {
   "cell_type": "code",
   "execution_count": 33,
   "id": "70924f42",
   "metadata": {},
   "outputs": [
    {
     "data": {
      "text/plain": [
       "Counter({2: 19894, 1: 17771, 3: 14161, 4: 3635, 5: 82})"
      ]
     },
     "execution_count": 33,
     "metadata": {},
     "output_type": "execute_result"
    }
   ],
   "source": [
    "from collections import Counter\n",
    "counter = Counter(y_train)\n",
    "counter"
   ]
  },
  {
   "cell_type": "markdown",
   "id": "4a5509ac",
   "metadata": {},
   "source": [
    "Como se ve, las clases 4 y 5 (popularidades media/alta y alta) tienen muy pocos datos, entonces aplicamos SMOTE para balancear"
   ]
  },
  {
   "cell_type": "code",
   "execution_count": 34,
   "id": "27978a78",
   "metadata": {},
   "outputs": [],
   "source": [
    "'''Para Balancear los datos, se utilizara el metodo SMOTE\n",
    "donde se busca repetir datos de las clases minoritarias para aumentar su proporcion'''\n",
    "\n",
    "\n",
    "from imblearn.over_sampling import SMOTE \n",
    "\n",
    "sm = SMOTE(random_state=13)\n",
    "X_res, y_res = sm.fit_resample(X_train, y_train)"
   ]
  },
  {
   "cell_type": "code",
   "execution_count": 35,
   "id": "dc734b55",
   "metadata": {},
   "outputs": [
    {
     "name": "stdout",
     "output_type": "stream",
     "text": [
      "Counter({2: 19894, 1: 19894, 4: 19894, 3: 19894, 5: 19894})\n"
     ]
    }
   ],
   "source": [
    "'''Verificamos el balanceo'''\n",
    "counter = Counter(y_res)\n",
    "print(counter)"
   ]
  },
  {
   "cell_type": "markdown",
   "id": "d5f26d97",
   "metadata": {},
   "source": [
    "Ahora repetiremos los entrenamientos con este nuevo train set balanceado"
   ]
  },
  {
   "cell_type": "markdown",
   "id": "8f244007",
   "metadata": {},
   "source": [
    "## Arbol de Decision con SMOTE"
   ]
  },
  {
   "cell_type": "code",
   "execution_count": 36,
   "id": "662e19ec",
   "metadata": {},
   "outputs": [
    {
     "name": "stdout",
     "output_type": "stream",
     "text": [
      "Cross validation score es  0.5313820123191112\n"
     ]
    }
   ],
   "source": [
    "'''Creamos el modelo'''\n",
    "\n",
    "kfold = StratifiedKFold(n_splits=5,shuffle=True, random_state = 13)  #Agregaremos Cross-Validation para este metodo\n",
    "\n",
    "modelArbol= tree.DecisionTreeClassifier(random_state = 13) \n",
    "\n",
    "modelArbol.fit(X_res, y_res) \n",
    "\n",
    "CV_scores = cross_val_score(modelArbol, X_res, y_res, cv=kfold, scoring = \"f1_weighted\")\n",
    "\n",
    "print(f'Cross validation score es  {CV_scores.mean()}')"
   ]
  },
  {
   "cell_type": "markdown",
   "id": "ed4bafcf",
   "metadata": {},
   "source": [
    "## Random Forest con SMOTE"
   ]
  },
  {
   "cell_type": "code",
   "execution_count": 37,
   "id": "9671a2b0",
   "metadata": {},
   "outputs": [],
   "source": [
    "'''Creamos el modelo'''\n",
    "\n",
    "modelo_random_forest = RandomForestClassifier(n_estimators = 25,random_state = 13) \n",
    "modelo_random_forest.fit(X_res, y_res)\n",
    "\n",
    "#Se hace la prediccion\n",
    "yPredForest = modelo_random_forest.predict(X_test)"
   ]
  },
  {
   "cell_type": "code",
   "execution_count": 38,
   "id": "6b40dbc6",
   "metadata": {},
   "outputs": [
    {
     "name": "stdout",
     "output_type": "stream",
     "text": [
      "              precision    recall  f1-score   support\n",
      "\n",
      "           1       0.42      0.44      0.43      4488\n",
      "           2       0.40      0.36      0.38      4914\n",
      "           3       0.33      0.31      0.32      3592\n",
      "           4       0.13      0.20      0.16       904\n",
      "           5       0.08      0.05      0.06        22\n",
      "\n",
      "    accuracy                           0.36     13920\n",
      "   macro avg       0.27      0.27      0.27     13920\n",
      "weighted avg       0.37      0.36      0.37     13920\n",
      "\n",
      "           Prediccion Baja  Prediccion MediaBaja  PrediccionMeida  \\\n",
      "Baja                  1985                  1354              820   \n",
      "MediaBaja             1618                  1778             1119   \n",
      "Media                  912                  1122             1126   \n",
      "MediaAlta              208                   221              292   \n",
      "Alta                     9                     3                6   \n",
      "\n",
      "           Prediccion MediaAlta  Prediccion Alta  \n",
      "Baja                        327                2  \n",
      "MediaBaja                   395                4  \n",
      "Media                       430                2  \n",
      "MediaAlta                   179                4  \n",
      "Alta                          3                1  \n"
     ]
    }
   ],
   "source": [
    "#Evaluacion con Metricas\n",
    "\n",
    "f1Forest = f1_score(y_test,yPredForest,average='weighted')\n",
    " \n",
    "print(classification_report(y_test,yPredForest))\n",
    "\n",
    "\n",
    "confusion_matrixForest = pd.DataFrame(confusion_matrix(y_test, yPredForest))\n",
    "confusion_matrixForest.index = ['Baja','MediaBaja','Media','MediaAlta','Alta']\n",
    "confusion_matrixForest.columns = ['Prediccion Baja','Prediccion MediaBaja','PrediccionMeida','Prediccion MediaAlta','Prediccion Alta']\n",
    "\n",
    "print(confusion_matrixForest)"
   ]
  },
  {
   "cell_type": "code",
   "execution_count": null,
   "id": "93b70b20",
   "metadata": {},
   "outputs": [],
   "source": []
  }
 ],
 "metadata": {
  "colab": {
   "collapsed_sections": [
    "8fcb8dd4",
    "efd25574"
   ],
   "name": "ML - Clasificacion.ipynb",
   "provenance": []
  },
  "kernelspec": {
   "display_name": "Python 3.8.9 64-bit",
   "language": "python",
   "name": "python3"
  },
  "language_info": {
   "codemirror_mode": {
    "name": "ipython",
    "version": 3
   },
   "file_extension": ".py",
   "mimetype": "text/x-python",
   "name": "python",
   "nbconvert_exporter": "python",
   "pygments_lexer": "ipython3",
   "version": "3.12.2"
  },
  "vscode": {
   "interpreter": {
    "hash": "31f2aee4e71d21fbe5cf8b01ff0e069b9275f58929596ceb00d14d90e3e16cd6"
   }
  }
 },
 "nbformat": 4,
 "nbformat_minor": 5
}
