{
 "cells": [
  {
   "cell_type": "markdown",
   "metadata": {
    "id": "3a55147b"
   },
   "source": [
    "# Data Cleaning"
   ]
  },
  {
   "cell_type": "code",
   "execution_count": 11,
   "metadata": {
    "colab": {
     "base_uri": "https://localhost:8080/"
    },
    "executionInfo": {
     "elapsed": 124,
     "status": "ok",
     "timestamp": 1658251915967,
     "user": {
      "displayName": "Rossana Scavone",
      "userId": "17148856163347856032"
     },
     "user_tz": 420
    },
    "id": "9fc2be03",
    "outputId": "3208c522-f17e-472c-b7dd-9b1009fc3ab5"
   },
   "outputs": [
    {
     "name": "stdout",
     "output_type": "stream",
     "text": [
      "¡Librerías importadas con éxito!\n"
     ]
    }
   ],
   "source": [
    "#Import\n",
    "\n",
    "import numpy as np\n",
    "import pandas as pd\n",
    "import matplotlib.pyplot as plt\n",
    "%matplotlib inline\n",
    "import seaborn as sns\n",
    "import math\n",
    "\n",
    "print('¡Librerías importadas con éxito!')"
   ]
  },
  {
   "cell_type": "code",
   "execution_count": 12,
   "metadata": {
    "colab": {
     "base_uri": "https://localhost:8080/",
     "height": 236
    },
    "executionInfo": {
     "elapsed": 13718,
     "status": "ok",
     "timestamp": 1658252672563,
     "user": {
      "displayName": "Rossana Scavone",
      "userId": "17148856163347856032"
     },
     "user_tz": 420
    },
    "id": "0c2640d3",
    "outputId": "ddb44692-2e3b-4546-f305-4c9dafad0814"
   },
   "outputs": [
    {
     "data": {
      "text/html": [
       "<div>\n",
       "<style scoped>\n",
       "    .dataframe tbody tr th:only-of-type {\n",
       "        vertical-align: middle;\n",
       "    }\n",
       "\n",
       "    .dataframe tbody tr th {\n",
       "        vertical-align: top;\n",
       "    }\n",
       "\n",
       "    .dataframe thead th {\n",
       "        text-align: right;\n",
       "    }\n",
       "</style>\n",
       "<table border=\"1\" class=\"dataframe\">\n",
       "  <thead>\n",
       "    <tr style=\"text-align: right;\">\n",
       "      <th></th>\n",
       "      <th>id</th>\n",
       "      <th>name</th>\n",
       "      <th>release_date</th>\n",
       "      <th>artists</th>\n",
       "      <th>total_tracks</th>\n",
       "      <th>t_name0</th>\n",
       "      <th>t_name1</th>\n",
       "      <th>t_name2</th>\n",
       "      <th>t_dur0</th>\n",
       "      <th>t_dur1</th>\n",
       "      <th>...</th>\n",
       "      <th>t_val0</th>\n",
       "      <th>t_val1</th>\n",
       "      <th>t_val2</th>\n",
       "      <th>t_tempo0</th>\n",
       "      <th>t_tempo1</th>\n",
       "      <th>t_tempo2</th>\n",
       "      <th>t_sig0</th>\n",
       "      <th>t_sig1</th>\n",
       "      <th>t_sig2</th>\n",
       "      <th>popularity</th>\n",
       "    </tr>\n",
       "  </thead>\n",
       "  <tbody>\n",
       "    <tr>\n",
       "      <th>0</th>\n",
       "      <td>0</td>\n",
       "      <td>Ya Solo Eres Mi Ex</td>\n",
       "      <td>2021-09-09</td>\n",
       "      <td>La Adictiva Banda San José de Mesillas,</td>\n",
       "      <td>7</td>\n",
       "      <td>Ya Solo Eres Mi Ex</td>\n",
       "      <td>La Malagueña</td>\n",
       "      <td>México Lindo y Querido</td>\n",
       "      <td>222133</td>\n",
       "      <td>189133.0</td>\n",
       "      <td>...</td>\n",
       "      <td>0.626</td>\n",
       "      <td>0.878</td>\n",
       "      <td>0.833</td>\n",
       "      <td>74.924</td>\n",
       "      <td>126.970</td>\n",
       "      <td>197.836</td>\n",
       "      <td>4.0</td>\n",
       "      <td>3.0</td>\n",
       "      <td>3.0</td>\n",
       "      <td>51</td>\n",
       "    </tr>\n",
       "    <tr>\n",
       "      <th>1</th>\n",
       "      <td>1</td>\n",
       "      <td>Nibiru</td>\n",
       "      <td>2019-11-29</td>\n",
       "      <td>Ozuna,</td>\n",
       "      <td>18</td>\n",
       "      <td>Nibiru</td>\n",
       "      <td>Hasta Que Salga el Sol</td>\n",
       "      <td>Temporal</td>\n",
       "      <td>158826</td>\n",
       "      <td>188480.0</td>\n",
       "      <td>...</td>\n",
       "      <td>0.158</td>\n",
       "      <td>0.598</td>\n",
       "      <td>0.484</td>\n",
       "      <td>173.023</td>\n",
       "      <td>96.042</td>\n",
       "      <td>148.019</td>\n",
       "      <td>4.0</td>\n",
       "      <td>4.0</td>\n",
       "      <td>4.0</td>\n",
       "      <td>67</td>\n",
       "    </tr>\n",
       "    <tr>\n",
       "      <th>2</th>\n",
       "      <td>2</td>\n",
       "      <td>DAMN.</td>\n",
       "      <td>2017-04-14</td>\n",
       "      <td>Kendrick Lamar,</td>\n",
       "      <td>14</td>\n",
       "      <td>BLOOD.</td>\n",
       "      <td>DNA.</td>\n",
       "      <td>YAH.</td>\n",
       "      <td>118066</td>\n",
       "      <td>185946.0</td>\n",
       "      <td>...</td>\n",
       "      <td>0.494</td>\n",
       "      <td>0.422</td>\n",
       "      <td>0.648</td>\n",
       "      <td>156.907</td>\n",
       "      <td>139.913</td>\n",
       "      <td>69.986</td>\n",
       "      <td>4.0</td>\n",
       "      <td>4.0</td>\n",
       "      <td>4.0</td>\n",
       "      <td>81</td>\n",
       "    </tr>\n",
       "    <tr>\n",
       "      <th>3</th>\n",
       "      <td>3</td>\n",
       "      <td>Did I Shave My Legs For This?</td>\n",
       "      <td>1996-01-01</td>\n",
       "      <td>Deana Carter,</td>\n",
       "      <td>11</td>\n",
       "      <td>I've Loved Enough To Know</td>\n",
       "      <td>We Danced Anyway</td>\n",
       "      <td>Count Me In</td>\n",
       "      <td>203693</td>\n",
       "      <td>202533.0</td>\n",
       "      <td>...</td>\n",
       "      <td>0.755</td>\n",
       "      <td>0.651</td>\n",
       "      <td>0.263</td>\n",
       "      <td>120.285</td>\n",
       "      <td>94.054</td>\n",
       "      <td>130.011</td>\n",
       "      <td>4.0</td>\n",
       "      <td>4.0</td>\n",
       "      <td>4.0</td>\n",
       "      <td>53</td>\n",
       "    </tr>\n",
       "    <tr>\n",
       "      <th>4</th>\n",
       "      <td>4</td>\n",
       "      <td>glisten</td>\n",
       "      <td>2018-05-04</td>\n",
       "      <td>Jeremy Zucker,</td>\n",
       "      <td>4</td>\n",
       "      <td>all the kids are depressed</td>\n",
       "      <td>wildfire</td>\n",
       "      <td>glisten (interlude)</td>\n",
       "      <td>169973</td>\n",
       "      <td>163000.0</td>\n",
       "      <td>...</td>\n",
       "      <td>0.707</td>\n",
       "      <td>0.426</td>\n",
       "      <td>0.466</td>\n",
       "      <td>103.861</td>\n",
       "      <td>129.170</td>\n",
       "      <td>116.349</td>\n",
       "      <td>4.0</td>\n",
       "      <td>4.0</td>\n",
       "      <td>4.0</td>\n",
       "      <td>70</td>\n",
       "    </tr>\n",
       "  </tbody>\n",
       "</table>\n",
       "<p>5 rows × 45 columns</p>\n",
       "</div>"
      ],
      "text/plain": [
       "   id                           name release_date  \\\n",
       "0   0             Ya Solo Eres Mi Ex   2021-09-09   \n",
       "1   1                         Nibiru   2019-11-29   \n",
       "2   2                          DAMN.   2017-04-14   \n",
       "3   3  Did I Shave My Legs For This?   1996-01-01   \n",
       "4   4                        glisten   2018-05-04   \n",
       "\n",
       "                                    artists  total_tracks  \\\n",
       "0  La Adictiva Banda San José de Mesillas,              7   \n",
       "1                                   Ozuna,             18   \n",
       "2                          Kendrick Lamar,             14   \n",
       "3                            Deana Carter,             11   \n",
       "4                           Jeremy Zucker,              4   \n",
       "\n",
       "                      t_name0                 t_name1                 t_name2  \\\n",
       "0          Ya Solo Eres Mi Ex            La Malagueña  México Lindo y Querido   \n",
       "1                      Nibiru  Hasta Que Salga el Sol                Temporal   \n",
       "2                      BLOOD.                    DNA.                    YAH.   \n",
       "3   I've Loved Enough To Know        We Danced Anyway             Count Me In   \n",
       "4  all the kids are depressed                wildfire     glisten (interlude)   \n",
       "\n",
       "   t_dur0    t_dur1  ...  t_val0  t_val1  t_val2  t_tempo0  t_tempo1  \\\n",
       "0  222133  189133.0  ...   0.626   0.878   0.833    74.924   126.970   \n",
       "1  158826  188480.0  ...   0.158   0.598   0.484   173.023    96.042   \n",
       "2  118066  185946.0  ...   0.494   0.422   0.648   156.907   139.913   \n",
       "3  203693  202533.0  ...   0.755   0.651   0.263   120.285    94.054   \n",
       "4  169973  163000.0  ...   0.707   0.426   0.466   103.861   129.170   \n",
       "\n",
       "   t_tempo2  t_sig0  t_sig1  t_sig2  popularity  \n",
       "0   197.836     4.0     3.0     3.0          51  \n",
       "1   148.019     4.0     4.0     4.0          67  \n",
       "2    69.986     4.0     4.0     4.0          81  \n",
       "3   130.011     4.0     4.0     4.0          53  \n",
       "4   116.349     4.0     4.0     4.0          70  \n",
       "\n",
       "[5 rows x 45 columns]"
      ]
     },
     "execution_count": 12,
     "metadata": {},
     "output_type": "execute_result"
    }
   ],
   "source": [
    "#Abrimos el archivo con los datos, que se encuetra en Google Drive\n",
    "\n",
    "url='https://drive.google.com/file/d/1lqdL5E3pjC0ISjsEe_F1N8xIKK8y-0nz/view?usp=sharing'\n",
    "file_id=url.split('/')[-2]\n",
    "dwn_url='https://drive.google.com/uc?id=' + file_id\n",
    "\n",
    "data = pd.read_csv(dwn_url)\n",
    "data.head()"
   ]
  },
  {
   "cell_type": "code",
   "execution_count": 13,
   "metadata": {
    "colab": {
     "base_uri": "https://localhost:8080/"
    },
    "executionInfo": {
     "elapsed": 178,
     "status": "ok",
     "timestamp": 1658251923107,
     "user": {
      "displayName": "Rossana Scavone",
      "userId": "17148856163347856032"
     },
     "user_tz": 420
    },
    "id": "aa053be8",
    "outputId": "d014e1ff-f1b6-4f06-f161-ee96de7ca8e0"
   },
   "outputs": [
    {
     "name": "stdout",
     "output_type": "stream",
     "text": [
      "La base de datos original contiene 160000 filas, que son albumes, y 45 columnas, que son los atributos\n"
     ]
    }
   ],
   "source": [
    "print(f'La base de datos original contiene {data.shape[0]} filas, que son albumes, y {data.shape[1]} columnas, que son los atributos')"
   ]
  },
  {
   "cell_type": "markdown",
   "metadata": {
    "id": "veFWOTTTIppv"
   },
   "source": [
    "## Limpieza Etapa 1\n",
    "\n",
    "- Los primeros pasos se haran sobre todo el conjunto, ya que no utilizan informacion de la data (por lo que el resultado de los mismos seria igual si se hace ahora o luego de dividir el set en Train/Test)\n"
   ]
  },
  {
   "cell_type": "code",
   "execution_count": 15,
   "metadata": {
    "colab": {
     "base_uri": "https://localhost:8080/"
    },
    "executionInfo": {
     "elapsed": 523,
     "status": "ok",
     "timestamp": 1658251925240,
     "user": {
      "displayName": "Rossana Scavone",
      "userId": "17148856163347856032"
     },
     "user_tz": 420
    },
    "id": "8bb81a6b",
    "outputId": "0ab62693-366f-490c-8d28-57813b00115e"
   },
   "outputs": [
    {
     "ename": "KeyError",
     "evalue": "\"None of ['id'] are in the columns\"",
     "output_type": "error",
     "traceback": [
      "\u001b[1;31m---------------------------------------------------------------------------\u001b[0m",
      "\u001b[1;31mKeyError\u001b[0m                                  Traceback (most recent call last)",
      "\u001b[1;32m~\\AppData\\Local\\Temp\\ipykernel_17824\\1741829048.py\u001b[0m in \u001b[0;36m?\u001b[1;34m()\u001b[0m\n\u001b[0;32m      1\u001b[0m \u001b[1;31m#Primeras manipulaciones\u001b[0m\u001b[1;33m\u001b[0m\u001b[1;33m\u001b[0m\u001b[0m\n\u001b[0;32m      2\u001b[0m \u001b[1;33m\u001b[0m\u001b[0m\n\u001b[0;32m      3\u001b[0m \u001b[1;31m## Id como INDEX\u001b[0m\u001b[1;33m\u001b[0m\u001b[1;33m\u001b[0m\u001b[0m\n\u001b[1;32m----> 4\u001b[1;33m \u001b[0mdata\u001b[0m \u001b[1;33m=\u001b[0m \u001b[0mdata\u001b[0m\u001b[1;33m.\u001b[0m\u001b[0mset_index\u001b[0m\u001b[1;33m(\u001b[0m\u001b[1;34m'id'\u001b[0m\u001b[1;33m)\u001b[0m\u001b[1;33m\u001b[0m\u001b[1;33m\u001b[0m\u001b[0m\n\u001b[0m\u001b[0;32m      5\u001b[0m \u001b[1;33m\u001b[0m\u001b[0m\n\u001b[0;32m      6\u001b[0m \u001b[1;31m## Verificacion de dupolicados\u001b[0m\u001b[1;33m\u001b[0m\u001b[1;33m\u001b[0m\u001b[0m\n\u001b[0;32m      7\u001b[0m \u001b[0mduplicados\u001b[0m \u001b[1;33m=\u001b[0m \u001b[0mdata\u001b[0m\u001b[1;33m.\u001b[0m\u001b[0mduplicated\u001b[0m\u001b[1;33m(\u001b[0m\u001b[1;33m)\u001b[0m\u001b[1;33m.\u001b[0m\u001b[0msum\u001b[0m\u001b[1;33m(\u001b[0m\u001b[1;33m)\u001b[0m\u001b[1;33m/\u001b[0m\u001b[0mdata\u001b[0m\u001b[1;33m.\u001b[0m\u001b[0mshape\u001b[0m\u001b[1;33m[\u001b[0m\u001b[1;36m0\u001b[0m\u001b[1;33m]\u001b[0m\u001b[1;33m\u001b[0m\u001b[1;33m\u001b[0m\u001b[0m\n",
      "\u001b[1;32mc:\\PythonXY\\Lib\\site-packages\\pandas\\core\\frame.py\u001b[0m in \u001b[0;36m?\u001b[1;34m(self, keys, drop, append, inplace, verify_integrity)\u001b[0m\n\u001b[0;32m   6118\u001b[0m                     \u001b[1;32mif\u001b[0m \u001b[1;32mnot\u001b[0m \u001b[0mfound\u001b[0m\u001b[1;33m:\u001b[0m\u001b[1;33m\u001b[0m\u001b[1;33m\u001b[0m\u001b[0m\n\u001b[0;32m   6119\u001b[0m                         \u001b[0mmissing\u001b[0m\u001b[1;33m.\u001b[0m\u001b[0mappend\u001b[0m\u001b[1;33m(\u001b[0m\u001b[0mcol\u001b[0m\u001b[1;33m)\u001b[0m\u001b[1;33m\u001b[0m\u001b[1;33m\u001b[0m\u001b[0m\n\u001b[0;32m   6120\u001b[0m \u001b[1;33m\u001b[0m\u001b[0m\n\u001b[0;32m   6121\u001b[0m         \u001b[1;32mif\u001b[0m \u001b[0mmissing\u001b[0m\u001b[1;33m:\u001b[0m\u001b[1;33m\u001b[0m\u001b[1;33m\u001b[0m\u001b[0m\n\u001b[1;32m-> 6122\u001b[1;33m             \u001b[1;32mraise\u001b[0m \u001b[0mKeyError\u001b[0m\u001b[1;33m(\u001b[0m\u001b[1;34mf\"None of {missing} are in the columns\"\u001b[0m\u001b[1;33m)\u001b[0m\u001b[1;33m\u001b[0m\u001b[1;33m\u001b[0m\u001b[0m\n\u001b[0m\u001b[0;32m   6123\u001b[0m \u001b[1;33m\u001b[0m\u001b[0m\n\u001b[0;32m   6124\u001b[0m         \u001b[1;32mif\u001b[0m \u001b[0minplace\u001b[0m\u001b[1;33m:\u001b[0m\u001b[1;33m\u001b[0m\u001b[1;33m\u001b[0m\u001b[0m\n\u001b[0;32m   6125\u001b[0m             \u001b[0mframe\u001b[0m \u001b[1;33m=\u001b[0m \u001b[0mself\u001b[0m\u001b[1;33m\u001b[0m\u001b[1;33m\u001b[0m\u001b[0m\n",
      "\u001b[1;31mKeyError\u001b[0m: \"None of ['id'] are in the columns\""
     ]
    }
   ],
   "source": [
    "#Primeras manipulaciones\n",
    "\n",
    "## Id como INDEX\n",
    "data = data.set_index('id')\n",
    "\n",
    "## Verificacion de dupolicados\n",
    "duplicados = data.duplicated().sum()/data.shape[0]\n",
    "print(f'El {round(duplicados*100,1)}% son duplicados')\n",
    "\n"
   ]
  },
  {
   "cell_type": "code",
   "execution_count": 17,
   "metadata": {
    "colab": {
     "base_uri": "https://localhost:8080/"
    },
    "executionInfo": {
     "elapsed": 506,
     "status": "ok",
     "timestamp": 1658251926633,
     "user": {
      "displayName": "Rossana Scavone",
      "userId": "17148856163347856032"
     },
     "user_tz": 420
    },
    "id": "e9b7323c",
    "outputId": "2cde6a41-e29a-4ce6-f32c-d13ed7f40a8b"
   },
   "outputs": [
    {
     "name": "stdout",
     "output_type": "stream",
     "text": [
      "La base de datos contiene 72357 filas, las cuales corresponden a albumes Unicos, y 44 columnas, que son los atributos\n"
     ]
    }
   ],
   "source": [
    "##Eliminamos duplicados\n",
    "dataUnique = data.drop_duplicates()\n",
    "print(f'La base de datos contiene {dataUnique.shape[0]} filas, las cuales corresponden a albumes Unicos, y {dataUnique.shape[1]} columnas, que son los atributos')"
   ]
  },
  {
   "cell_type": "code",
   "execution_count": 18,
   "metadata": {
    "colab": {
     "base_uri": "https://localhost:8080/"
    },
    "executionInfo": {
     "elapsed": 2,
     "status": "ok",
     "timestamp": 1658251927641,
     "user": {
      "displayName": "Rossana Scavone",
      "userId": "17148856163347856032"
     },
     "user_tz": 420
    },
    "id": "8a2ada11",
    "outputId": "ac2cb66a-fa93-4c7b-a096-9b2312c64ac9"
   },
   "outputs": [
    {
     "name": "stdout",
     "output_type": "stream",
     "text": [
      "Los registros con total_tracks =  1 son 30032 y con total_tracks = 2 son 2391. Los restantes 39934 registros tienen 3 o mas canciones\n"
     ]
    }
   ],
   "source": [
    "#Verificacion de cantidad de canciones\n",
    "oneTrack = dataUnique.loc[dataUnique['total_tracks'] == 1]['name'].count()\n",
    "twoTracks = dataUnique.loc[dataUnique['total_tracks'] == 2]['name'].count()\n",
    "\n",
    "print(f'Los registros con total_tracks =  1 son {oneTrack} y con total_tracks = 2 son {twoTracks}. Los restantes {dataUnique.shape[0]-oneTrack-twoTracks} registros tienen 3 o mas canciones')"
   ]
  },
  {
   "cell_type": "code",
   "execution_count": 19,
   "metadata": {
    "colab": {
     "base_uri": "https://localhost:8080/",
     "height": 1000
    },
    "executionInfo": {
     "elapsed": 728,
     "status": "ok",
     "timestamp": 1658251929636,
     "user": {
      "displayName": "Rossana Scavone",
      "userId": "17148856163347856032"
     },
     "user_tz": 420
    },
    "id": "6e8ac408",
    "outputId": "42121fd3-1ce3-442c-88f4-1baa897fb26c"
   },
   "outputs": [
    {
     "data": {
      "text/html": [
       "<div>\n",
       "<style scoped>\n",
       "    .dataframe tbody tr th:only-of-type {\n",
       "        vertical-align: middle;\n",
       "    }\n",
       "\n",
       "    .dataframe tbody tr th {\n",
       "        vertical-align: top;\n",
       "    }\n",
       "\n",
       "    .dataframe thead th {\n",
       "        text-align: right;\n",
       "    }\n",
       "</style>\n",
       "<table border=\"1\" class=\"dataframe\">\n",
       "  <thead>\n",
       "    <tr style=\"text-align: right;\">\n",
       "      <th></th>\n",
       "      <th>count</th>\n",
       "      <th>unique</th>\n",
       "      <th>top</th>\n",
       "      <th>freq</th>\n",
       "      <th>mean</th>\n",
       "      <th>std</th>\n",
       "      <th>min</th>\n",
       "      <th>25%</th>\n",
       "      <th>50%</th>\n",
       "      <th>75%</th>\n",
       "      <th>max</th>\n",
       "    </tr>\n",
       "  </thead>\n",
       "  <tbody>\n",
       "    <tr>\n",
       "      <th>name</th>\n",
       "      <td>72356</td>\n",
       "      <td>66432</td>\n",
       "      <td>Greatest Hits</td>\n",
       "      <td>46</td>\n",
       "      <td>NaN</td>\n",
       "      <td>NaN</td>\n",
       "      <td>NaN</td>\n",
       "      <td>NaN</td>\n",
       "      <td>NaN</td>\n",
       "      <td>NaN</td>\n",
       "      <td>NaN</td>\n",
       "    </tr>\n",
       "    <tr>\n",
       "      <th>release_date</th>\n",
       "      <td>72357</td>\n",
       "      <td>7574</td>\n",
       "      <td>2021-09-03</td>\n",
       "      <td>622</td>\n",
       "      <td>NaN</td>\n",
       "      <td>NaN</td>\n",
       "      <td>NaN</td>\n",
       "      <td>NaN</td>\n",
       "      <td>NaN</td>\n",
       "      <td>NaN</td>\n",
       "      <td>NaN</td>\n",
       "    </tr>\n",
       "    <tr>\n",
       "      <th>artists</th>\n",
       "      <td>72357</td>\n",
       "      <td>46374</td>\n",
       "      <td>Various Artists,</td>\n",
       "      <td>1662</td>\n",
       "      <td>NaN</td>\n",
       "      <td>NaN</td>\n",
       "      <td>NaN</td>\n",
       "      <td>NaN</td>\n",
       "      <td>NaN</td>\n",
       "      <td>NaN</td>\n",
       "      <td>NaN</td>\n",
       "    </tr>\n",
       "    <tr>\n",
       "      <th>total_tracks</th>\n",
       "      <td>72357.0</td>\n",
       "      <td>NaN</td>\n",
       "      <td>NaN</td>\n",
       "      <td>NaN</td>\n",
       "      <td>8.138356</td>\n",
       "      <td>15.39179</td>\n",
       "      <td>1.0</td>\n",
       "      <td>1.0</td>\n",
       "      <td>5.0</td>\n",
       "      <td>12.0</td>\n",
       "      <td>1190.0</td>\n",
       "    </tr>\n",
       "    <tr>\n",
       "      <th>t_name0</th>\n",
       "      <td>72356</td>\n",
       "      <td>62609</td>\n",
       "      <td>Intro</td>\n",
       "      <td>1053</td>\n",
       "      <td>NaN</td>\n",
       "      <td>NaN</td>\n",
       "      <td>NaN</td>\n",
       "      <td>NaN</td>\n",
       "      <td>NaN</td>\n",
       "      <td>NaN</td>\n",
       "      <td>NaN</td>\n",
       "    </tr>\n",
       "    <tr>\n",
       "      <th>t_name1</th>\n",
       "      <td>42325</td>\n",
       "      <td>38406</td>\n",
       "      <td>Blue Moon</td>\n",
       "      <td>12</td>\n",
       "      <td>NaN</td>\n",
       "      <td>NaN</td>\n",
       "      <td>NaN</td>\n",
       "      <td>NaN</td>\n",
       "      <td>NaN</td>\n",
       "      <td>NaN</td>\n",
       "      <td>NaN</td>\n",
       "    </tr>\n",
       "    <tr>\n",
       "      <th>t_name2</th>\n",
       "      <td>39934</td>\n",
       "      <td>36436</td>\n",
       "      <td>Time</td>\n",
       "      <td>13</td>\n",
       "      <td>NaN</td>\n",
       "      <td>NaN</td>\n",
       "      <td>NaN</td>\n",
       "      <td>NaN</td>\n",
       "      <td>NaN</td>\n",
       "      <td>NaN</td>\n",
       "      <td>NaN</td>\n",
       "    </tr>\n",
       "    <tr>\n",
       "      <th>t_dur0</th>\n",
       "      <td>72357.0</td>\n",
       "      <td>NaN</td>\n",
       "      <td>NaN</td>\n",
       "      <td>NaN</td>\n",
       "      <td>205603.853753</td>\n",
       "      <td>140451.775697</td>\n",
       "      <td>1485.0</td>\n",
       "      <td>151030.0</td>\n",
       "      <td>192647.0</td>\n",
       "      <td>236493.0</td>\n",
       "      <td>10828190.0</td>\n",
       "    </tr>\n",
       "    <tr>\n",
       "      <th>t_dur1</th>\n",
       "      <td>42325.0</td>\n",
       "      <td>NaN</td>\n",
       "      <td>NaN</td>\n",
       "      <td>NaN</td>\n",
       "      <td>223525.931837</td>\n",
       "      <td>145620.551997</td>\n",
       "      <td>4120.0</td>\n",
       "      <td>166306.0</td>\n",
       "      <td>207760.0</td>\n",
       "      <td>254492.0</td>\n",
       "      <td>7054236.0</td>\n",
       "    </tr>\n",
       "    <tr>\n",
       "      <th>t_dur2</th>\n",
       "      <td>39934.0</td>\n",
       "      <td>NaN</td>\n",
       "      <td>NaN</td>\n",
       "      <td>NaN</td>\n",
       "      <td>222122.601793</td>\n",
       "      <td>125090.334057</td>\n",
       "      <td>4285.0</td>\n",
       "      <td>165920.0</td>\n",
       "      <td>208415.5</td>\n",
       "      <td>256000.0</td>\n",
       "      <td>6145123.0</td>\n",
       "    </tr>\n",
       "    <tr>\n",
       "      <th>t_dance0</th>\n",
       "      <td>72277.0</td>\n",
       "      <td>NaN</td>\n",
       "      <td>NaN</td>\n",
       "      <td>NaN</td>\n",
       "      <td>0.611694</td>\n",
       "      <td>0.185854</td>\n",
       "      <td>0.0</td>\n",
       "      <td>0.498</td>\n",
       "      <td>0.639</td>\n",
       "      <td>0.751</td>\n",
       "      <td>0.988</td>\n",
       "    </tr>\n",
       "    <tr>\n",
       "      <th>t_dance1</th>\n",
       "      <td>42267.0</td>\n",
       "      <td>NaN</td>\n",
       "      <td>NaN</td>\n",
       "      <td>NaN</td>\n",
       "      <td>0.592672</td>\n",
       "      <td>0.184969</td>\n",
       "      <td>0.0</td>\n",
       "      <td>0.478</td>\n",
       "      <td>0.616</td>\n",
       "      <td>0.731</td>\n",
       "      <td>0.992</td>\n",
       "    </tr>\n",
       "    <tr>\n",
       "      <th>t_dance2</th>\n",
       "      <td>39891.0</td>\n",
       "      <td>NaN</td>\n",
       "      <td>NaN</td>\n",
       "      <td>NaN</td>\n",
       "      <td>0.591337</td>\n",
       "      <td>0.185071</td>\n",
       "      <td>0.0</td>\n",
       "      <td>0.475</td>\n",
       "      <td>0.614</td>\n",
       "      <td>0.731</td>\n",
       "      <td>0.982</td>\n",
       "    </tr>\n",
       "    <tr>\n",
       "      <th>t_energy0</th>\n",
       "      <td>72277.0</td>\n",
       "      <td>NaN</td>\n",
       "      <td>NaN</td>\n",
       "      <td>NaN</td>\n",
       "      <td>0.595144</td>\n",
       "      <td>0.240614</td>\n",
       "      <td>0.0</td>\n",
       "      <td>0.443</td>\n",
       "      <td>0.622</td>\n",
       "      <td>0.785</td>\n",
       "      <td>1.0</td>\n",
       "    </tr>\n",
       "    <tr>\n",
       "      <th>t_energy1</th>\n",
       "      <td>42267.0</td>\n",
       "      <td>NaN</td>\n",
       "      <td>NaN</td>\n",
       "      <td>NaN</td>\n",
       "      <td>0.605087</td>\n",
       "      <td>0.249558</td>\n",
       "      <td>0.0</td>\n",
       "      <td>0.444</td>\n",
       "      <td>0.638</td>\n",
       "      <td>0.807</td>\n",
       "      <td>1.0</td>\n",
       "    </tr>\n",
       "    <tr>\n",
       "      <th>t_energy2</th>\n",
       "      <td>39891.0</td>\n",
       "      <td>NaN</td>\n",
       "      <td>NaN</td>\n",
       "      <td>NaN</td>\n",
       "      <td>0.594822</td>\n",
       "      <td>0.248885</td>\n",
       "      <td>0.0</td>\n",
       "      <td>0.429</td>\n",
       "      <td>0.624</td>\n",
       "      <td>0.795</td>\n",
       "      <td>1.0</td>\n",
       "    </tr>\n",
       "    <tr>\n",
       "      <th>t_key0</th>\n",
       "      <td>72277.0</td>\n",
       "      <td>NaN</td>\n",
       "      <td>NaN</td>\n",
       "      <td>NaN</td>\n",
       "      <td>5.254327</td>\n",
       "      <td>3.606658</td>\n",
       "      <td>0.0</td>\n",
       "      <td>2.0</td>\n",
       "      <td>5.0</td>\n",
       "      <td>8.0</td>\n",
       "      <td>11.0</td>\n",
       "    </tr>\n",
       "    <tr>\n",
       "      <th>t_key1</th>\n",
       "      <td>42267.0</td>\n",
       "      <td>NaN</td>\n",
       "      <td>NaN</td>\n",
       "      <td>NaN</td>\n",
       "      <td>5.233563</td>\n",
       "      <td>3.593287</td>\n",
       "      <td>0.0</td>\n",
       "      <td>2.0</td>\n",
       "      <td>5.0</td>\n",
       "      <td>8.0</td>\n",
       "      <td>11.0</td>\n",
       "    </tr>\n",
       "    <tr>\n",
       "      <th>t_key2</th>\n",
       "      <td>39891.0</td>\n",
       "      <td>NaN</td>\n",
       "      <td>NaN</td>\n",
       "      <td>NaN</td>\n",
       "      <td>5.236294</td>\n",
       "      <td>3.589331</td>\n",
       "      <td>0.0</td>\n",
       "      <td>2.0</td>\n",
       "      <td>5.0</td>\n",
       "      <td>8.0</td>\n",
       "      <td>11.0</td>\n",
       "    </tr>\n",
       "    <tr>\n",
       "      <th>t_mode0</th>\n",
       "      <td>72277.0</td>\n",
       "      <td>NaN</td>\n",
       "      <td>NaN</td>\n",
       "      <td>NaN</td>\n",
       "      <td>0.58962</td>\n",
       "      <td>0.491906</td>\n",
       "      <td>0.0</td>\n",
       "      <td>0.0</td>\n",
       "      <td>1.0</td>\n",
       "      <td>1.0</td>\n",
       "      <td>1.0</td>\n",
       "    </tr>\n",
       "    <tr>\n",
       "      <th>t_mode1</th>\n",
       "      <td>42267.0</td>\n",
       "      <td>NaN</td>\n",
       "      <td>NaN</td>\n",
       "      <td>NaN</td>\n",
       "      <td>0.615374</td>\n",
       "      <td>0.486513</td>\n",
       "      <td>0.0</td>\n",
       "      <td>0.0</td>\n",
       "      <td>1.0</td>\n",
       "      <td>1.0</td>\n",
       "      <td>1.0</td>\n",
       "    </tr>\n",
       "    <tr>\n",
       "      <th>t_mode2</th>\n",
       "      <td>39891.0</td>\n",
       "      <td>NaN</td>\n",
       "      <td>NaN</td>\n",
       "      <td>NaN</td>\n",
       "      <td>0.616204</td>\n",
       "      <td>0.486315</td>\n",
       "      <td>0.0</td>\n",
       "      <td>0.0</td>\n",
       "      <td>1.0</td>\n",
       "      <td>1.0</td>\n",
       "      <td>1.0</td>\n",
       "    </tr>\n",
       "    <tr>\n",
       "      <th>t_speech0</th>\n",
       "      <td>72277.0</td>\n",
       "      <td>NaN</td>\n",
       "      <td>NaN</td>\n",
       "      <td>NaN</td>\n",
       "      <td>0.133816</td>\n",
       "      <td>0.147881</td>\n",
       "      <td>0.0</td>\n",
       "      <td>0.0411</td>\n",
       "      <td>0.0656</td>\n",
       "      <td>0.175</td>\n",
       "      <td>0.968</td>\n",
       "    </tr>\n",
       "    <tr>\n",
       "      <th>t_speech1</th>\n",
       "      <td>42267.0</td>\n",
       "      <td>NaN</td>\n",
       "      <td>NaN</td>\n",
       "      <td>NaN</td>\n",
       "      <td>0.117771</td>\n",
       "      <td>0.138433</td>\n",
       "      <td>0.0</td>\n",
       "      <td>0.0387</td>\n",
       "      <td>0.0572</td>\n",
       "      <td>0.135</td>\n",
       "      <td>0.971</td>\n",
       "    </tr>\n",
       "    <tr>\n",
       "      <th>t_speech2</th>\n",
       "      <td>39891.0</td>\n",
       "      <td>NaN</td>\n",
       "      <td>NaN</td>\n",
       "      <td>NaN</td>\n",
       "      <td>0.119351</td>\n",
       "      <td>0.141903</td>\n",
       "      <td>0.0</td>\n",
       "      <td>0.0382</td>\n",
       "      <td>0.0567</td>\n",
       "      <td>0.139</td>\n",
       "      <td>0.97</td>\n",
       "    </tr>\n",
       "    <tr>\n",
       "      <th>t_acous0</th>\n",
       "      <td>72277.0</td>\n",
       "      <td>NaN</td>\n",
       "      <td>NaN</td>\n",
       "      <td>NaN</td>\n",
       "      <td>0.312558</td>\n",
       "      <td>0.31708</td>\n",
       "      <td>0.0</td>\n",
       "      <td>0.0343</td>\n",
       "      <td>0.189</td>\n",
       "      <td>0.544</td>\n",
       "      <td>0.996</td>\n",
       "    </tr>\n",
       "    <tr>\n",
       "      <th>t_acous1</th>\n",
       "      <td>42267.0</td>\n",
       "      <td>NaN</td>\n",
       "      <td>NaN</td>\n",
       "      <td>NaN</td>\n",
       "      <td>0.308157</td>\n",
       "      <td>0.323796</td>\n",
       "      <td>0.0</td>\n",
       "      <td>0.02545</td>\n",
       "      <td>0.175</td>\n",
       "      <td>0.546</td>\n",
       "      <td>0.996</td>\n",
       "    </tr>\n",
       "    <tr>\n",
       "      <th>t_acous2</th>\n",
       "      <td>39891.0</td>\n",
       "      <td>NaN</td>\n",
       "      <td>NaN</td>\n",
       "      <td>NaN</td>\n",
       "      <td>0.319731</td>\n",
       "      <td>0.326134</td>\n",
       "      <td>0.0</td>\n",
       "      <td>0.0299</td>\n",
       "      <td>0.19</td>\n",
       "      <td>0.57</td>\n",
       "      <td>0.996</td>\n",
       "    </tr>\n",
       "    <tr>\n",
       "      <th>t_ins0</th>\n",
       "      <td>72277.0</td>\n",
       "      <td>NaN</td>\n",
       "      <td>NaN</td>\n",
       "      <td>NaN</td>\n",
       "      <td>0.1836</td>\n",
       "      <td>0.333071</td>\n",
       "      <td>0.0</td>\n",
       "      <td>0.0</td>\n",
       "      <td>0.000045</td>\n",
       "      <td>0.136</td>\n",
       "      <td>1.0</td>\n",
       "    </tr>\n",
       "    <tr>\n",
       "      <th>t_ins1</th>\n",
       "      <td>42267.0</td>\n",
       "      <td>NaN</td>\n",
       "      <td>NaN</td>\n",
       "      <td>NaN</td>\n",
       "      <td>0.202304</td>\n",
       "      <td>0.344587</td>\n",
       "      <td>0.0</td>\n",
       "      <td>0.0</td>\n",
       "      <td>0.000104</td>\n",
       "      <td>0.2705</td>\n",
       "      <td>1.0</td>\n",
       "    </tr>\n",
       "    <tr>\n",
       "      <th>t_ins2</th>\n",
       "      <td>39891.0</td>\n",
       "      <td>NaN</td>\n",
       "      <td>NaN</td>\n",
       "      <td>NaN</td>\n",
       "      <td>0.195597</td>\n",
       "      <td>0.341189</td>\n",
       "      <td>0.0</td>\n",
       "      <td>0.0</td>\n",
       "      <td>0.00007</td>\n",
       "      <td>0.206</td>\n",
       "      <td>1.0</td>\n",
       "    </tr>\n",
       "    <tr>\n",
       "      <th>t_live0</th>\n",
       "      <td>72277.0</td>\n",
       "      <td>NaN</td>\n",
       "      <td>NaN</td>\n",
       "      <td>NaN</td>\n",
       "      <td>0.194492</td>\n",
       "      <td>0.161831</td>\n",
       "      <td>0.0</td>\n",
       "      <td>0.0974</td>\n",
       "      <td>0.125</td>\n",
       "      <td>0.246</td>\n",
       "      <td>0.995</td>\n",
       "    </tr>\n",
       "    <tr>\n",
       "      <th>t_live1</th>\n",
       "      <td>42267.0</td>\n",
       "      <td>NaN</td>\n",
       "      <td>NaN</td>\n",
       "      <td>NaN</td>\n",
       "      <td>0.196697</td>\n",
       "      <td>0.168</td>\n",
       "      <td>0.0</td>\n",
       "      <td>0.0965</td>\n",
       "      <td>0.126</td>\n",
       "      <td>0.247</td>\n",
       "      <td>0.998</td>\n",
       "    </tr>\n",
       "    <tr>\n",
       "      <th>t_live2</th>\n",
       "      <td>39891.0</td>\n",
       "      <td>NaN</td>\n",
       "      <td>NaN</td>\n",
       "      <td>NaN</td>\n",
       "      <td>0.196677</td>\n",
       "      <td>0.167847</td>\n",
       "      <td>0.0</td>\n",
       "      <td>0.0972</td>\n",
       "      <td>0.126</td>\n",
       "      <td>0.246</td>\n",
       "      <td>0.996</td>\n",
       "    </tr>\n",
       "    <tr>\n",
       "      <th>t_val0</th>\n",
       "      <td>72277.0</td>\n",
       "      <td>NaN</td>\n",
       "      <td>NaN</td>\n",
       "      <td>NaN</td>\n",
       "      <td>0.467151</td>\n",
       "      <td>0.256425</td>\n",
       "      <td>0.0</td>\n",
       "      <td>0.259</td>\n",
       "      <td>0.46</td>\n",
       "      <td>0.669</td>\n",
       "      <td>1.0</td>\n",
       "    </tr>\n",
       "    <tr>\n",
       "      <th>t_val1</th>\n",
       "      <td>42267.0</td>\n",
       "      <td>NaN</td>\n",
       "      <td>NaN</td>\n",
       "      <td>NaN</td>\n",
       "      <td>0.483532</td>\n",
       "      <td>0.261147</td>\n",
       "      <td>0.0</td>\n",
       "      <td>0.273</td>\n",
       "      <td>0.483</td>\n",
       "      <td>0.69</td>\n",
       "      <td>1.0</td>\n",
       "    </tr>\n",
       "    <tr>\n",
       "      <th>t_val2</th>\n",
       "      <td>39891.0</td>\n",
       "      <td>NaN</td>\n",
       "      <td>NaN</td>\n",
       "      <td>NaN</td>\n",
       "      <td>0.481267</td>\n",
       "      <td>0.261174</td>\n",
       "      <td>0.0</td>\n",
       "      <td>0.27</td>\n",
       "      <td>0.478</td>\n",
       "      <td>0.689</td>\n",
       "      <td>1.0</td>\n",
       "    </tr>\n",
       "    <tr>\n",
       "      <th>t_tempo0</th>\n",
       "      <td>72277.0</td>\n",
       "      <td>NaN</td>\n",
       "      <td>NaN</td>\n",
       "      <td>NaN</td>\n",
       "      <td>120.185421</td>\n",
       "      <td>30.290521</td>\n",
       "      <td>0.0</td>\n",
       "      <td>96.438</td>\n",
       "      <td>120.024</td>\n",
       "      <td>139.997</td>\n",
       "      <td>239.713</td>\n",
       "    </tr>\n",
       "    <tr>\n",
       "      <th>t_tempo1</th>\n",
       "      <td>42267.0</td>\n",
       "      <td>NaN</td>\n",
       "      <td>NaN</td>\n",
       "      <td>NaN</td>\n",
       "      <td>120.620721</td>\n",
       "      <td>30.407198</td>\n",
       "      <td>0.0</td>\n",
       "      <td>96.2835</td>\n",
       "      <td>120.008</td>\n",
       "      <td>140.02</td>\n",
       "      <td>248.5</td>\n",
       "    </tr>\n",
       "    <tr>\n",
       "      <th>t_tempo2</th>\n",
       "      <td>39891.0</td>\n",
       "      <td>NaN</td>\n",
       "      <td>NaN</td>\n",
       "      <td>NaN</td>\n",
       "      <td>120.618424</td>\n",
       "      <td>30.626511</td>\n",
       "      <td>0.0</td>\n",
       "      <td>96.0265</td>\n",
       "      <td>120.006</td>\n",
       "      <td>140.044</td>\n",
       "      <td>246.322</td>\n",
       "    </tr>\n",
       "    <tr>\n",
       "      <th>t_sig0</th>\n",
       "      <td>72277.0</td>\n",
       "      <td>NaN</td>\n",
       "      <td>NaN</td>\n",
       "      <td>NaN</td>\n",
       "      <td>3.905585</td>\n",
       "      <td>0.476403</td>\n",
       "      <td>0.0</td>\n",
       "      <td>4.0</td>\n",
       "      <td>4.0</td>\n",
       "      <td>4.0</td>\n",
       "      <td>5.0</td>\n",
       "    </tr>\n",
       "    <tr>\n",
       "      <th>t_sig1</th>\n",
       "      <td>42267.0</td>\n",
       "      <td>NaN</td>\n",
       "      <td>NaN</td>\n",
       "      <td>NaN</td>\n",
       "      <td>3.896752</td>\n",
       "      <td>0.465164</td>\n",
       "      <td>0.0</td>\n",
       "      <td>4.0</td>\n",
       "      <td>4.0</td>\n",
       "      <td>4.0</td>\n",
       "      <td>5.0</td>\n",
       "    </tr>\n",
       "    <tr>\n",
       "      <th>t_sig2</th>\n",
       "      <td>39891.0</td>\n",
       "      <td>NaN</td>\n",
       "      <td>NaN</td>\n",
       "      <td>NaN</td>\n",
       "      <td>3.889724</td>\n",
       "      <td>0.487803</td>\n",
       "      <td>0.0</td>\n",
       "      <td>4.0</td>\n",
       "      <td>4.0</td>\n",
       "      <td>4.0</td>\n",
       "      <td>5.0</td>\n",
       "    </tr>\n",
       "    <tr>\n",
       "      <th>popularity</th>\n",
       "      <td>72357.0</td>\n",
       "      <td>NaN</td>\n",
       "      <td>NaN</td>\n",
       "      <td>NaN</td>\n",
       "      <td>30.998632</td>\n",
       "      <td>18.379102</td>\n",
       "      <td>1.0</td>\n",
       "      <td>16.0</td>\n",
       "      <td>30.0</td>\n",
       "      <td>45.0</td>\n",
       "      <td>100.0</td>\n",
       "    </tr>\n",
       "  </tbody>\n",
       "</table>\n",
       "</div>"
      ],
      "text/plain": [
       "                count unique                top  freq           mean  \\\n",
       "name            72356  66432      Greatest Hits    46            NaN   \n",
       "release_date    72357   7574         2021-09-03   622            NaN   \n",
       "artists         72357  46374  Various Artists,   1662            NaN   \n",
       "total_tracks  72357.0    NaN                NaN   NaN       8.138356   \n",
       "t_name0         72356  62609              Intro  1053            NaN   \n",
       "t_name1         42325  38406          Blue Moon    12            NaN   \n",
       "t_name2         39934  36436               Time    13            NaN   \n",
       "t_dur0        72357.0    NaN                NaN   NaN  205603.853753   \n",
       "t_dur1        42325.0    NaN                NaN   NaN  223525.931837   \n",
       "t_dur2        39934.0    NaN                NaN   NaN  222122.601793   \n",
       "t_dance0      72277.0    NaN                NaN   NaN       0.611694   \n",
       "t_dance1      42267.0    NaN                NaN   NaN       0.592672   \n",
       "t_dance2      39891.0    NaN                NaN   NaN       0.591337   \n",
       "t_energy0     72277.0    NaN                NaN   NaN       0.595144   \n",
       "t_energy1     42267.0    NaN                NaN   NaN       0.605087   \n",
       "t_energy2     39891.0    NaN                NaN   NaN       0.594822   \n",
       "t_key0        72277.0    NaN                NaN   NaN       5.254327   \n",
       "t_key1        42267.0    NaN                NaN   NaN       5.233563   \n",
       "t_key2        39891.0    NaN                NaN   NaN       5.236294   \n",
       "t_mode0       72277.0    NaN                NaN   NaN        0.58962   \n",
       "t_mode1       42267.0    NaN                NaN   NaN       0.615374   \n",
       "t_mode2       39891.0    NaN                NaN   NaN       0.616204   \n",
       "t_speech0     72277.0    NaN                NaN   NaN       0.133816   \n",
       "t_speech1     42267.0    NaN                NaN   NaN       0.117771   \n",
       "t_speech2     39891.0    NaN                NaN   NaN       0.119351   \n",
       "t_acous0      72277.0    NaN                NaN   NaN       0.312558   \n",
       "t_acous1      42267.0    NaN                NaN   NaN       0.308157   \n",
       "t_acous2      39891.0    NaN                NaN   NaN       0.319731   \n",
       "t_ins0        72277.0    NaN                NaN   NaN         0.1836   \n",
       "t_ins1        42267.0    NaN                NaN   NaN       0.202304   \n",
       "t_ins2        39891.0    NaN                NaN   NaN       0.195597   \n",
       "t_live0       72277.0    NaN                NaN   NaN       0.194492   \n",
       "t_live1       42267.0    NaN                NaN   NaN       0.196697   \n",
       "t_live2       39891.0    NaN                NaN   NaN       0.196677   \n",
       "t_val0        72277.0    NaN                NaN   NaN       0.467151   \n",
       "t_val1        42267.0    NaN                NaN   NaN       0.483532   \n",
       "t_val2        39891.0    NaN                NaN   NaN       0.481267   \n",
       "t_tempo0      72277.0    NaN                NaN   NaN     120.185421   \n",
       "t_tempo1      42267.0    NaN                NaN   NaN     120.620721   \n",
       "t_tempo2      39891.0    NaN                NaN   NaN     120.618424   \n",
       "t_sig0        72277.0    NaN                NaN   NaN       3.905585   \n",
       "t_sig1        42267.0    NaN                NaN   NaN       3.896752   \n",
       "t_sig2        39891.0    NaN                NaN   NaN       3.889724   \n",
       "popularity    72357.0    NaN                NaN   NaN      30.998632   \n",
       "\n",
       "                        std     min       25%       50%       75%         max  \n",
       "name                    NaN     NaN       NaN       NaN       NaN         NaN  \n",
       "release_date            NaN     NaN       NaN       NaN       NaN         NaN  \n",
       "artists                 NaN     NaN       NaN       NaN       NaN         NaN  \n",
       "total_tracks       15.39179     1.0       1.0       5.0      12.0      1190.0  \n",
       "t_name0                 NaN     NaN       NaN       NaN       NaN         NaN  \n",
       "t_name1                 NaN     NaN       NaN       NaN       NaN         NaN  \n",
       "t_name2                 NaN     NaN       NaN       NaN       NaN         NaN  \n",
       "t_dur0        140451.775697  1485.0  151030.0  192647.0  236493.0  10828190.0  \n",
       "t_dur1        145620.551997  4120.0  166306.0  207760.0  254492.0   7054236.0  \n",
       "t_dur2        125090.334057  4285.0  165920.0  208415.5  256000.0   6145123.0  \n",
       "t_dance0           0.185854     0.0     0.498     0.639     0.751       0.988  \n",
       "t_dance1           0.184969     0.0     0.478     0.616     0.731       0.992  \n",
       "t_dance2           0.185071     0.0     0.475     0.614     0.731       0.982  \n",
       "t_energy0          0.240614     0.0     0.443     0.622     0.785         1.0  \n",
       "t_energy1          0.249558     0.0     0.444     0.638     0.807         1.0  \n",
       "t_energy2          0.248885     0.0     0.429     0.624     0.795         1.0  \n",
       "t_key0             3.606658     0.0       2.0       5.0       8.0        11.0  \n",
       "t_key1             3.593287     0.0       2.0       5.0       8.0        11.0  \n",
       "t_key2             3.589331     0.0       2.0       5.0       8.0        11.0  \n",
       "t_mode0            0.491906     0.0       0.0       1.0       1.0         1.0  \n",
       "t_mode1            0.486513     0.0       0.0       1.0       1.0         1.0  \n",
       "t_mode2            0.486315     0.0       0.0       1.0       1.0         1.0  \n",
       "t_speech0          0.147881     0.0    0.0411    0.0656     0.175       0.968  \n",
       "t_speech1          0.138433     0.0    0.0387    0.0572     0.135       0.971  \n",
       "t_speech2          0.141903     0.0    0.0382    0.0567     0.139        0.97  \n",
       "t_acous0            0.31708     0.0    0.0343     0.189     0.544       0.996  \n",
       "t_acous1           0.323796     0.0   0.02545     0.175     0.546       0.996  \n",
       "t_acous2           0.326134     0.0    0.0299      0.19      0.57       0.996  \n",
       "t_ins0             0.333071     0.0       0.0  0.000045     0.136         1.0  \n",
       "t_ins1             0.344587     0.0       0.0  0.000104    0.2705         1.0  \n",
       "t_ins2             0.341189     0.0       0.0   0.00007     0.206         1.0  \n",
       "t_live0            0.161831     0.0    0.0974     0.125     0.246       0.995  \n",
       "t_live1               0.168     0.0    0.0965     0.126     0.247       0.998  \n",
       "t_live2            0.167847     0.0    0.0972     0.126     0.246       0.996  \n",
       "t_val0             0.256425     0.0     0.259      0.46     0.669         1.0  \n",
       "t_val1             0.261147     0.0     0.273     0.483      0.69         1.0  \n",
       "t_val2             0.261174     0.0      0.27     0.478     0.689         1.0  \n",
       "t_tempo0          30.290521     0.0    96.438   120.024   139.997     239.713  \n",
       "t_tempo1          30.407198     0.0   96.2835   120.008    140.02       248.5  \n",
       "t_tempo2          30.626511     0.0   96.0265   120.006   140.044     246.322  \n",
       "t_sig0             0.476403     0.0       4.0       4.0       4.0         5.0  \n",
       "t_sig1             0.465164     0.0       4.0       4.0       4.0         5.0  \n",
       "t_sig2             0.487803     0.0       4.0       4.0       4.0         5.0  \n",
       "popularity        18.379102     1.0      16.0      30.0      45.0       100.0  "
      ]
     },
     "execution_count": 19,
     "metadata": {},
     "output_type": "execute_result"
    }
   ],
   "source": [
    "dataUnique.describe(include='all').T"
   ]
  },
  {
   "cell_type": "markdown",
   "metadata": {
    "id": "16e05ac2"
   },
   "source": [
    "### Descripcion de los Atributos\n",
    "\n",
    "A continuacion se listan y describen las columnas del data set\n",
    "\n",
    "- **ID**: Variable de identificación de registros\n",
    "- **Name**: Nombre del álbum\n",
    "- **Release Date**: Fecha en que se presento el álbum\n",
    "- **Artists**: Artistas del álbum\n",
    "- **Total Tracks**: Numero total de canciones en el álbum\n",
    "- **Name**: Nombre de la canción \n",
    "- **Duration**: Duracion de la canción en ms (milisegundos)\n",
    "- **Danceability**: Atributo que describe que tan bailable es la canción. Su valor esta en el rango de [0,1], donde ‘0’ es menos bailable y ‘1’ es lo mas bailable.\n",
    "- **Energy**: Atributo que describe la intensidad de la canción. Su valor esta en el rango de [0,1], siendo ‘1’ el valor para canciones mas energéticas\n",
    "- **Key**: Tonalidad en que esta escrita la canción. Esta variable es un entero entre [0,11], donde la tonalidad C=0, C#=1 y asi hasta B=11.\n",
    "- **Mode**: Atributo que indica la Modalidad de la canción. Toma valor “0” si la modalidad es Menor y “1” si la modalidad es Mayor\n",
    "- **Speechiness**: Atributo que detecta la presencia de discursos dentro de una canción. Su valor esta en el rango de [0,1]. Cuanto mas exclusivamente hablada sea la canción, mas cercano a 1 sera el valor de este atributo. \n",
    "- **Acousticness**: Atributo que detecta si una canción es acústica. Su valor esta en el rango de [0,1]. Valores cercanos a 1 representan canciones acústicas\n",
    "- **Instrumentalness**: Atributo que detecta la ausencia de voz en la canción. Su valor esta en el rango de [0,1]. Valores cercanos a 1 representan canciones completamente instrumentales. \n",
    "- **Liveness**: Atributo que detecta la presencia de una audiencia en la canción. Su valor esta en el rango de [0,1]. Valores cercanos a 1 representan canciones en vivo. \n",
    "- **Valence**: Atributo que busca describir la positividad musical de la canción. Su valor esta en el rango de [0,1]. Valores cercanos a 1 representan canciones mas “positivas”.\n",
    "- **Tempo**: Tempo estimado de la canción en pulsaciones por minuto (beats per minute BPM).\n",
    "- **Time Signature**: Marca de tiempo de la canción (es la forma de especificar cuantas pulsaciones hay en un compas). \n",
    "- **Popularity**: VARIABLE TARGET. Valor de popularidad del Album. Su valor esta en el rango de [1,100]\n",
    "\n",
    "\n",
    "\n",
    "Los atributos descriptivos de canciones del album (Name, Duration, Danceability, Energy, Key, Mode, Speechiness, Acousticness, Intrumentalness, Liveness, Valence, Tempo y Time Signature) aparecen como 3 columnas en cada caso. Esto es porque se describen estos atributos para 3 canciones por registro. En caso que el registro sea un single, no se tendran datos para los atributos de las canciones 2 y 3. "
   ]
  },
  {
   "cell_type": "code",
   "execution_count": 20,
   "metadata": {
    "colab": {
     "base_uri": "https://localhost:8080/"
    },
    "executionInfo": {
     "elapsed": 141,
     "status": "ok",
     "timestamp": 1658251931473,
     "user": {
      "displayName": "Rossana Scavone",
      "userId": "17148856163347856032"
     },
     "user_tz": 420
    },
    "id": "be869431",
    "outputId": "1a148fa5-a84e-4c08-d85a-00f44c554608"
   },
   "outputs": [
    {
     "data": {
      "text/plain": [
       "name                1\n",
       "release_date        0\n",
       "artists             0\n",
       "total_tracks        0\n",
       "t_name0             1\n",
       "t_name1         30032\n",
       "t_name2         32423\n",
       "t_dur0              0\n",
       "t_dur1          30032\n",
       "t_dur2          32423\n",
       "t_dance0           80\n",
       "t_dance1        30090\n",
       "t_dance2        32466\n",
       "t_energy0          80\n",
       "t_energy1       30090\n",
       "t_energy2       32466\n",
       "t_key0             80\n",
       "t_key1          30090\n",
       "t_key2          32466\n",
       "t_mode0            80\n",
       "t_mode1         30090\n",
       "t_mode2         32466\n",
       "t_speech0          80\n",
       "t_speech1       30090\n",
       "t_speech2       32466\n",
       "t_acous0           80\n",
       "t_acous1        30090\n",
       "t_acous2        32466\n",
       "t_ins0             80\n",
       "t_ins1          30090\n",
       "t_ins2          32466\n",
       "t_live0            80\n",
       "t_live1         30090\n",
       "t_live2         32466\n",
       "t_val0             80\n",
       "t_val1          30090\n",
       "t_val2          32466\n",
       "t_tempo0           80\n",
       "t_tempo1        30090\n",
       "t_tempo2        32466\n",
       "t_sig0             80\n",
       "t_sig1          30090\n",
       "t_sig2          32466\n",
       "popularity          0\n",
       "dtype: int64"
      ]
     },
     "execution_count": 20,
     "metadata": {},
     "output_type": "execute_result"
    }
   ],
   "source": [
    "#Podemos ver esto mirando la cantidad de NaN\n",
    "\n",
    "dataUnique.isnull().sum()"
   ]
  },
  {
   "cell_type": "markdown",
   "metadata": {
    "id": "baf74686"
   },
   "source": [
    "Viendo el resultado, se puede ver como la cantidad de nulos aumenta muchisimo al ir de la primer columna del atributo a la segunda y a la tercera.\n",
    "\n",
    "Ejemplo: dance_0 tiene 80 registros nulos, mientras que dance_1 tiene 30090 y dance_2 tiene 32466"
   ]
  },
  {
   "cell_type": "markdown",
   "metadata": {
    "id": "a3a76cb2"
   },
   "source": [
    "### Reduccion de Features\n",
    "\n",
    "Para poder bajar la cantidad de atributos, se podrian discutir dos opciones:\n",
    "\n",
    "1- Dejar solo la primer cancion de cada registro, asi cada album estaria representado por la primer cancion o la unica presente en los casos de singles\n",
    "\n",
    "2- Realizar un promedio de cada variable entre los valores de las canciones presentes.\n",
    "\n",
    "Las variables a las que le aplicariamos la reduccion son las descriptivas de las canciones:\n",
    "\n",
    "- **Duration** \n",
    "- **Danceability**\n",
    "- **Energy**\n",
    "- **Speechiness**\n",
    "- **Acousticness**\n",
    "- **Instrumentalness**\n",
    "- **Liveness**\n",
    "- **Valence**\n",
    "- **Tempo**\n",
    "- **Time Signature**\n",
    "\n",
    "Hay 2 variables descriptivas mas que son **Key** y **Mode**. Pero estas variables, si bien toman valores numericos, son categoricas (su valor es entero porque referencia a una categoria). Lo mismo sucede con la variable **Name**. \n",
    "\n",
    "Se crea una funcion que reduce la cantidad de features descriptivos. Como se ve en la data, los registros con 3 o mas canciones poseen 3 columnas por feature descriptivo (ejemplo, danceability aparecera como dance_0, dance_1 y dance_2). Para reducir esto a solo una columna por Feature, se toma el **promedio** de los valores de cada columna.\n",
    "En el caso especial de las variables *Name*, *Key* y *Mode*, se toma el valor de la primer cancion. "
   ]
  },
  {
   "cell_type": "code",
   "execution_count": 9,
   "metadata": {
    "executionInfo": {
     "elapsed": 153,
     "status": "ok",
     "timestamp": 1658251933790,
     "user": {
      "displayName": "Rossana Scavone",
      "userId": "17148856163347856032"
     },
     "user_tz": 420
    },
    "id": "9de177f8"
   },
   "outputs": [],
   "source": [
    "def reduccionFeatures(df):\n",
    "    \n",
    "    '''Esta funcion toma el Data Frame de spotify y reduce los features descriptivos tomando el promeido por cancion'''\n",
    "    \n",
    "    '''De los atributos descriptivos de las canciones, Key y Mode no se pueden promediar por su significado\n",
    "    Por lo tanto tomamos los valores de la primer cancion para estos dos atributos, sin importar cuantas canciones\n",
    "    hay en el album'''\n",
    "\n",
    "    '''Lo mismo se hace con la variable Name, se deja solamente t_name0'''\n",
    "\n",
    "    \n",
    "    dfDrop = df.drop(['t_key0','t_key1','t_key2','t_mode0','t_mode1','t_mode2'],axis = 1)   \n",
    "\n",
    "    \n",
    "    col =  dfDrop.columns    #Lista de las columnas del DF\n",
    "    \n",
    "    columns = []\n",
    "    \n",
    "    for c in range(7,len(col),3):    #Generamos un vector con los nombres de las variables descriptivas\n",
    "        columns.append(col[c])\n",
    "    \n",
    "    \n",
    "    '''Promediamos el resto de las variables descriptivas'''\n",
    "    \n",
    "    Info = np.zeros(11)  #Vector vacio para ir pegando la informacion. Las features una vez reducidas son 12 + popularidad\n",
    "    #print(Info)\n",
    "    \n",
    "    for i in df.index:\n",
    "        reg = []\n",
    "        \n",
    "        '''Si el registro solo contiene una cancion'''\n",
    "        \n",
    "        if df['total_tracks'][i] == 1:\n",
    "            \n",
    "            for j in range(7,len(col),3):\n",
    "                reg.append(dfDrop[col[j]][i])\n",
    "                \n",
    "        elif df['total_tracks'][i] == 2:\n",
    "            \n",
    "            for j in range(7,len(col)-1,3):\n",
    "                prom = round((dfDrop[col[j]][i]+dfDrop[col[j+1]][i])/2,3)\n",
    "                reg.append(prom) \n",
    "                \n",
    "            popularity = dfDrop[col[j+3]][i]               #La popularidad es un dato unico por album (o sea por registro)\n",
    "            reg.append(popularity)\n",
    "        else:\n",
    "            \n",
    "            for j in range(7,len(col)-1,3):\n",
    "                prom = round((dfDrop[col[j]][i]+dfDrop[col[j+1]][i]+dfDrop[col[j+2]][i])/3,3)\n",
    "                reg.append(prom)  \n",
    "                \n",
    "            popularity = dfDrop[col[j+3]][i]              #La popularidad es un dato unico por album (o sea por registro)\n",
    "            reg.append(popularity)\n",
    "        #print(reg)\n",
    "        Info = np.vstack((Info, reg))\n",
    "          \n",
    "    Info = np.delete(Info,0,0)\n",
    "    dataInicial = df[['name','release_date','artists','total_tracks','t_name0','t_key0','t_mode0']]\n",
    "    dataInfo = pd.DataFrame(index = df.index,columns = columns, data = Info)\n",
    "    data = pd.concat([dataInicial,dataInfo],axis = 1)\n",
    "    \n",
    "    return data"
   ]
  },
  {
   "cell_type": "code",
   "execution_count": 10,
   "metadata": {
    "colab": {
     "base_uri": "https://localhost:8080/"
    },
    "executionInfo": {
     "elapsed": 73983,
     "status": "ok",
     "timestamp": 1658252008640,
     "user": {
      "displayName": "Rossana Scavone",
      "userId": "17148856163347856032"
     },
     "user_tz": 420
    },
    "id": "954686ce",
    "outputId": "b3a9823b-3905-4850-9b6e-4d9c303cf4ed"
   },
   "outputs": [
    {
     "name": "stdout",
     "output_type": "stream",
     "text": [
      "El codigo tardo 65.703125 segundos\n"
     ]
    }
   ],
   "source": [
    "import time\n",
    "\n",
    "#Verificamos el tiempo que lleva correr la funcion anterior en el DataSet\n",
    "\n",
    "inicio =time.process_time()\n",
    "\n",
    "dfReducido = reduccionFeatures(dataUnique)\n",
    "\n",
    "fin = time.process_time()\n",
    "\n",
    "print(f'El codigo tardo {fin-inicio} segundos')"
   ]
  },
  {
   "cell_type": "code",
   "execution_count": 11,
   "metadata": {
    "colab": {
     "base_uri": "https://localhost:8080/"
    },
    "executionInfo": {
     "elapsed": 122,
     "status": "ok",
     "timestamp": 1658252138559,
     "user": {
      "displayName": "Rossana Scavone",
      "userId": "17148856163347856032"
     },
     "user_tz": 420
    },
    "id": "2b36fade",
    "outputId": "d27c2ffb-e341-4e8a-e82f-48c32c10ffb3"
   },
   "outputs": [
    {
     "data": {
      "text/plain": [
       "(72357, 18)"
      ]
     },
     "execution_count": 11,
     "metadata": {},
     "output_type": "execute_result"
    }
   ],
   "source": [
    "#Verificamos reduccion en numero de Columnas\n",
    "dfReducido.shape"
   ]
  },
  {
   "cell_type": "markdown",
   "metadata": {
    "id": "40d94cbb"
   },
   "source": [
    "## Clase Popularidad - Para Clasificacion\n",
    "\n",
    "Podemos transformar la variable Target **Popularity** en clases, para asi poder utilizar algoritmos de clasificacion para su prediccion.\n",
    "\n",
    "Lo que se haces es separar los valores de la variable en grupos. Dado que la variable Popularity toma valores del 0-100, dividimos ese rango en, por ejemplo, 5 clases:\n",
    "\n",
    "- Clase 1 - Popularidad baja: Valores del 1 al 20\n",
    "- Clase 2 - Popularidad mediabaja: Valores del 21 al 40\n",
    "- Clase 3 - Popularidad media: Valores del 41 al 60\n",
    "- Clase 4 - Popularidad mediaalta: Valores del 61 al 80 \n",
    "- Clase 5 - Popularidad alta: Valores del 81 al 100\n",
    "\n"
   ]
  },
  {
   "cell_type": "code",
   "execution_count": 12,
   "metadata": {
    "executionInfo": {
     "elapsed": 158,
     "status": "ok",
     "timestamp": 1658252142187,
     "user": {
      "displayName": "Rossana Scavone",
      "userId": "17148856163347856032"
     },
     "user_tz": 420
    },
    "id": "e1162f78"
   },
   "outputs": [],
   "source": [
    "def clasePopularidad(x,inf,sup,divisiones):\n",
    "    step = math.ceil((sup-inf)/divisiones)\n",
    "    incremento = step\n",
    "    clase = 1\n",
    "    while x> step:\n",
    "        step = step + incremento\n",
    "        clase = clase +1\n",
    "    return clase\n",
    "        \n",
    "    "
   ]
  },
  {
   "cell_type": "code",
   "execution_count": 13,
   "metadata": {
    "colab": {
     "base_uri": "https://localhost:8080/"
    },
    "executionInfo": {
     "elapsed": 128,
     "status": "ok",
     "timestamp": 1658252143120,
     "user": {
      "displayName": "Rossana Scavone",
      "userId": "17148856163347856032"
     },
     "user_tz": 420
    },
    "id": "9af4774d",
    "outputId": "ce3404a0-32d3-4b0d-8ec4-71d322a0ab65"
   },
   "outputs": [
    {
     "data": {
      "text/plain": [
       "id\n",
       "0         3\n",
       "1         4\n",
       "2         5\n",
       "3         3\n",
       "4         4\n",
       "         ..\n",
       "159978    2\n",
       "159980    2\n",
       "159984    1\n",
       "159991    2\n",
       "159999    2\n",
       "Name: ClasePopularidad, Length: 72357, dtype: int64"
      ]
     },
     "execution_count": 13,
     "metadata": {},
     "output_type": "execute_result"
    }
   ],
   "source": [
    "dfReducido['ClasePopularidad'] = dfReducido['popularity'].apply(lambda x: clasePopularidad(x,1,100,5))\n",
    "dfReducido['ClasePopularidad']"
   ]
  },
  {
   "cell_type": "code",
   "execution_count": 14,
   "metadata": {
    "colab": {
     "base_uri": "https://localhost:8080/",
     "height": 238
    },
    "executionInfo": {
     "elapsed": 3,
     "status": "ok",
     "timestamp": 1658252145312,
     "user": {
      "displayName": "Rossana Scavone",
      "userId": "17148856163347856032"
     },
     "user_tz": 420
    },
    "id": "f9462413",
    "outputId": "fd682caf-6484-4825-a555-80e6d096c707"
   },
   "outputs": [
    {
     "data": {
      "text/html": [
       "<div>\n",
       "<style scoped>\n",
       "    .dataframe tbody tr th:only-of-type {\n",
       "        vertical-align: middle;\n",
       "    }\n",
       "\n",
       "    .dataframe tbody tr th {\n",
       "        vertical-align: top;\n",
       "    }\n",
       "\n",
       "    .dataframe thead th {\n",
       "        text-align: right;\n",
       "    }\n",
       "</style>\n",
       "<table border=\"1\" class=\"dataframe\">\n",
       "  <thead>\n",
       "    <tr style=\"text-align: right;\">\n",
       "      <th></th>\n",
       "      <th>name</th>\n",
       "      <th>release_date</th>\n",
       "      <th>artists</th>\n",
       "      <th>total_tracks</th>\n",
       "      <th>t_name0</th>\n",
       "      <th>t_key0</th>\n",
       "      <th>t_mode0</th>\n",
       "      <th>t_dur0</th>\n",
       "      <th>t_dance0</th>\n",
       "      <th>t_energy0</th>\n",
       "      <th>t_speech0</th>\n",
       "      <th>t_acous0</th>\n",
       "      <th>t_ins0</th>\n",
       "      <th>t_live0</th>\n",
       "      <th>t_val0</th>\n",
       "      <th>t_tempo0</th>\n",
       "      <th>t_sig0</th>\n",
       "      <th>popularity</th>\n",
       "      <th>ClasePopularidad</th>\n",
       "    </tr>\n",
       "    <tr>\n",
       "      <th>id</th>\n",
       "      <th></th>\n",
       "      <th></th>\n",
       "      <th></th>\n",
       "      <th></th>\n",
       "      <th></th>\n",
       "      <th></th>\n",
       "      <th></th>\n",
       "      <th></th>\n",
       "      <th></th>\n",
       "      <th></th>\n",
       "      <th></th>\n",
       "      <th></th>\n",
       "      <th></th>\n",
       "      <th></th>\n",
       "      <th></th>\n",
       "      <th></th>\n",
       "      <th></th>\n",
       "      <th></th>\n",
       "      <th></th>\n",
       "    </tr>\n",
       "  </thead>\n",
       "  <tbody>\n",
       "    <tr>\n",
       "      <th>0</th>\n",
       "      <td>Ya Solo Eres Mi Ex</td>\n",
       "      <td>2021-09-09</td>\n",
       "      <td>La Adictiva Banda San José de Mesillas,</td>\n",
       "      <td>7</td>\n",
       "      <td>Ya Solo Eres Mi Ex</td>\n",
       "      <td>7.0</td>\n",
       "      <td>1.0</td>\n",
       "      <td>192284.000</td>\n",
       "      <td>0.537</td>\n",
       "      <td>0.459</td>\n",
       "      <td>0.049</td>\n",
       "      <td>0.490</td>\n",
       "      <td>0.000</td>\n",
       "      <td>0.091</td>\n",
       "      <td>0.779</td>\n",
       "      <td>133.243</td>\n",
       "      <td>3.333</td>\n",
       "      <td>51.0</td>\n",
       "      <td>3</td>\n",
       "    </tr>\n",
       "    <tr>\n",
       "      <th>1</th>\n",
       "      <td>Nibiru</td>\n",
       "      <td>2019-11-29</td>\n",
       "      <td>Ozuna,</td>\n",
       "      <td>18</td>\n",
       "      <td>Nibiru</td>\n",
       "      <td>10.0</td>\n",
       "      <td>0.0</td>\n",
       "      <td>195199.667</td>\n",
       "      <td>0.779</td>\n",
       "      <td>0.658</td>\n",
       "      <td>0.202</td>\n",
       "      <td>0.109</td>\n",
       "      <td>0.000</td>\n",
       "      <td>0.114</td>\n",
       "      <td>0.413</td>\n",
       "      <td>139.028</td>\n",
       "      <td>4.000</td>\n",
       "      <td>67.0</td>\n",
       "      <td>4</td>\n",
       "    </tr>\n",
       "    <tr>\n",
       "      <th>2</th>\n",
       "      <td>DAMN.</td>\n",
       "      <td>2017-04-14</td>\n",
       "      <td>Kendrick Lamar,</td>\n",
       "      <td>14</td>\n",
       "      <td>BLOOD.</td>\n",
       "      <td>8.0</td>\n",
       "      <td>0.0</td>\n",
       "      <td>154768.333</td>\n",
       "      <td>0.555</td>\n",
       "      <td>0.487</td>\n",
       "      <td>0.273</td>\n",
       "      <td>0.241</td>\n",
       "      <td>0.029</td>\n",
       "      <td>0.287</td>\n",
       "      <td>0.521</td>\n",
       "      <td>122.269</td>\n",
       "      <td>4.000</td>\n",
       "      <td>81.0</td>\n",
       "      <td>5</td>\n",
       "    </tr>\n",
       "    <tr>\n",
       "      <th>3</th>\n",
       "      <td>Did I Shave My Legs For This?</td>\n",
       "      <td>1996-01-01</td>\n",
       "      <td>Deana Carter,</td>\n",
       "      <td>11</td>\n",
       "      <td>I've Loved Enough To Know</td>\n",
       "      <td>8.0</td>\n",
       "      <td>1.0</td>\n",
       "      <td>203866.333</td>\n",
       "      <td>0.628</td>\n",
       "      <td>0.585</td>\n",
       "      <td>0.027</td>\n",
       "      <td>0.333</td>\n",
       "      <td>0.000</td>\n",
       "      <td>0.203</td>\n",
       "      <td>0.556</td>\n",
       "      <td>114.783</td>\n",
       "      <td>4.000</td>\n",
       "      <td>53.0</td>\n",
       "      <td>3</td>\n",
       "    </tr>\n",
       "    <tr>\n",
       "      <th>4</th>\n",
       "      <td>glisten</td>\n",
       "      <td>2018-05-04</td>\n",
       "      <td>Jeremy Zucker,</td>\n",
       "      <td>4</td>\n",
       "      <td>all the kids are depressed</td>\n",
       "      <td>9.0</td>\n",
       "      <td>1.0</td>\n",
       "      <td>140693.000</td>\n",
       "      <td>0.638</td>\n",
       "      <td>0.302</td>\n",
       "      <td>0.072</td>\n",
       "      <td>0.711</td>\n",
       "      <td>0.000</td>\n",
       "      <td>0.271</td>\n",
       "      <td>0.533</td>\n",
       "      <td>116.460</td>\n",
       "      <td>4.000</td>\n",
       "      <td>70.0</td>\n",
       "      <td>4</td>\n",
       "    </tr>\n",
       "  </tbody>\n",
       "</table>\n",
       "</div>"
      ],
      "text/plain": [
       "                             name release_date  \\\n",
       "id                                               \n",
       "0              Ya Solo Eres Mi Ex   2021-09-09   \n",
       "1                          Nibiru   2019-11-29   \n",
       "2                           DAMN.   2017-04-14   \n",
       "3   Did I Shave My Legs For This?   1996-01-01   \n",
       "4                         glisten   2018-05-04   \n",
       "\n",
       "                                     artists  total_tracks  \\\n",
       "id                                                           \n",
       "0   La Adictiva Banda San José de Mesillas,              7   \n",
       "1                                    Ozuna,             18   \n",
       "2                           Kendrick Lamar,             14   \n",
       "3                             Deana Carter,             11   \n",
       "4                            Jeremy Zucker,              4   \n",
       "\n",
       "                       t_name0  t_key0  t_mode0      t_dur0  t_dance0  \\\n",
       "id                                                                      \n",
       "0           Ya Solo Eres Mi Ex     7.0      1.0  192284.000     0.537   \n",
       "1                       Nibiru    10.0      0.0  195199.667     0.779   \n",
       "2                       BLOOD.     8.0      0.0  154768.333     0.555   \n",
       "3    I've Loved Enough To Know     8.0      1.0  203866.333     0.628   \n",
       "4   all the kids are depressed     9.0      1.0  140693.000     0.638   \n",
       "\n",
       "    t_energy0  t_speech0  t_acous0  t_ins0  t_live0  t_val0  t_tempo0  t_sig0  \\\n",
       "id                                                                              \n",
       "0       0.459      0.049     0.490   0.000    0.091   0.779   133.243   3.333   \n",
       "1       0.658      0.202     0.109   0.000    0.114   0.413   139.028   4.000   \n",
       "2       0.487      0.273     0.241   0.029    0.287   0.521   122.269   4.000   \n",
       "3       0.585      0.027     0.333   0.000    0.203   0.556   114.783   4.000   \n",
       "4       0.302      0.072     0.711   0.000    0.271   0.533   116.460   4.000   \n",
       "\n",
       "    popularity  ClasePopularidad  \n",
       "id                                \n",
       "0         51.0                 3  \n",
       "1         67.0                 4  \n",
       "2         81.0                 5  \n",
       "3         53.0                 3  \n",
       "4         70.0                 4  "
      ]
     },
     "execution_count": 14,
     "metadata": {},
     "output_type": "execute_result"
    }
   ],
   "source": [
    "#Verificamos que coincida la ClasePopularidad con la variable Popularity\n",
    "dfReducido.head()"
   ]
  },
  {
   "cell_type": "markdown",
   "metadata": {
    "id": "a170f95c"
   },
   "source": [
    "## Pipeline - Etapa 1\n",
    "\n",
    "1) Setear columna ID como index\n",
    "\n",
    "2) Eliminar registros duplicados\n",
    "\n",
    "3) Correr funcion ReduccionFeatures (para reducir la cantidad de features)\n",
    "\n",
    "4) Generar Variable Target para Clasificacion 'ClasePopularidad'"
   ]
  },
  {
   "cell_type": "code",
   "execution_count": 15,
   "metadata": {
    "executionInfo": {
     "elapsed": 159,
     "status": "ok",
     "timestamp": 1658181593451,
     "user": {
      "displayName": "Rossana Scavone",
      "userId": "17148856163347856032"
     },
     "user_tz": 420
    },
    "id": "434f721d"
   },
   "outputs": [],
   "source": [
    "#Guardamos el data set obtenido, ya que es el data set limpio\n",
    "\n",
    "#Correr esta celda solo si no se tiene el archivo guardado previamente\n",
    "\n",
    "#dfReducido.to_csv('clean_data.csv')"
   ]
  },
  {
   "cell_type": "markdown",
   "metadata": {
    "id": "5xoieOTOJ7VX"
   },
   "source": [
    "## Division en Test/Train y pasos subsiguientes\n",
    "\n",
    "En este caso, la variable *y* tendra dos arrays, uno sera el target 'popularity' (para usar en algoritmos de regresion) y otro sera el target 'ClasePopularity' (a usar en algoritmos de clasificacion)"
   ]
  },
  {
   "cell_type": "code",
   "execution_count": 16,
   "metadata": {
    "executionInfo": {
     "elapsed": 143,
     "status": "ok",
     "timestamp": 1658252149171,
     "user": {
      "displayName": "Rossana Scavone",
      "userId": "17148856163347856032"
     },
     "user_tz": 420
    },
    "id": "De2AbXhoJ6XR"
   },
   "outputs": [],
   "source": [
    "'''Dividimos el data set en Atributos y Target'''\n",
    "\n",
    "X = dfReducido.drop(['name','release_date','artists','total_tracks','t_name0','popularity','ClasePopularidad'],axis = 1)\n",
    "y = dfReducido[['popularity','ClasePopularidad']]"
   ]
  },
  {
   "cell_type": "code",
   "execution_count": 17,
   "metadata": {
    "executionInfo": {
     "elapsed": 123,
     "status": "ok",
     "timestamp": 1658252150920,
     "user": {
      "displayName": "Rossana Scavone",
      "userId": "17148856163347856032"
     },
     "user_tz": 420
    },
    "id": "s8BBh0hJK0Gw"
   },
   "outputs": [],
   "source": [
    "from sklearn.model_selection import train_test_split\n",
    "'''Hacemos el split en Train set y Test Set\n",
    "Usaremos un split de 80%-20%'''\n",
    "\n",
    "X_train, X_test, y_train, y_test = train_test_split(X, y, test_size=0.20, random_state=13)"
   ]
  },
  {
   "cell_type": "code",
   "execution_count": 18,
   "metadata": {
    "executionInfo": {
     "elapsed": 179,
     "status": "ok",
     "timestamp": 1658252153738,
     "user": {
      "displayName": "Rossana Scavone",
      "userId": "17148856163347856032"
     },
     "user_tz": 420
    },
    "id": "oA71R-w2Oz7_"
   },
   "outputs": [],
   "source": [
    "#Unimos las parejas X,y para Train y Test, para que sea mas facil la manipulacion\n",
    "\n",
    "train = pd.concat([X_train,y_train], axis = 1)\n",
    "test = pd.concat([X_test,y_test],axis = 1)"
   ]
  },
  {
   "cell_type": "code",
   "execution_count": 19,
   "metadata": {
    "colab": {
     "base_uri": "https://localhost:8080/",
     "height": 455
    },
    "executionInfo": {
     "elapsed": 148,
     "status": "ok",
     "timestamp": 1658252154546,
     "user": {
      "displayName": "Rossana Scavone",
      "userId": "17148856163347856032"
     },
     "user_tz": 420
    },
    "id": "E6tRH08nPtYl",
    "outputId": "7818ec61-c8be-4b09-fabe-4f018649151f"
   },
   "outputs": [
    {
     "data": {
      "text/html": [
       "<div>\n",
       "<style scoped>\n",
       "    .dataframe tbody tr th:only-of-type {\n",
       "        vertical-align: middle;\n",
       "    }\n",
       "\n",
       "    .dataframe tbody tr th {\n",
       "        vertical-align: top;\n",
       "    }\n",
       "\n",
       "    .dataframe thead th {\n",
       "        text-align: right;\n",
       "    }\n",
       "</style>\n",
       "<table border=\"1\" class=\"dataframe\">\n",
       "  <thead>\n",
       "    <tr style=\"text-align: right;\">\n",
       "      <th></th>\n",
       "      <th>t_key0</th>\n",
       "      <th>t_mode0</th>\n",
       "      <th>t_dur0</th>\n",
       "      <th>t_dance0</th>\n",
       "      <th>t_energy0</th>\n",
       "      <th>t_speech0</th>\n",
       "      <th>t_acous0</th>\n",
       "      <th>t_ins0</th>\n",
       "      <th>t_live0</th>\n",
       "      <th>t_val0</th>\n",
       "      <th>t_tempo0</th>\n",
       "      <th>t_sig0</th>\n",
       "      <th>popularity</th>\n",
       "      <th>ClasePopularidad</th>\n",
       "    </tr>\n",
       "    <tr>\n",
       "      <th>id</th>\n",
       "      <th></th>\n",
       "      <th></th>\n",
       "      <th></th>\n",
       "      <th></th>\n",
       "      <th></th>\n",
       "      <th></th>\n",
       "      <th></th>\n",
       "      <th></th>\n",
       "      <th></th>\n",
       "      <th></th>\n",
       "      <th></th>\n",
       "      <th></th>\n",
       "      <th></th>\n",
       "      <th></th>\n",
       "    </tr>\n",
       "  </thead>\n",
       "  <tbody>\n",
       "    <tr>\n",
       "      <th>146790</th>\n",
       "      <td>3.0</td>\n",
       "      <td>0.0</td>\n",
       "      <td>253999.667</td>\n",
       "      <td>0.521</td>\n",
       "      <td>0.395</td>\n",
       "      <td>0.0340</td>\n",
       "      <td>0.6580</td>\n",
       "      <td>0.0030</td>\n",
       "      <td>0.1550</td>\n",
       "      <td>0.193</td>\n",
       "      <td>99.134</td>\n",
       "      <td>4.000</td>\n",
       "      <td>34.0</td>\n",
       "      <td>2</td>\n",
       "    </tr>\n",
       "    <tr>\n",
       "      <th>142735</th>\n",
       "      <td>7.0</td>\n",
       "      <td>0.0</td>\n",
       "      <td>256574.000</td>\n",
       "      <td>0.859</td>\n",
       "      <td>0.536</td>\n",
       "      <td>0.1030</td>\n",
       "      <td>0.0241</td>\n",
       "      <td>0.0000</td>\n",
       "      <td>0.0667</td>\n",
       "      <td>0.713</td>\n",
       "      <td>80.997</td>\n",
       "      <td>4.000</td>\n",
       "      <td>2.0</td>\n",
       "      <td>1</td>\n",
       "    </tr>\n",
       "    <tr>\n",
       "      <th>971</th>\n",
       "      <td>7.0</td>\n",
       "      <td>1.0</td>\n",
       "      <td>192337.667</td>\n",
       "      <td>0.564</td>\n",
       "      <td>0.217</td>\n",
       "      <td>0.0310</td>\n",
       "      <td>0.9090</td>\n",
       "      <td>0.0020</td>\n",
       "      <td>0.1090</td>\n",
       "      <td>0.467</td>\n",
       "      <td>119.123</td>\n",
       "      <td>3.333</td>\n",
       "      <td>62.0</td>\n",
       "      <td>4</td>\n",
       "    </tr>\n",
       "    <tr>\n",
       "      <th>61341</th>\n",
       "      <td>6.0</td>\n",
       "      <td>1.0</td>\n",
       "      <td>126842.000</td>\n",
       "      <td>0.745</td>\n",
       "      <td>0.618</td>\n",
       "      <td>0.2870</td>\n",
       "      <td>0.1780</td>\n",
       "      <td>0.0000</td>\n",
       "      <td>0.2900</td>\n",
       "      <td>0.519</td>\n",
       "      <td>129.052</td>\n",
       "      <td>4.000</td>\n",
       "      <td>19.0</td>\n",
       "      <td>1</td>\n",
       "    </tr>\n",
       "    <tr>\n",
       "      <th>153359</th>\n",
       "      <td>6.0</td>\n",
       "      <td>1.0</td>\n",
       "      <td>156230.000</td>\n",
       "      <td>0.759</td>\n",
       "      <td>0.411</td>\n",
       "      <td>0.0427</td>\n",
       "      <td>0.4160</td>\n",
       "      <td>0.7060</td>\n",
       "      <td>0.1320</td>\n",
       "      <td>0.281</td>\n",
       "      <td>145.928</td>\n",
       "      <td>4.000</td>\n",
       "      <td>43.0</td>\n",
       "      <td>3</td>\n",
       "    </tr>\n",
       "    <tr>\n",
       "      <th>...</th>\n",
       "      <td>...</td>\n",
       "      <td>...</td>\n",
       "      <td>...</td>\n",
       "      <td>...</td>\n",
       "      <td>...</td>\n",
       "      <td>...</td>\n",
       "      <td>...</td>\n",
       "      <td>...</td>\n",
       "      <td>...</td>\n",
       "      <td>...</td>\n",
       "      <td>...</td>\n",
       "      <td>...</td>\n",
       "      <td>...</td>\n",
       "      <td>...</td>\n",
       "    </tr>\n",
       "    <tr>\n",
       "      <th>70247</th>\n",
       "      <td>4.0</td>\n",
       "      <td>1.0</td>\n",
       "      <td>172182.000</td>\n",
       "      <td>0.493</td>\n",
       "      <td>0.549</td>\n",
       "      <td>0.0335</td>\n",
       "      <td>0.9660</td>\n",
       "      <td>0.0208</td>\n",
       "      <td>0.1130</td>\n",
       "      <td>0.538</td>\n",
       "      <td>111.542</td>\n",
       "      <td>4.000</td>\n",
       "      <td>21.0</td>\n",
       "      <td>2</td>\n",
       "    </tr>\n",
       "    <tr>\n",
       "      <th>44415</th>\n",
       "      <td>8.0</td>\n",
       "      <td>1.0</td>\n",
       "      <td>111393.000</td>\n",
       "      <td>0.766</td>\n",
       "      <td>0.688</td>\n",
       "      <td>0.0300</td>\n",
       "      <td>0.0610</td>\n",
       "      <td>0.1460</td>\n",
       "      <td>0.0720</td>\n",
       "      <td>0.615</td>\n",
       "      <td>114.999</td>\n",
       "      <td>4.000</td>\n",
       "      <td>61.0</td>\n",
       "      <td>4</td>\n",
       "    </tr>\n",
       "    <tr>\n",
       "      <th>142189</th>\n",
       "      <td>2.0</td>\n",
       "      <td>1.0</td>\n",
       "      <td>134016.667</td>\n",
       "      <td>0.628</td>\n",
       "      <td>0.407</td>\n",
       "      <td>0.0880</td>\n",
       "      <td>0.8550</td>\n",
       "      <td>0.5800</td>\n",
       "      <td>0.1230</td>\n",
       "      <td>0.191</td>\n",
       "      <td>123.987</td>\n",
       "      <td>4.000</td>\n",
       "      <td>46.0</td>\n",
       "      <td>3</td>\n",
       "    </tr>\n",
       "    <tr>\n",
       "      <th>62804</th>\n",
       "      <td>0.0</td>\n",
       "      <td>0.0</td>\n",
       "      <td>197999.667</td>\n",
       "      <td>0.440</td>\n",
       "      <td>0.850</td>\n",
       "      <td>0.0480</td>\n",
       "      <td>0.0330</td>\n",
       "      <td>0.0030</td>\n",
       "      <td>0.4680</td>\n",
       "      <td>0.510</td>\n",
       "      <td>137.639</td>\n",
       "      <td>4.000</td>\n",
       "      <td>30.0</td>\n",
       "      <td>2</td>\n",
       "    </tr>\n",
       "    <tr>\n",
       "      <th>95312</th>\n",
       "      <td>5.0</td>\n",
       "      <td>1.0</td>\n",
       "      <td>218195.000</td>\n",
       "      <td>0.465</td>\n",
       "      <td>0.932</td>\n",
       "      <td>0.0700</td>\n",
       "      <td>0.0110</td>\n",
       "      <td>0.0000</td>\n",
       "      <td>0.1150</td>\n",
       "      <td>0.430</td>\n",
       "      <td>132.058</td>\n",
       "      <td>4.000</td>\n",
       "      <td>10.0</td>\n",
       "      <td>1</td>\n",
       "    </tr>\n",
       "  </tbody>\n",
       "</table>\n",
       "<p>57885 rows × 14 columns</p>\n",
       "</div>"
      ],
      "text/plain": [
       "        t_key0  t_mode0      t_dur0  t_dance0  t_energy0  t_speech0  t_acous0  \\\n",
       "id                                                                              \n",
       "146790     3.0      0.0  253999.667     0.521      0.395     0.0340    0.6580   \n",
       "142735     7.0      0.0  256574.000     0.859      0.536     0.1030    0.0241   \n",
       "971        7.0      1.0  192337.667     0.564      0.217     0.0310    0.9090   \n",
       "61341      6.0      1.0  126842.000     0.745      0.618     0.2870    0.1780   \n",
       "153359     6.0      1.0  156230.000     0.759      0.411     0.0427    0.4160   \n",
       "...        ...      ...         ...       ...        ...        ...       ...   \n",
       "70247      4.0      1.0  172182.000     0.493      0.549     0.0335    0.9660   \n",
       "44415      8.0      1.0  111393.000     0.766      0.688     0.0300    0.0610   \n",
       "142189     2.0      1.0  134016.667     0.628      0.407     0.0880    0.8550   \n",
       "62804      0.0      0.0  197999.667     0.440      0.850     0.0480    0.0330   \n",
       "95312      5.0      1.0  218195.000     0.465      0.932     0.0700    0.0110   \n",
       "\n",
       "        t_ins0  t_live0  t_val0  t_tempo0  t_sig0  popularity  \\\n",
       "id                                                              \n",
       "146790  0.0030   0.1550   0.193    99.134   4.000        34.0   \n",
       "142735  0.0000   0.0667   0.713    80.997   4.000         2.0   \n",
       "971     0.0020   0.1090   0.467   119.123   3.333        62.0   \n",
       "61341   0.0000   0.2900   0.519   129.052   4.000        19.0   \n",
       "153359  0.7060   0.1320   0.281   145.928   4.000        43.0   \n",
       "...        ...      ...     ...       ...     ...         ...   \n",
       "70247   0.0208   0.1130   0.538   111.542   4.000        21.0   \n",
       "44415   0.1460   0.0720   0.615   114.999   4.000        61.0   \n",
       "142189  0.5800   0.1230   0.191   123.987   4.000        46.0   \n",
       "62804   0.0030   0.4680   0.510   137.639   4.000        30.0   \n",
       "95312   0.0000   0.1150   0.430   132.058   4.000        10.0   \n",
       "\n",
       "        ClasePopularidad  \n",
       "id                        \n",
       "146790                 2  \n",
       "142735                 1  \n",
       "971                    4  \n",
       "61341                  1  \n",
       "153359                 3  \n",
       "...                  ...  \n",
       "70247                  2  \n",
       "44415                  4  \n",
       "142189                 3  \n",
       "62804                  2  \n",
       "95312                  1  \n",
       "\n",
       "[57885 rows x 14 columns]"
      ]
     },
     "execution_count": 19,
     "metadata": {},
     "output_type": "execute_result"
    }
   ],
   "source": [
    "train"
   ]
  },
  {
   "cell_type": "code",
   "execution_count": 20,
   "metadata": {},
   "outputs": [],
   "source": [
    "#Guardamos el data set train como referencia, ya que se utilizara en el pipeline \n",
    "\n",
    "train.to_csv('train_ref.csv')"
   ]
  },
  {
   "cell_type": "code",
   "execution_count": 21,
   "metadata": {},
   "outputs": [
    {
     "data": {
      "text/html": [
       "<div>\n",
       "<style scoped>\n",
       "    .dataframe tbody tr th:only-of-type {\n",
       "        vertical-align: middle;\n",
       "    }\n",
       "\n",
       "    .dataframe tbody tr th {\n",
       "        vertical-align: top;\n",
       "    }\n",
       "\n",
       "    .dataframe thead th {\n",
       "        text-align: right;\n",
       "    }\n",
       "</style>\n",
       "<table border=\"1\" class=\"dataframe\">\n",
       "  <thead>\n",
       "    <tr style=\"text-align: right;\">\n",
       "      <th></th>\n",
       "      <th>t_key0</th>\n",
       "      <th>t_mode0</th>\n",
       "      <th>t_dur0</th>\n",
       "      <th>t_dance0</th>\n",
       "      <th>t_energy0</th>\n",
       "      <th>t_speech0</th>\n",
       "      <th>t_acous0</th>\n",
       "      <th>t_ins0</th>\n",
       "      <th>t_live0</th>\n",
       "      <th>t_val0</th>\n",
       "      <th>t_tempo0</th>\n",
       "      <th>t_sig0</th>\n",
       "      <th>popularity</th>\n",
       "      <th>ClasePopularidad</th>\n",
       "    </tr>\n",
       "    <tr>\n",
       "      <th>id</th>\n",
       "      <th></th>\n",
       "      <th></th>\n",
       "      <th></th>\n",
       "      <th></th>\n",
       "      <th></th>\n",
       "      <th></th>\n",
       "      <th></th>\n",
       "      <th></th>\n",
       "      <th></th>\n",
       "      <th></th>\n",
       "      <th></th>\n",
       "      <th></th>\n",
       "      <th></th>\n",
       "      <th></th>\n",
       "    </tr>\n",
       "  </thead>\n",
       "  <tbody>\n",
       "    <tr>\n",
       "      <th>146790</th>\n",
       "      <td>3.0</td>\n",
       "      <td>0.0</td>\n",
       "      <td>253999.667</td>\n",
       "      <td>0.521</td>\n",
       "      <td>0.395</td>\n",
       "      <td>0.0340</td>\n",
       "      <td>0.6580</td>\n",
       "      <td>0.003</td>\n",
       "      <td>0.1550</td>\n",
       "      <td>0.193</td>\n",
       "      <td>99.134</td>\n",
       "      <td>4.000</td>\n",
       "      <td>34.0</td>\n",
       "      <td>2</td>\n",
       "    </tr>\n",
       "    <tr>\n",
       "      <th>142735</th>\n",
       "      <td>7.0</td>\n",
       "      <td>0.0</td>\n",
       "      <td>256574.000</td>\n",
       "      <td>0.859</td>\n",
       "      <td>0.536</td>\n",
       "      <td>0.1030</td>\n",
       "      <td>0.0241</td>\n",
       "      <td>0.000</td>\n",
       "      <td>0.0667</td>\n",
       "      <td>0.713</td>\n",
       "      <td>80.997</td>\n",
       "      <td>4.000</td>\n",
       "      <td>2.0</td>\n",
       "      <td>1</td>\n",
       "    </tr>\n",
       "    <tr>\n",
       "      <th>971</th>\n",
       "      <td>7.0</td>\n",
       "      <td>1.0</td>\n",
       "      <td>192337.667</td>\n",
       "      <td>0.564</td>\n",
       "      <td>0.217</td>\n",
       "      <td>0.0310</td>\n",
       "      <td>0.9090</td>\n",
       "      <td>0.002</td>\n",
       "      <td>0.1090</td>\n",
       "      <td>0.467</td>\n",
       "      <td>119.123</td>\n",
       "      <td>3.333</td>\n",
       "      <td>62.0</td>\n",
       "      <td>4</td>\n",
       "    </tr>\n",
       "    <tr>\n",
       "      <th>61341</th>\n",
       "      <td>6.0</td>\n",
       "      <td>1.0</td>\n",
       "      <td>126842.000</td>\n",
       "      <td>0.745</td>\n",
       "      <td>0.618</td>\n",
       "      <td>0.2870</td>\n",
       "      <td>0.1780</td>\n",
       "      <td>0.000</td>\n",
       "      <td>0.2900</td>\n",
       "      <td>0.519</td>\n",
       "      <td>129.052</td>\n",
       "      <td>4.000</td>\n",
       "      <td>19.0</td>\n",
       "      <td>1</td>\n",
       "    </tr>\n",
       "    <tr>\n",
       "      <th>153359</th>\n",
       "      <td>6.0</td>\n",
       "      <td>1.0</td>\n",
       "      <td>156230.000</td>\n",
       "      <td>0.759</td>\n",
       "      <td>0.411</td>\n",
       "      <td>0.0427</td>\n",
       "      <td>0.4160</td>\n",
       "      <td>0.706</td>\n",
       "      <td>0.1320</td>\n",
       "      <td>0.281</td>\n",
       "      <td>145.928</td>\n",
       "      <td>4.000</td>\n",
       "      <td>43.0</td>\n",
       "      <td>3</td>\n",
       "    </tr>\n",
       "  </tbody>\n",
       "</table>\n",
       "</div>"
      ],
      "text/plain": [
       "        t_key0  t_mode0      t_dur0  t_dance0  t_energy0  t_speech0  t_acous0  \\\n",
       "id                                                                              \n",
       "146790     3.0      0.0  253999.667     0.521      0.395     0.0340    0.6580   \n",
       "142735     7.0      0.0  256574.000     0.859      0.536     0.1030    0.0241   \n",
       "971        7.0      1.0  192337.667     0.564      0.217     0.0310    0.9090   \n",
       "61341      6.0      1.0  126842.000     0.745      0.618     0.2870    0.1780   \n",
       "153359     6.0      1.0  156230.000     0.759      0.411     0.0427    0.4160   \n",
       "\n",
       "        t_ins0  t_live0  t_val0  t_tempo0  t_sig0  popularity  \\\n",
       "id                                                              \n",
       "146790   0.003   0.1550   0.193    99.134   4.000        34.0   \n",
       "142735   0.000   0.0667   0.713    80.997   4.000         2.0   \n",
       "971      0.002   0.1090   0.467   119.123   3.333        62.0   \n",
       "61341    0.000   0.2900   0.519   129.052   4.000        19.0   \n",
       "153359   0.706   0.1320   0.281   145.928   4.000        43.0   \n",
       "\n",
       "        ClasePopularidad  \n",
       "id                        \n",
       "146790                 2  \n",
       "142735                 1  \n",
       "971                    4  \n",
       "61341                  1  \n",
       "153359                 3  "
      ]
     },
     "execution_count": 21,
     "metadata": {},
     "output_type": "execute_result"
    }
   ],
   "source": [
    "train_ref = pd.read_csv('train_ref.csv')\n",
    "train_ref = train_ref.set_index('id')\n",
    "train_ref.head()"
   ]
  },
  {
   "cell_type": "markdown",
   "metadata": {
    "id": "TXPL0bJFLbJA"
   },
   "source": [
    "## Limpieza y manipulacion - Etapa 2"
   ]
  },
  {
   "cell_type": "code",
   "execution_count": 22,
   "metadata": {
    "colab": {
     "base_uri": "https://localhost:8080/"
    },
    "executionInfo": {
     "elapsed": 129,
     "status": "ok",
     "timestamp": 1658252161742,
     "user": {
      "displayName": "Rossana Scavone",
      "userId": "17148856163347856032"
     },
     "user_tz": 420
    },
    "id": "e0222984",
    "outputId": "d016073e-d5c7-487c-895f-97e347a6d071"
   },
   "outputs": [
    {
     "data": {
      "text/plain": [
       "t_key0               61\n",
       "t_mode0              61\n",
       "t_dur0                0\n",
       "t_dance0            103\n",
       "t_energy0           103\n",
       "t_speech0           103\n",
       "t_acous0            103\n",
       "t_ins0              103\n",
       "t_live0             103\n",
       "t_val0              103\n",
       "t_tempo0            103\n",
       "t_sig0              103\n",
       "popularity            0\n",
       "ClasePopularidad      0\n",
       "dtype: int64"
      ]
     },
     "execution_count": 22,
     "metadata": {},
     "output_type": "execute_result"
    }
   ],
   "source": [
    "#Verificamos si existen nulos\n",
    "train.isnull().sum()"
   ]
  },
  {
   "cell_type": "markdown",
   "metadata": {
    "id": "07724ccf"
   },
   "source": [
    "**Observaciones**\n",
    "- Se debe rellenar los nulos en los atributos \n",
    "- Se hara con una funcion que toma la mediana del Set de Training "
   ]
  },
  {
   "cell_type": "code",
   "execution_count": 23,
   "metadata": {
    "executionInfo": {
     "elapsed": 141,
     "status": "ok",
     "timestamp": 1658252173043,
     "user": {
      "displayName": "Rossana Scavone",
      "userId": "17148856163347856032"
     },
     "user_tz": 420
    },
    "id": "4c38068e"
   },
   "outputs": [],
   "source": [
    "def fill_na(dfref,df,atributos):\n",
    "    for i in atributos:\n",
    "        moda = dfref[i].mode()[0]\n",
    "        df[i].fillna(moda,inplace=True)\n",
    "    \n",
    "    "
   ]
  },
  {
   "cell_type": "code",
   "execution_count": 24,
   "metadata": {
    "executionInfo": {
     "elapsed": 130,
     "status": "ok",
     "timestamp": 1658252174173,
     "user": {
      "displayName": "Rossana Scavone",
      "userId": "17148856163347856032"
     },
     "user_tz": 420
    },
    "id": "571f0c17"
   },
   "outputs": [],
   "source": [
    "atributos = ['t_key0','t_mode0','t_dance0','t_energy0','t_speech0','t_acous0','t_ins0','t_live0','t_val0','t_tempo0','t_sig0']\n",
    "\n",
    "fill_na(train_ref,train,atributos)"
   ]
  },
  {
   "cell_type": "code",
   "execution_count": 25,
   "metadata": {
    "colab": {
     "base_uri": "https://localhost:8080/"
    },
    "executionInfo": {
     "elapsed": 126,
     "status": "ok",
     "timestamp": 1658252174984,
     "user": {
      "displayName": "Rossana Scavone",
      "userId": "17148856163347856032"
     },
     "user_tz": 420
    },
    "id": "5734adff",
    "outputId": "7db22fd5-d0f1-4d98-c7d8-e07a7263e690"
   },
   "outputs": [
    {
     "data": {
      "text/plain": [
       "t_key0              0\n",
       "t_mode0             0\n",
       "t_dur0              0\n",
       "t_dance0            0\n",
       "t_energy0           0\n",
       "t_speech0           0\n",
       "t_acous0            0\n",
       "t_ins0              0\n",
       "t_live0             0\n",
       "t_val0              0\n",
       "t_tempo0            0\n",
       "t_sig0              0\n",
       "popularity          0\n",
       "ClasePopularidad    0\n",
       "dtype: int64"
      ]
     },
     "execution_count": 25,
     "metadata": {},
     "output_type": "execute_result"
    }
   ],
   "source": [
    "#Verificacion\n",
    "train.isnull().sum()"
   ]
  },
  {
   "cell_type": "markdown",
   "metadata": {
    "id": "ATzYKrIbBl8N"
   },
   "source": [
    "## Visualizacion de Atributos a usarse en Algoritmos\n",
    "\n",
    "Los Features considerados para los algoritmos son:\n",
    "\n",
    "- **Key**\n",
    "- **Mode**\n",
    "- **Duration**\n",
    "- **Danceability**\n",
    "- **Energy**\n",
    "- **Speechiness**\n",
    "- **Acousticness**\n",
    "- **Instrumentalness**\n",
    "- **Liveness**\n",
    "- **Valence**\n",
    "- **Tempo**\n",
    "- **Time Signature**\n",
    "\n",
    "Buscamos ver si tenemos variables con distribuciones semejantes a la Normal y en caso contrario ver como se podrian transformar"
   ]
  },
  {
   "cell_type": "code",
   "execution_count": 26,
   "metadata": {
    "executionInfo": {
     "elapsed": 138,
     "status": "ok",
     "timestamp": 1658252182155,
     "user": {
      "displayName": "Rossana Scavone",
      "userId": "17148856163347856032"
     },
     "user_tz": 420
    },
    "id": "ZjBUm-rRogU5"
   },
   "outputs": [],
   "source": [
    "#Primero pasamos la duracion de milisegundos a segundos\n",
    "train['t_dur0'] = train['t_dur0'].apply(lambda x: round(x/1000,2))"
   ]
  },
  {
   "cell_type": "code",
   "execution_count": 27,
   "metadata": {
    "colab": {
     "base_uri": "https://localhost:8080/",
     "height": 238
    },
    "executionInfo": {
     "elapsed": 188,
     "status": "ok",
     "timestamp": 1658252183197,
     "user": {
      "displayName": "Rossana Scavone",
      "userId": "17148856163347856032"
     },
     "user_tz": 420
    },
    "id": "D6XnEqHkoNct",
    "outputId": "187d58fc-4027-4fc5-b1e3-06c73788c165"
   },
   "outputs": [
    {
     "data": {
      "text/html": [
       "<div>\n",
       "<style scoped>\n",
       "    .dataframe tbody tr th:only-of-type {\n",
       "        vertical-align: middle;\n",
       "    }\n",
       "\n",
       "    .dataframe tbody tr th {\n",
       "        vertical-align: top;\n",
       "    }\n",
       "\n",
       "    .dataframe thead th {\n",
       "        text-align: right;\n",
       "    }\n",
       "</style>\n",
       "<table border=\"1\" class=\"dataframe\">\n",
       "  <thead>\n",
       "    <tr style=\"text-align: right;\">\n",
       "      <th></th>\n",
       "      <th>t_key0</th>\n",
       "      <th>t_mode0</th>\n",
       "      <th>t_dur0</th>\n",
       "      <th>t_dance0</th>\n",
       "      <th>t_energy0</th>\n",
       "      <th>t_speech0</th>\n",
       "      <th>t_acous0</th>\n",
       "      <th>t_ins0</th>\n",
       "      <th>t_live0</th>\n",
       "      <th>t_val0</th>\n",
       "      <th>t_tempo0</th>\n",
       "      <th>t_sig0</th>\n",
       "      <th>popularity</th>\n",
       "      <th>ClasePopularidad</th>\n",
       "    </tr>\n",
       "    <tr>\n",
       "      <th>id</th>\n",
       "      <th></th>\n",
       "      <th></th>\n",
       "      <th></th>\n",
       "      <th></th>\n",
       "      <th></th>\n",
       "      <th></th>\n",
       "      <th></th>\n",
       "      <th></th>\n",
       "      <th></th>\n",
       "      <th></th>\n",
       "      <th></th>\n",
       "      <th></th>\n",
       "      <th></th>\n",
       "      <th></th>\n",
       "    </tr>\n",
       "  </thead>\n",
       "  <tbody>\n",
       "    <tr>\n",
       "      <th>146790</th>\n",
       "      <td>3.0</td>\n",
       "      <td>0.0</td>\n",
       "      <td>254.00</td>\n",
       "      <td>0.521</td>\n",
       "      <td>0.395</td>\n",
       "      <td>0.0340</td>\n",
       "      <td>0.6580</td>\n",
       "      <td>0.003</td>\n",
       "      <td>0.1550</td>\n",
       "      <td>0.193</td>\n",
       "      <td>99.134</td>\n",
       "      <td>4.000</td>\n",
       "      <td>34.0</td>\n",
       "      <td>2</td>\n",
       "    </tr>\n",
       "    <tr>\n",
       "      <th>142735</th>\n",
       "      <td>7.0</td>\n",
       "      <td>0.0</td>\n",
       "      <td>256.57</td>\n",
       "      <td>0.859</td>\n",
       "      <td>0.536</td>\n",
       "      <td>0.1030</td>\n",
       "      <td>0.0241</td>\n",
       "      <td>0.000</td>\n",
       "      <td>0.0667</td>\n",
       "      <td>0.713</td>\n",
       "      <td>80.997</td>\n",
       "      <td>4.000</td>\n",
       "      <td>2.0</td>\n",
       "      <td>1</td>\n",
       "    </tr>\n",
       "    <tr>\n",
       "      <th>971</th>\n",
       "      <td>7.0</td>\n",
       "      <td>1.0</td>\n",
       "      <td>192.34</td>\n",
       "      <td>0.564</td>\n",
       "      <td>0.217</td>\n",
       "      <td>0.0310</td>\n",
       "      <td>0.9090</td>\n",
       "      <td>0.002</td>\n",
       "      <td>0.1090</td>\n",
       "      <td>0.467</td>\n",
       "      <td>119.123</td>\n",
       "      <td>3.333</td>\n",
       "      <td>62.0</td>\n",
       "      <td>4</td>\n",
       "    </tr>\n",
       "    <tr>\n",
       "      <th>61341</th>\n",
       "      <td>6.0</td>\n",
       "      <td>1.0</td>\n",
       "      <td>126.84</td>\n",
       "      <td>0.745</td>\n",
       "      <td>0.618</td>\n",
       "      <td>0.2870</td>\n",
       "      <td>0.1780</td>\n",
       "      <td>0.000</td>\n",
       "      <td>0.2900</td>\n",
       "      <td>0.519</td>\n",
       "      <td>129.052</td>\n",
       "      <td>4.000</td>\n",
       "      <td>19.0</td>\n",
       "      <td>1</td>\n",
       "    </tr>\n",
       "    <tr>\n",
       "      <th>153359</th>\n",
       "      <td>6.0</td>\n",
       "      <td>1.0</td>\n",
       "      <td>156.23</td>\n",
       "      <td>0.759</td>\n",
       "      <td>0.411</td>\n",
       "      <td>0.0427</td>\n",
       "      <td>0.4160</td>\n",
       "      <td>0.706</td>\n",
       "      <td>0.1320</td>\n",
       "      <td>0.281</td>\n",
       "      <td>145.928</td>\n",
       "      <td>4.000</td>\n",
       "      <td>43.0</td>\n",
       "      <td>3</td>\n",
       "    </tr>\n",
       "  </tbody>\n",
       "</table>\n",
       "</div>"
      ],
      "text/plain": [
       "        t_key0  t_mode0  t_dur0  t_dance0  t_energy0  t_speech0  t_acous0  \\\n",
       "id                                                                          \n",
       "146790     3.0      0.0  254.00     0.521      0.395     0.0340    0.6580   \n",
       "142735     7.0      0.0  256.57     0.859      0.536     0.1030    0.0241   \n",
       "971        7.0      1.0  192.34     0.564      0.217     0.0310    0.9090   \n",
       "61341      6.0      1.0  126.84     0.745      0.618     0.2870    0.1780   \n",
       "153359     6.0      1.0  156.23     0.759      0.411     0.0427    0.4160   \n",
       "\n",
       "        t_ins0  t_live0  t_val0  t_tempo0  t_sig0  popularity  \\\n",
       "id                                                              \n",
       "146790   0.003   0.1550   0.193    99.134   4.000        34.0   \n",
       "142735   0.000   0.0667   0.713    80.997   4.000         2.0   \n",
       "971      0.002   0.1090   0.467   119.123   3.333        62.0   \n",
       "61341    0.000   0.2900   0.519   129.052   4.000        19.0   \n",
       "153359   0.706   0.1320   0.281   145.928   4.000        43.0   \n",
       "\n",
       "        ClasePopularidad  \n",
       "id                        \n",
       "146790                 2  \n",
       "142735                 1  \n",
       "971                    4  \n",
       "61341                  1  \n",
       "153359                 3  "
      ]
     },
     "execution_count": 27,
     "metadata": {},
     "output_type": "execute_result"
    }
   ],
   "source": [
    "train.head()"
   ]
  },
  {
   "cell_type": "code",
   "execution_count": 28,
   "metadata": {
    "executionInfo": {
     "elapsed": 188,
     "status": "ok",
     "timestamp": 1658252190706,
     "user": {
      "displayName": "Rossana Scavone",
      "userId": "17148856163347856032"
     },
     "user_tz": 420
    },
    "id": "a19ce14c"
   },
   "outputs": [],
   "source": [
    "from scipy import stats\n",
    "from scipy.stats import norm\n",
    "\n",
    "def histogramas_features(features,df):\n",
    "\n",
    "  height = []\n",
    "  for j in range(0,math.ceil(len(features)/2),2):\n",
    "    height.append(2)\n",
    "    height.append(1)\n",
    "\n",
    "  fig,axes = plt.subplots((math.ceil(len(features)/4)*2),4,figsize=(25,22),gridspec_kw={'height_ratios': height})   #El numero de filas va x2 porque cada feature lleva dos graficos\n",
    "  A = [0,0,0,0,2,2,2,2,4,4,4,4]\n",
    "  B = [0,1,2,3,0,1,2,3,0,1,2,3]\n",
    "  C = [1,1,1,1,3,3,3,3,5,5,5,5]\n",
    "\n",
    "  for i,a,b in zip(range(0,len(features)),A,B):\n",
    "    sns.distplot(df.loc[:,features[i]],hist=True,kde=True,ax=axes[a,b],fit =norm)    #Hago los histogramas\n",
    "    axes[a,b].legend(labels = ['Actual','Fit de Normal'])\n",
    "\n",
    "  for i,c,b in zip(range(0,len(features)),C,B):\n",
    "    sns.boxplot(x = features[i], data = df, orient = 'v', color = '#99edc3', ax = axes[c,b])\n",
    "                                     \n",
    "        \n"
   ]
  },
  {
   "cell_type": "code",
   "execution_count": 29,
   "metadata": {
    "colab": {
     "base_uri": "https://localhost:8080/",
     "height": 1000
    },
    "executionInfo": {
     "elapsed": 10341,
     "status": "ok",
     "timestamp": 1658252202330,
     "user": {
      "displayName": "Rossana Scavone",
      "userId": "17148856163347856032"
     },
     "user_tz": 420
    },
    "id": "xS_1rMCbLJ4s",
    "outputId": "a49f7ccb-1e95-48ca-efa2-b7a11430fac3"
   },
   "outputs": [
    {
     "name": "stderr",
     "output_type": "stream",
     "text": [
      "C:\\Users\\acana\\miniconda3\\lib\\site-packages\\seaborn\\distributions.py:2619: FutureWarning: `distplot` is a deprecated function and will be removed in a future version. Please adapt your code to use either `displot` (a figure-level function with similar flexibility) or `histplot` (an axes-level function for histograms).\n",
      "  warnings.warn(msg, FutureWarning)\n",
      "C:\\Users\\acana\\miniconda3\\lib\\site-packages\\seaborn\\distributions.py:2619: FutureWarning: `distplot` is a deprecated function and will be removed in a future version. Please adapt your code to use either `displot` (a figure-level function with similar flexibility) or `histplot` (an axes-level function for histograms).\n",
      "  warnings.warn(msg, FutureWarning)\n",
      "C:\\Users\\acana\\miniconda3\\lib\\site-packages\\seaborn\\distributions.py:2619: FutureWarning: `distplot` is a deprecated function and will be removed in a future version. Please adapt your code to use either `displot` (a figure-level function with similar flexibility) or `histplot` (an axes-level function for histograms).\n",
      "  warnings.warn(msg, FutureWarning)\n",
      "C:\\Users\\acana\\miniconda3\\lib\\site-packages\\seaborn\\distributions.py:2619: FutureWarning: `distplot` is a deprecated function and will be removed in a future version. Please adapt your code to use either `displot` (a figure-level function with similar flexibility) or `histplot` (an axes-level function for histograms).\n",
      "  warnings.warn(msg, FutureWarning)\n",
      "C:\\Users\\acana\\miniconda3\\lib\\site-packages\\seaborn\\distributions.py:2619: FutureWarning: `distplot` is a deprecated function and will be removed in a future version. Please adapt your code to use either `displot` (a figure-level function with similar flexibility) or `histplot` (an axes-level function for histograms).\n",
      "  warnings.warn(msg, FutureWarning)\n",
      "C:\\Users\\acana\\miniconda3\\lib\\site-packages\\seaborn\\distributions.py:2619: FutureWarning: `distplot` is a deprecated function and will be removed in a future version. Please adapt your code to use either `displot` (a figure-level function with similar flexibility) or `histplot` (an axes-level function for histograms).\n",
      "  warnings.warn(msg, FutureWarning)\n",
      "C:\\Users\\acana\\miniconda3\\lib\\site-packages\\seaborn\\distributions.py:2619: FutureWarning: `distplot` is a deprecated function and will be removed in a future version. Please adapt your code to use either `displot` (a figure-level function with similar flexibility) or `histplot` (an axes-level function for histograms).\n",
      "  warnings.warn(msg, FutureWarning)\n",
      "C:\\Users\\acana\\miniconda3\\lib\\site-packages\\seaborn\\distributions.py:2619: FutureWarning: `distplot` is a deprecated function and will be removed in a future version. Please adapt your code to use either `displot` (a figure-level function with similar flexibility) or `histplot` (an axes-level function for histograms).\n",
      "  warnings.warn(msg, FutureWarning)\n",
      "C:\\Users\\acana\\miniconda3\\lib\\site-packages\\seaborn\\distributions.py:2619: FutureWarning: `distplot` is a deprecated function and will be removed in a future version. Please adapt your code to use either `displot` (a figure-level function with similar flexibility) or `histplot` (an axes-level function for histograms).\n",
      "  warnings.warn(msg, FutureWarning)\n",
      "C:\\Users\\acana\\miniconda3\\lib\\site-packages\\seaborn\\distributions.py:2619: FutureWarning: `distplot` is a deprecated function and will be removed in a future version. Please adapt your code to use either `displot` (a figure-level function with similar flexibility) or `histplot` (an axes-level function for histograms).\n",
      "  warnings.warn(msg, FutureWarning)\n",
      "C:\\Users\\acana\\miniconda3\\lib\\site-packages\\seaborn\\distributions.py:2619: FutureWarning: `distplot` is a deprecated function and will be removed in a future version. Please adapt your code to use either `displot` (a figure-level function with similar flexibility) or `histplot` (an axes-level function for histograms).\n",
      "  warnings.warn(msg, FutureWarning)\n",
      "C:\\Users\\acana\\miniconda3\\lib\\site-packages\\seaborn\\distributions.py:2619: FutureWarning: `distplot` is a deprecated function and will be removed in a future version. Please adapt your code to use either `displot` (a figure-level function with similar flexibility) or `histplot` (an axes-level function for histograms).\n",
      "  warnings.warn(msg, FutureWarning)\n",
      "C:\\Users\\acana\\miniconda3\\lib\\site-packages\\seaborn\\_core.py:1326: UserWarning: Vertical orientation ignored with only `x` specified.\n",
      "  warnings.warn(single_var_warning.format(\"Vertical\", \"x\"))\n",
      "C:\\Users\\acana\\miniconda3\\lib\\site-packages\\seaborn\\_core.py:1326: UserWarning: Vertical orientation ignored with only `x` specified.\n",
      "  warnings.warn(single_var_warning.format(\"Vertical\", \"x\"))\n",
      "C:\\Users\\acana\\miniconda3\\lib\\site-packages\\seaborn\\_core.py:1326: UserWarning: Vertical orientation ignored with only `x` specified.\n",
      "  warnings.warn(single_var_warning.format(\"Vertical\", \"x\"))\n",
      "C:\\Users\\acana\\miniconda3\\lib\\site-packages\\seaborn\\_core.py:1326: UserWarning: Vertical orientation ignored with only `x` specified.\n",
      "  warnings.warn(single_var_warning.format(\"Vertical\", \"x\"))\n",
      "C:\\Users\\acana\\miniconda3\\lib\\site-packages\\seaborn\\_core.py:1326: UserWarning: Vertical orientation ignored with only `x` specified.\n",
      "  warnings.warn(single_var_warning.format(\"Vertical\", \"x\"))\n",
      "C:\\Users\\acana\\miniconda3\\lib\\site-packages\\seaborn\\_core.py:1326: UserWarning: Vertical orientation ignored with only `x` specified.\n",
      "  warnings.warn(single_var_warning.format(\"Vertical\", \"x\"))\n",
      "C:\\Users\\acana\\miniconda3\\lib\\site-packages\\seaborn\\_core.py:1326: UserWarning: Vertical orientation ignored with only `x` specified.\n",
      "  warnings.warn(single_var_warning.format(\"Vertical\", \"x\"))\n",
      "C:\\Users\\acana\\miniconda3\\lib\\site-packages\\seaborn\\_core.py:1326: UserWarning: Vertical orientation ignored with only `x` specified.\n",
      "  warnings.warn(single_var_warning.format(\"Vertical\", \"x\"))\n",
      "C:\\Users\\acana\\miniconda3\\lib\\site-packages\\seaborn\\_core.py:1326: UserWarning: Vertical orientation ignored with only `x` specified.\n",
      "  warnings.warn(single_var_warning.format(\"Vertical\", \"x\"))\n",
      "C:\\Users\\acana\\miniconda3\\lib\\site-packages\\seaborn\\_core.py:1326: UserWarning: Vertical orientation ignored with only `x` specified.\n",
      "  warnings.warn(single_var_warning.format(\"Vertical\", \"x\"))\n",
      "C:\\Users\\acana\\miniconda3\\lib\\site-packages\\seaborn\\_core.py:1326: UserWarning: Vertical orientation ignored with only `x` specified.\n",
      "  warnings.warn(single_var_warning.format(\"Vertical\", \"x\"))\n",
      "C:\\Users\\acana\\miniconda3\\lib\\site-packages\\seaborn\\_core.py:1326: UserWarning: Vertical orientation ignored with only `x` specified.\n",
      "  warnings.warn(single_var_warning.format(\"Vertical\", \"x\"))\n"
     ]
    },
    {
     "data": {
      "image/png": "[encoded data removed]",
      "text/plain": [
       "<Figure size 1800x1584 with 24 Axes>"
      ]
     },
     "metadata": {
      "needs_background": "light"
     },
     "output_type": "display_data"
    }
   ],
   "source": [
    "features = ['t_key0','t_mode0','t_dur0','t_dance0','t_energy0','t_speech0','t_acous0','t_ins0','t_live0','t_val0','t_tempo0','t_sig0']\n",
    "histogramas_features(features,train)"
   ]
  },
  {
   "cell_type": "markdown",
   "metadata": {
    "id": "rx3f5FJwo4eU"
   },
   "source": [
    "**Observaciones**\n",
    "\n",
    "- Variable Modo: Solo toma dos valores, ya que el modo puede ser Menor (cero) o Mayor (1).\n",
    "\n",
    "- Variable Duration: muy sesgada a la izquierda. Segun se vio mas adelante, el promedio de esta variable es de 200 segundos (3.4 minutos) y el 75% se encuentra en 230 segundos. Estos valores se ajustan a la duracion de una cancion promedio. Por otro lado, el mayor valor en esta variable es de 180 minutos. \n",
    "\n",
    "- Variable time Signature: Esta variable esta muy relacionada con la varible Tempo, ya que ambas hacen referencia a las BPM de la cancion. Por lo que podriamos obviar este atributo y solo usar Tempo.\n",
    "\n",
    "- Tempo: Se ven algunos valores en Cero, lo cual es incorrecto (porque no deberian haber canciones con Cero BPM). Estos datos se deben eliminar\n",
    "\n",
    "- Speechness, Liveliness y Instrumentalnes: muy sesgadas a la derecha. \n"
   ]
  },
  {
   "cell_type": "markdown",
   "metadata": {},
   "source": [
    "### Time Signature y Tempo"
   ]
  },
  {
   "cell_type": "code",
   "execution_count": 30,
   "metadata": {
    "executionInfo": {
     "elapsed": 144,
     "status": "ok",
     "timestamp": 1658252252541,
     "user": {
      "displayName": "Rossana Scavone",
      "userId": "17148856163347856032"
     },
     "user_tz": 420
    },
    "id": "JY9y1HBCoNLX"
   },
   "outputs": [],
   "source": [
    "#Eliminamos Time Signature del analisis\n",
    "\n",
    "train.drop('t_sig0',inplace=True, axis = 1)"
   ]
  },
  {
   "cell_type": "code",
   "execution_count": 31,
   "metadata": {
    "colab": {
     "base_uri": "https://localhost:8080/"
    },
    "executionInfo": {
     "elapsed": 165,
     "status": "ok",
     "timestamp": 1658252257932,
     "user": {
      "displayName": "Rossana Scavone",
      "userId": "17148856163347856032"
     },
     "user_tz": 420
    },
    "id": "h0Y29hpXrBKp",
    "outputId": "cc99f169-953b-4571-9054-d73cce7ae0d3"
   },
   "outputs": [
    {
     "data": {
      "text/plain": [
       "t_key0              18\n",
       "t_mode0             18\n",
       "t_dur0              18\n",
       "t_dance0            18\n",
       "t_energy0           18\n",
       "t_speech0           18\n",
       "t_acous0            18\n",
       "t_ins0              18\n",
       "t_live0             18\n",
       "t_val0              18\n",
       "t_tempo0            18\n",
       "popularity          18\n",
       "ClasePopularidad    18\n",
       "dtype: int64"
      ]
     },
     "execution_count": 31,
     "metadata": {},
     "output_type": "execute_result"
    }
   ],
   "source": [
    "#Variable Tempo, vemos cuantos valores hay en cero\n",
    "train.loc[train['t_tempo0']<1].count()"
   ]
  },
  {
   "cell_type": "code",
   "execution_count": 32,
   "metadata": {
    "executionInfo": {
     "elapsed": 138,
     "status": "ok",
     "timestamp": 1658252264147,
     "user": {
      "displayName": "Rossana Scavone",
      "userId": "17148856163347856032"
     },
     "user_tz": 420
    },
    "id": "tk9emd-OrSAW"
   },
   "outputs": [],
   "source": [
    "#Eliminamos esos valores \n",
    "\n",
    "def removerCeros(value):\n",
    "    if (value == 0):\n",
    "        return np.nan\n",
    "    else:\n",
    "        return value\n"
   ]
  },
  {
   "cell_type": "code",
   "execution_count": 33,
   "metadata": {
    "colab": {
     "base_uri": "https://localhost:8080/"
    },
    "executionInfo": {
     "elapsed": 150,
     "status": "ok",
     "timestamp": 1658252265523,
     "user": {
      "displayName": "Rossana Scavone",
      "userId": "17148856163347856032"
     },
     "user_tz": 420
    },
    "id": "i3n8_hc4rld8",
    "outputId": "dd1e3f35-2d60-4726-c891-9bf1f6b92f85"
   },
   "outputs": [
    {
     "data": {
      "text/plain": [
       "t_key0               0\n",
       "t_mode0              0\n",
       "t_dur0               0\n",
       "t_dance0             0\n",
       "t_energy0            0\n",
       "t_speech0            0\n",
       "t_acous0             0\n",
       "t_ins0               0\n",
       "t_live0              0\n",
       "t_val0               0\n",
       "t_tempo0            18\n",
       "popularity           0\n",
       "ClasePopularidad     0\n",
       "dtype: int64"
      ]
     },
     "execution_count": 33,
     "metadata": {},
     "output_type": "execute_result"
    }
   ],
   "source": [
    "#Aplicamos la funcion \n",
    "train['t_tempo0']= train['t_tempo0'].apply(lambda x : removerCeros(x))\n",
    "train.isnull().sum()"
   ]
  },
  {
   "cell_type": "code",
   "execution_count": 34,
   "metadata": {
    "executionInfo": {
     "elapsed": 161,
     "status": "ok",
     "timestamp": 1658252269847,
     "user": {
      "displayName": "Rossana Scavone",
      "userId": "17148856163347856032"
     },
     "user_tz": 420
    },
    "id": "B_msfDTor1yW"
   },
   "outputs": [],
   "source": [
    "#Eliminamos los registros\n",
    "train.dropna(inplace = True)"
   ]
  },
  {
   "cell_type": "markdown",
   "metadata": {
    "id": "PN7zUZgiNzbY"
   },
   "source": [
    "### Variable Duration"
   ]
  },
  {
   "cell_type": "code",
   "execution_count": 35,
   "metadata": {
    "colab": {
     "base_uri": "https://localhost:8080/",
     "height": 112
    },
    "executionInfo": {
     "elapsed": 186,
     "status": "ok",
     "timestamp": 1658252273126,
     "user": {
      "displayName": "Rossana Scavone",
      "userId": "17148856163347856032"
     },
     "user_tz": 420
    },
    "id": "VzFkBRWrOCkJ",
    "outputId": "8b7b2bbe-2766-4bfd-9ca6-965ee33014e7"
   },
   "outputs": [
    {
     "data": {
      "text/html": [
       "<div>\n",
       "<style scoped>\n",
       "    .dataframe tbody tr th:only-of-type {\n",
       "        vertical-align: middle;\n",
       "    }\n",
       "\n",
       "    .dataframe tbody tr th {\n",
       "        vertical-align: top;\n",
       "    }\n",
       "\n",
       "    .dataframe thead th {\n",
       "        text-align: right;\n",
       "    }\n",
       "</style>\n",
       "<table border=\"1\" class=\"dataframe\">\n",
       "  <thead>\n",
       "    <tr style=\"text-align: right;\">\n",
       "      <th></th>\n",
       "      <th>t_key0</th>\n",
       "      <th>t_mode0</th>\n",
       "      <th>t_dur0</th>\n",
       "      <th>t_dance0</th>\n",
       "      <th>t_energy0</th>\n",
       "      <th>t_speech0</th>\n",
       "      <th>t_acous0</th>\n",
       "      <th>t_ins0</th>\n",
       "      <th>t_live0</th>\n",
       "      <th>t_val0</th>\n",
       "      <th>t_tempo0</th>\n",
       "      <th>popularity</th>\n",
       "      <th>ClasePopularidad</th>\n",
       "    </tr>\n",
       "    <tr>\n",
       "      <th>id</th>\n",
       "      <th></th>\n",
       "      <th></th>\n",
       "      <th></th>\n",
       "      <th></th>\n",
       "      <th></th>\n",
       "      <th></th>\n",
       "      <th></th>\n",
       "      <th></th>\n",
       "      <th></th>\n",
       "      <th></th>\n",
       "      <th></th>\n",
       "      <th></th>\n",
       "      <th></th>\n",
       "    </tr>\n",
       "  </thead>\n",
       "  <tbody>\n",
       "    <tr>\n",
       "      <th>35803</th>\n",
       "      <td>1.0</td>\n",
       "      <td>1.0</td>\n",
       "      <td>10828.19</td>\n",
       "      <td>0.657</td>\n",
       "      <td>0.635</td>\n",
       "      <td>0.04</td>\n",
       "      <td>0.0</td>\n",
       "      <td>0.0</td>\n",
       "      <td>0.111</td>\n",
       "      <td>0.496</td>\n",
       "      <td>130.0</td>\n",
       "      <td>55.0</td>\n",
       "      <td>3</td>\n",
       "    </tr>\n",
       "  </tbody>\n",
       "</table>\n",
       "</div>"
      ],
      "text/plain": [
       "       t_key0  t_mode0    t_dur0  t_dance0  t_energy0  t_speech0  t_acous0  \\\n",
       "id                                                                           \n",
       "35803     1.0      1.0  10828.19     0.657      0.635       0.04       0.0   \n",
       "\n",
       "       t_ins0  t_live0  t_val0  t_tempo0  popularity  ClasePopularidad  \n",
       "id                                                                      \n",
       "35803     0.0    0.111   0.496     130.0        55.0                 3  "
      ]
     },
     "execution_count": 35,
     "metadata": {},
     "output_type": "execute_result"
    }
   ],
   "source": [
    "#Por curiosidad, buscamos el registro de la cancion de 180minutos de duracion\n",
    "train.loc[train['t_dur0']>10000]"
   ]
  },
  {
   "cell_type": "code",
   "execution_count": 37,
   "metadata": {
    "colab": {
     "base_uri": "https://localhost:8080/"
    },
    "executionInfo": {
     "elapsed": 128,
     "status": "ok",
     "timestamp": 1658252274108,
     "user": {
      "displayName": "Rossana Scavone",
      "userId": "17148856163347856032"
     },
     "user_tz": 420
    },
    "id": "BSOuPiRhOAVL",
    "outputId": "32f0ea5b-87c0-42ac-8c30-a1dd02ba5b8d"
   },
   "outputs": [
    {
     "data": {
      "text/plain": [
       "'White Noise 3 Hour Long'"
      ]
     },
     "execution_count": 37,
     "metadata": {},
     "output_type": "execute_result"
    }
   ],
   "source": [
    "#Con el ID vamos al Data Set original y buscamos el nombre de esta cancion\n",
    "dfReducido.loc[35803]['name']"
   ]
  },
  {
   "cell_type": "code",
   "execution_count": 38,
   "metadata": {
    "colab": {
     "base_uri": "https://localhost:8080/"
    },
    "executionInfo": {
     "elapsed": 137,
     "status": "ok",
     "timestamp": 1658252275581,
     "user": {
      "displayName": "Rossana Scavone",
      "userId": "17148856163347856032"
     },
     "user_tz": 420
    },
    "id": "_s2QKRjUrTfA",
    "outputId": "95e2d73a-c3a7-42fe-f2b5-85d2bdb09a50"
   },
   "outputs": [
    {
     "data": {
      "text/plain": [
       "t_key0              2324\n",
       "t_mode0             2324\n",
       "t_dur0              2324\n",
       "t_dance0            2324\n",
       "t_energy0           2324\n",
       "t_speech0           2324\n",
       "t_acous0            2324\n",
       "t_ins0              2324\n",
       "t_live0             2324\n",
       "t_val0              2324\n",
       "t_tempo0            2324\n",
       "popularity          2324\n",
       "ClasePopularidad    2324\n",
       "dtype: int64"
      ]
     },
     "execution_count": 38,
     "metadata": {},
     "output_type": "execute_result"
    }
   ],
   "source": [
    "#Vemos cuantos registros se eliminarian con un treshold de 6 minutos\n",
    "train.loc[train['t_dur0']>360].count()"
   ]
  },
  {
   "cell_type": "code",
   "execution_count": 39,
   "metadata": {
    "executionInfo": {
     "elapsed": 128,
     "status": "ok",
     "timestamp": 1658252279243,
     "user": {
      "displayName": "Rossana Scavone",
      "userId": "17148856163347856032"
     },
     "user_tz": 420
    },
    "id": "EjuEfuzcrqG3"
   },
   "outputs": [],
   "source": [
    "#Eliminamos los registors\n",
    "\n",
    "def removerOutlier(value,limit):\n",
    "    if (value >limit):\n",
    "        return np.nan\n",
    "    else:\n",
    "        return value"
   ]
  },
  {
   "cell_type": "code",
   "execution_count": 40,
   "metadata": {
    "colab": {
     "base_uri": "https://localhost:8080/"
    },
    "executionInfo": {
     "elapsed": 123,
     "status": "ok",
     "timestamp": 1658252282966,
     "user": {
      "displayName": "Rossana Scavone",
      "userId": "17148856163347856032"
     },
     "user_tz": 420
    },
    "id": "tGXPnrV_szDw",
    "outputId": "f2eb3af7-e0da-4335-c5a2-08d1793dcc3d"
   },
   "outputs": [
    {
     "data": {
      "text/plain": [
       "t_key0                 0\n",
       "t_mode0                0\n",
       "t_dur0              2324\n",
       "t_dance0               0\n",
       "t_energy0              0\n",
       "t_speech0              0\n",
       "t_acous0               0\n",
       "t_ins0                 0\n",
       "t_live0                0\n",
       "t_val0                 0\n",
       "t_tempo0               0\n",
       "popularity             0\n",
       "ClasePopularidad       0\n",
       "dtype: int64"
      ]
     },
     "execution_count": 40,
     "metadata": {},
     "output_type": "execute_result"
    }
   ],
   "source": [
    "#Aplicamos la funcion y chequeamos que se identificaron los registros que se quieren eliminar\n",
    "train['t_dur0']= train['t_dur0'].apply(lambda x : removerOutlier(x,360))\n",
    "train.isnull().sum()"
   ]
  },
  {
   "cell_type": "code",
   "execution_count": 41,
   "metadata": {
    "executionInfo": {
     "elapsed": 127,
     "status": "ok",
     "timestamp": 1658252284688,
     "user": {
      "displayName": "Rossana Scavone",
      "userId": "17148856163347856032"
     },
     "user_tz": 420
    },
    "id": "cC8d0CKjtAxz"
   },
   "outputs": [],
   "source": [
    "#Eliminamos los registros\n",
    "train.dropna(inplace = True)"
   ]
  },
  {
   "cell_type": "code",
   "execution_count": 42,
   "metadata": {
    "colab": {
     "base_uri": "https://localhost:8080/",
     "height": 713
    },
    "executionInfo": {
     "elapsed": 943,
     "status": "ok",
     "timestamp": 1658252292734,
     "user": {
      "displayName": "Rossana Scavone",
      "userId": "17148856163347856032"
     },
     "user_tz": 420
    },
    "id": "wVwaHVZstQJ3",
    "outputId": "4ad95e05-db23-4afb-8208-e53a6edffce2"
   },
   "outputs": [
    {
     "name": "stderr",
     "output_type": "stream",
     "text": [
      "C:\\Users\\acana\\miniconda3\\lib\\site-packages\\seaborn\\_core.py:1326: UserWarning: Vertical orientation ignored with only `x` specified.\n",
      "  warnings.warn(single_var_warning.format(\"Vertical\", \"x\"))\n"
     ]
    },
    {
     "data": {
      "text/plain": [
       "<AxesSubplot:xlabel='t_dur0'>"
      ]
     },
     "execution_count": 42,
     "metadata": {},
     "output_type": "execute_result"
    },
    {
     "data": {
      "image/png": "[encoded data removed]",
      "text/plain": [
       "<Figure size 1440x792 with 2 Axes>"
      ]
     },
     "metadata": {
      "needs_background": "light"
     },
     "output_type": "display_data"
    }
   ],
   "source": [
    "fig, axes = plt.subplots(2,1, figsize=(20,11), gridspec_kw={'height_ratios': [2, 1]}) \n",
    "'''Creamos una figura que genera 6 axes, donde hay una relacion 3 a 1 en el ancho de cada par de graficos \n",
    "Nota: se podria hacer algo similar a lo largo usando gridspec_kw={'height_ratios':[3,1]'''\n",
    "\n",
    "sns.histplot(x = 't_dur0',data = train, color ='#03ac13', bins = 10, ax = axes[0], kde = True)\n",
    "sns.boxplot(x = 't_dur0', data = train, orient = 'v', color = '#99edc3', ax = axes[1])"
   ]
  },
  {
   "cell_type": "markdown",
   "metadata": {
    "id": "kU5G11lARR_D"
   },
   "source": [
    "### Test de Hipotesis para verificar normalidad\n",
    "\n",
    "Posibles test a utilizar:\n",
    "\n",
    "- Shapiro-Wilk Test: Evalua la data y cuantifica la probabilidad de que esa data haya sido tomada de una distribucion de Gauss. En la practica, este metodo funciona muy bien para data set chicos (al rededor de 1000 registros o menos)\n",
    "\n",
    "- D'Agostino Test: Calcula datos estadisticos de la data para determinar si la distribucion se acerca a la normal. \n",
    "\n",
    "- Anderson-Darling Test: Es un test estadistco que evalua si un data set viene de una distribucion en particular, se pueden testear muchas. A diferencia de el test de D'Agostino, no solo utiliza el p-valor sino una lista mas completa de valores estadisticos\n",
    "\n",
    "\n",
    "\n",
    "De las variables que se manejan en el analisis, se tienen dos que son que toman valores discretos: Key y Mode. Como se dijo antes, Mode es Bimodal, nunca se va a poder ajustar a una distribucion normal, por lo que **NO** transformaremos dicha variable"
   ]
  },
  {
   "cell_type": "code",
   "execution_count": 43,
   "metadata": {
    "colab": {
     "base_uri": "https://localhost:8080/"
    },
    "executionInfo": {
     "elapsed": 145,
     "status": "ok",
     "timestamp": 1658252342552,
     "user": {
      "displayName": "Rossana Scavone",
      "userId": "17148856163347856032"
     },
     "user_tz": 420
    },
    "id": "qEdUGS3fRPyD",
    "outputId": "de436be5-7d6e-402d-8a4c-6e4e078c75fe"
   },
   "outputs": [
    {
     "name": "stdout",
     "output_type": "stream",
     "text": [
      "Sample does not look Gaussian for t_key0, with p_value = 0.0\n",
      "Sample does not look Gaussian for t_dur0, with p_value = 1.113083050037469e-56\n",
      "Sample does not look Gaussian for t_dance0, with p_value = 0.0\n",
      "Sample does not look Gaussian for t_energy0, with p_value = 0.0\n",
      "Sample does not look Gaussian for t_speech0, with p_value = 0.0\n",
      "Sample does not look Gaussian for t_acous0, with p_value = 0.0\n",
      "Sample does not look Gaussian for t_ins0, with p_value = 0.0\n",
      "Sample does not look Gaussian for t_live0, with p_value = 0.0\n",
      "Sample does not look Gaussian for t_val0, with p_value = 0.0\n",
      "Sample does not look Gaussian for t_tempo0, with p_value = 6.930115741447034e-118\n"
     ]
    }
   ],
   "source": [
    "from scipy.stats import normaltest\n",
    "\n",
    "#Vamos a realizar el test a TODOS los atributos en nuestro Train data set\n",
    "\n",
    "'''D'Agostino test'''\n",
    "\n",
    "features = ['t_key0','t_dur0','t_dance0','t_energy0','t_speech0','t_acous0','t_ins0','t_live0','t_val0','t_tempo0']\n",
    "\n",
    "for col in features:\n",
    "  stat, p = normaltest(train[col])\n",
    "\n",
    "  p_value = 0.05\n",
    "  if p > p_value:\n",
    "    print(f'Sample looks Gaussian for {col}, with p_value = {p}')\n",
    "  else:\n",
    "    print(f'Sample does not look Gaussian for {col}, with p_value = {p}')\n",
    "\n"
   ]
  },
  {
   "cell_type": "code",
   "execution_count": 44,
   "metadata": {
    "colab": {
     "base_uri": "https://localhost:8080/"
    },
    "executionInfo": {
     "elapsed": 386,
     "status": "ok",
     "timestamp": 1658252350000,
     "user": {
      "displayName": "Rossana Scavone",
      "userId": "17148856163347856032"
     },
     "user_tz": 420
    },
    "id": "GFuu1b8PRPwF",
    "outputId": "775d6b8a-a099-474b-fd10-5882e39db942"
   },
   "outputs": [
    {
     "name": "stdout",
     "output_type": "stream",
     "text": [
      "AndersonResult(statistic=1237.3408911112929, critical_values=array([0.576, 0.656, 0.787, 0.918, 1.092]), significance_level=array([15. , 10. ,  5. ,  2.5,  1. ]))\n",
      "For t_key0, level: 15.0 y value: 0.576 = data does not look normal (reject H0\n",
      "For t_key0, level: 10.0 y value: 0.656 = data does not look normal (reject H0\n",
      "For t_key0, level: 5.0 y value: 0.787 = data does not look normal (reject H0\n",
      "For t_key0, level: 2.5 y value: 0.918 = data does not look normal (reject H0\n",
      "For t_key0, level: 1.0 y value: 1.092 = data does not look normal (reject H0\n",
      "AndersonResult(statistic=65.49616693743883, critical_values=array([0.576, 0.656, 0.787, 0.918, 1.092]), significance_level=array([15. , 10. ,  5. ,  2.5,  1. ]))\n",
      "For t_dur0, level: 15.0 y value: 0.576 = data does not look normal (reject H0\n",
      "For t_dur0, level: 10.0 y value: 0.656 = data does not look normal (reject H0\n",
      "For t_dur0, level: 5.0 y value: 0.787 = data does not look normal (reject H0\n",
      "For t_dur0, level: 2.5 y value: 0.918 = data does not look normal (reject H0\n",
      "For t_dur0, level: 1.0 y value: 1.092 = data does not look normal (reject H0\n",
      "AndersonResult(statistic=314.52713230494555, critical_values=array([0.576, 0.656, 0.787, 0.918, 1.092]), significance_level=array([15. , 10. ,  5. ,  2.5,  1. ]))\n",
      "For t_dance0, level: 15.0 y value: 0.576 = data does not look normal (reject H0\n",
      "For t_dance0, level: 10.0 y value: 0.656 = data does not look normal (reject H0\n",
      "For t_dance0, level: 5.0 y value: 0.787 = data does not look normal (reject H0\n",
      "For t_dance0, level: 2.5 y value: 0.918 = data does not look normal (reject H0\n",
      "For t_dance0, level: 1.0 y value: 1.092 = data does not look normal (reject H0\n",
      "AndersonResult(statistic=331.89672585569497, critical_values=array([0.576, 0.656, 0.787, 0.918, 1.092]), significance_level=array([15. , 10. ,  5. ,  2.5,  1. ]))\n",
      "For t_energy0, level: 15.0 y value: 0.576 = data does not look normal (reject H0\n",
      "For t_energy0, level: 10.0 y value: 0.656 = data does not look normal (reject H0\n",
      "For t_energy0, level: 5.0 y value: 0.787 = data does not look normal (reject H0\n",
      "For t_energy0, level: 2.5 y value: 0.918 = data does not look normal (reject H0\n",
      "For t_energy0, level: 1.0 y value: 1.092 = data does not look normal (reject H0\n",
      "AndersonResult(statistic=4316.067265680504, critical_values=array([0.576, 0.656, 0.787, 0.918, 1.092]), significance_level=array([15. , 10. ,  5. ,  2.5,  1. ]))\n",
      "For t_speech0, level: 15.0 y value: 0.576 = data does not look normal (reject H0\n",
      "For t_speech0, level: 10.0 y value: 0.656 = data does not look normal (reject H0\n",
      "For t_speech0, level: 5.0 y value: 0.787 = data does not look normal (reject H0\n",
      "For t_speech0, level: 2.5 y value: 0.918 = data does not look normal (reject H0\n",
      "For t_speech0, level: 1.0 y value: 1.092 = data does not look normal (reject H0\n",
      "AndersonResult(statistic=2198.6643849159445, critical_values=array([0.576, 0.656, 0.787, 0.918, 1.092]), significance_level=array([15. , 10. ,  5. ,  2.5,  1. ]))\n",
      "For t_acous0, level: 15.0 y value: 0.576 = data does not look normal (reject H0\n",
      "For t_acous0, level: 10.0 y value: 0.656 = data does not look normal (reject H0\n",
      "For t_acous0, level: 5.0 y value: 0.787 = data does not look normal (reject H0\n",
      "For t_acous0, level: 2.5 y value: 0.918 = data does not look normal (reject H0\n",
      "For t_acous0, level: 1.0 y value: 1.092 = data does not look normal (reject H0\n",
      "AndersonResult(statistic=10275.884075266964, critical_values=array([0.576, 0.656, 0.787, 0.918, 1.092]), significance_level=array([15. , 10. ,  5. ,  2.5,  1. ]))\n",
      "For t_ins0, level: 15.0 y value: 0.576 = data does not look normal (reject H0\n",
      "For t_ins0, level: 10.0 y value: 0.656 = data does not look normal (reject H0\n",
      "For t_ins0, level: 5.0 y value: 0.787 = data does not look normal (reject H0\n",
      "For t_ins0, level: 2.5 y value: 0.918 = data does not look normal (reject H0\n",
      "For t_ins0, level: 1.0 y value: 1.092 = data does not look normal (reject H0\n",
      "AndersonResult(statistic=3315.1577326709157, critical_values=array([0.576, 0.656, 0.787, 0.918, 1.092]), significance_level=array([15. , 10. ,  5. ,  2.5,  1. ]))\n",
      "For t_live0, level: 15.0 y value: 0.576 = data does not look normal (reject H0\n",
      "For t_live0, level: 10.0 y value: 0.656 = data does not look normal (reject H0\n",
      "For t_live0, level: 5.0 y value: 0.787 = data does not look normal (reject H0\n",
      "For t_live0, level: 2.5 y value: 0.918 = data does not look normal (reject H0\n",
      "For t_live0, level: 1.0 y value: 1.092 = data does not look normal (reject H0\n",
      "AndersonResult(statistic=103.97060365157813, critical_values=array([0.576, 0.656, 0.787, 0.918, 1.092]), significance_level=array([15. , 10. ,  5. ,  2.5,  1. ]))\n",
      "For t_val0, level: 15.0 y value: 0.576 = data does not look normal (reject H0\n",
      "For t_val0, level: 10.0 y value: 0.656 = data does not look normal (reject H0\n",
      "For t_val0, level: 5.0 y value: 0.787 = data does not look normal (reject H0\n",
      "For t_val0, level: 2.5 y value: 0.918 = data does not look normal (reject H0\n",
      "For t_val0, level: 1.0 y value: 1.092 = data does not look normal (reject H0\n",
      "AndersonResult(statistic=50.32332610573212, critical_values=array([0.576, 0.656, 0.787, 0.918, 1.092]), significance_level=array([15. , 10. ,  5. ,  2.5,  1. ]))\n",
      "For t_tempo0, level: 15.0 y value: 0.576 = data does not look normal (reject H0\n",
      "For t_tempo0, level: 10.0 y value: 0.656 = data does not look normal (reject H0\n",
      "For t_tempo0, level: 5.0 y value: 0.787 = data does not look normal (reject H0\n",
      "For t_tempo0, level: 2.5 y value: 0.918 = data does not look normal (reject H0\n",
      "For t_tempo0, level: 1.0 y value: 1.092 = data does not look normal (reject H0\n"
     ]
    }
   ],
   "source": [
    "from scipy.stats import anderson\n",
    "\n",
    "'''Anderson Darling Test'''\n",
    "\n",
    "for col in features:\n",
    "  result = anderson(train[col])\n",
    "  print(result)\n",
    "  p = 0\n",
    "  for i in range(len(result.critical_values)):\n",
    "    sl = result.significance_level[i]\n",
    "    cv = result.critical_values[i]\n",
    "    if result.statistic < result.critical_values[i]:\n",
    "      print(f'For {col}, level: {sl} y value: {cv} = data looks normal (fail to reject H0)')\n",
    "    else:\n",
    "      print(f'For {col}, level: {sl} y value: {cv} = data does not look normal (reject H0')\n"
   ]
  },
  {
   "cell_type": "markdown",
   "metadata": {
    "id": "hSiAmFB2dVb4"
   },
   "source": [
    "**Observaciones**\n",
    "\n",
    "Los resultados de ambos test muestran que los atributos **NO** tienen distribucion Gaussiana.\n",
    "Por lo tanto, se realiza una transformacion con Box Cox.\n",
    "\n",
    "Para poder aplicar este metodo, los valores deben ser positivos y distintos a cero. Excepto Duration y Tempo, todos los atributos tienen valores de Cero:\n",
    "\n",
    "- Key: el valor 0 representa la Key C (Do).\n",
    "- Mode: el valor 0 representa el modo Menor\n",
    "- Dance, Energy, Speech, Acustivness, Instrumentalness, Liveliness y Valence: Toman valores de entre 0 a 1.\n",
    "\n",
    "\n",
    "Por lo tanto, previo a correr Box Cox, se desplazaran los datos sumando +1 a todos los registros"
   ]
  },
  {
   "cell_type": "code",
   "execution_count": 45,
   "metadata": {
    "executionInfo": {
     "elapsed": 439,
     "status": "ok",
     "timestamp": 1658252368534,
     "user": {
      "displayName": "Rossana Scavone",
      "userId": "17148856163347856032"
     },
     "user_tz": 420
    },
    "id": "sKKDFRrTfWGP"
   },
   "outputs": [],
   "source": [
    "'''Desplazamos los atributos que presentan valores cero'''\n",
    "\n",
    "atributos_norm = ['t_key0','t_dance0','t_energy0','t_speech0','t_acous0','t_ins0','t_live0','t_val0']\n",
    "\n",
    "for col in atributos_norm:\n",
    "  train[col]= train[col].apply(lambda x : x+1)"
   ]
  },
  {
   "cell_type": "code",
   "execution_count": 46,
   "metadata": {
    "colab": {
     "base_uri": "https://localhost:8080/",
     "height": 238
    },
    "executionInfo": {
     "elapsed": 181,
     "status": "ok",
     "timestamp": 1658252369477,
     "user": {
      "displayName": "Rossana Scavone",
      "userId": "17148856163347856032"
     },
     "user_tz": 420
    },
    "id": "g8-js-Q6fLD0",
    "outputId": "e24c8edd-5611-48a8-f713-b4618cb50ea2"
   },
   "outputs": [
    {
     "data": {
      "text/html": [
       "<div>\n",
       "<style scoped>\n",
       "    .dataframe tbody tr th:only-of-type {\n",
       "        vertical-align: middle;\n",
       "    }\n",
       "\n",
       "    .dataframe tbody tr th {\n",
       "        vertical-align: top;\n",
       "    }\n",
       "\n",
       "    .dataframe thead th {\n",
       "        text-align: right;\n",
       "    }\n",
       "</style>\n",
       "<table border=\"1\" class=\"dataframe\">\n",
       "  <thead>\n",
       "    <tr style=\"text-align: right;\">\n",
       "      <th></th>\n",
       "      <th>t_key0</th>\n",
       "      <th>t_mode0</th>\n",
       "      <th>t_dur0</th>\n",
       "      <th>t_dance0</th>\n",
       "      <th>t_energy0</th>\n",
       "      <th>t_speech0</th>\n",
       "      <th>t_acous0</th>\n",
       "      <th>t_ins0</th>\n",
       "      <th>t_live0</th>\n",
       "      <th>t_val0</th>\n",
       "      <th>t_tempo0</th>\n",
       "      <th>popularity</th>\n",
       "      <th>ClasePopularidad</th>\n",
       "    </tr>\n",
       "    <tr>\n",
       "      <th>id</th>\n",
       "      <th></th>\n",
       "      <th></th>\n",
       "      <th></th>\n",
       "      <th></th>\n",
       "      <th></th>\n",
       "      <th></th>\n",
       "      <th></th>\n",
       "      <th></th>\n",
       "      <th></th>\n",
       "      <th></th>\n",
       "      <th></th>\n",
       "      <th></th>\n",
       "      <th></th>\n",
       "    </tr>\n",
       "  </thead>\n",
       "  <tbody>\n",
       "    <tr>\n",
       "      <th>146790</th>\n",
       "      <td>4.0</td>\n",
       "      <td>0.0</td>\n",
       "      <td>254.00</td>\n",
       "      <td>1.521</td>\n",
       "      <td>1.395</td>\n",
       "      <td>1.0340</td>\n",
       "      <td>1.6580</td>\n",
       "      <td>1.003</td>\n",
       "      <td>1.1550</td>\n",
       "      <td>1.193</td>\n",
       "      <td>99.134</td>\n",
       "      <td>34.0</td>\n",
       "      <td>2</td>\n",
       "    </tr>\n",
       "    <tr>\n",
       "      <th>142735</th>\n",
       "      <td>8.0</td>\n",
       "      <td>0.0</td>\n",
       "      <td>256.57</td>\n",
       "      <td>1.859</td>\n",
       "      <td>1.536</td>\n",
       "      <td>1.1030</td>\n",
       "      <td>1.0241</td>\n",
       "      <td>1.000</td>\n",
       "      <td>1.0667</td>\n",
       "      <td>1.713</td>\n",
       "      <td>80.997</td>\n",
       "      <td>2.0</td>\n",
       "      <td>1</td>\n",
       "    </tr>\n",
       "    <tr>\n",
       "      <th>971</th>\n",
       "      <td>8.0</td>\n",
       "      <td>1.0</td>\n",
       "      <td>192.34</td>\n",
       "      <td>1.564</td>\n",
       "      <td>1.217</td>\n",
       "      <td>1.0310</td>\n",
       "      <td>1.9090</td>\n",
       "      <td>1.002</td>\n",
       "      <td>1.1090</td>\n",
       "      <td>1.467</td>\n",
       "      <td>119.123</td>\n",
       "      <td>62.0</td>\n",
       "      <td>4</td>\n",
       "    </tr>\n",
       "    <tr>\n",
       "      <th>61341</th>\n",
       "      <td>7.0</td>\n",
       "      <td>1.0</td>\n",
       "      <td>126.84</td>\n",
       "      <td>1.745</td>\n",
       "      <td>1.618</td>\n",
       "      <td>1.2870</td>\n",
       "      <td>1.1780</td>\n",
       "      <td>1.000</td>\n",
       "      <td>1.2900</td>\n",
       "      <td>1.519</td>\n",
       "      <td>129.052</td>\n",
       "      <td>19.0</td>\n",
       "      <td>1</td>\n",
       "    </tr>\n",
       "    <tr>\n",
       "      <th>153359</th>\n",
       "      <td>7.0</td>\n",
       "      <td>1.0</td>\n",
       "      <td>156.23</td>\n",
       "      <td>1.759</td>\n",
       "      <td>1.411</td>\n",
       "      <td>1.0427</td>\n",
       "      <td>1.4160</td>\n",
       "      <td>1.706</td>\n",
       "      <td>1.1320</td>\n",
       "      <td>1.281</td>\n",
       "      <td>145.928</td>\n",
       "      <td>43.0</td>\n",
       "      <td>3</td>\n",
       "    </tr>\n",
       "  </tbody>\n",
       "</table>\n",
       "</div>"
      ],
      "text/plain": [
       "        t_key0  t_mode0  t_dur0  t_dance0  t_energy0  t_speech0  t_acous0  \\\n",
       "id                                                                          \n",
       "146790     4.0      0.0  254.00     1.521      1.395     1.0340    1.6580   \n",
       "142735     8.0      0.0  256.57     1.859      1.536     1.1030    1.0241   \n",
       "971        8.0      1.0  192.34     1.564      1.217     1.0310    1.9090   \n",
       "61341      7.0      1.0  126.84     1.745      1.618     1.2870    1.1780   \n",
       "153359     7.0      1.0  156.23     1.759      1.411     1.0427    1.4160   \n",
       "\n",
       "        t_ins0  t_live0  t_val0  t_tempo0  popularity  ClasePopularidad  \n",
       "id                                                                       \n",
       "146790   1.003   1.1550   1.193    99.134        34.0                 2  \n",
       "142735   1.000   1.0667   1.713    80.997         2.0                 1  \n",
       "971      1.002   1.1090   1.467   119.123        62.0                 4  \n",
       "61341    1.000   1.2900   1.519   129.052        19.0                 1  \n",
       "153359   1.706   1.1320   1.281   145.928        43.0                 3  "
      ]
     },
     "execution_count": 46,
     "metadata": {},
     "output_type": "execute_result"
    }
   ],
   "source": [
    "train.head()"
   ]
  },
  {
   "cell_type": "code",
   "execution_count": 47,
   "metadata": {
    "colab": {
     "base_uri": "https://localhost:8080/"
    },
    "executionInfo": {
     "elapsed": 1262,
     "status": "ok",
     "timestamp": 1658252380205,
     "user": {
      "displayName": "Rossana Scavone",
      "userId": "17148856163347856032"
     },
     "user_tz": 420
    },
    "id": "AXnziEBfRPtr",
    "outputId": "728e4d9b-b083-4b04-badd-f8def46aa197"
   },
   "outputs": [
    {
     "name": "stdout",
     "output_type": "stream",
     "text": [
      "t_key0 hecha\n",
      "t_dur0 hecha\n",
      "t_dance0 hecha\n",
      "t_energy0 hecha\n",
      "t_speech0 hecha\n",
      "t_acous0 hecha\n",
      "t_ins0 hecha\n",
      "t_live0 hecha\n",
      "t_val0 hecha\n",
      "t_tempo0 hecha\n"
     ]
    }
   ],
   "source": [
    "from scipy import stats\n",
    "\n",
    "'''Normalizamos los atributos seleccionados'''\n",
    "\n",
    "\n",
    "features_norm = ['t_key0','t_dur0','t_dance0','t_energy0','t_speech0','t_acous0','t_ins0','t_live0','t_val0','t_tempo0']\n",
    "trainNorm = train.drop(['popularity','ClasePopularidad'],axis = 1)\n",
    "L = []\n",
    "\n",
    "for col in features_norm:\n",
    "  norm,l = stats.boxcox(train[col])\n",
    "  trainNorm[col] = norm\n",
    "  L.append(l)\n",
    "  print(f'{col} hecha')\n"
   ]
  },
  {
   "cell_type": "code",
   "execution_count": 48,
   "metadata": {
    "colab": {
     "base_uri": "https://localhost:8080/",
     "height": 1000
    },
    "executionInfo": {
     "elapsed": 13667,
     "status": "ok",
     "timestamp": 1658252397032,
     "user": {
      "displayName": "Rossana Scavone",
      "userId": "17148856163347856032"
     },
     "user_tz": 420
    },
    "id": "kQEV4vdwgCrp",
    "outputId": "18ed4f87-5ff0-4942-d5b2-ffb912a1f888"
   },
   "outputs": [
    {
     "name": "stderr",
     "output_type": "stream",
     "text": [
      "C:\\Users\\acana\\miniconda3\\lib\\site-packages\\seaborn\\distributions.py:2619: FutureWarning: `distplot` is a deprecated function and will be removed in a future version. Please adapt your code to use either `displot` (a figure-level function with similar flexibility) or `kdeplot` (an axes-level function for kernel density plots).\n",
      "  warnings.warn(msg, FutureWarning)\n",
      "C:\\Users\\acana\\miniconda3\\lib\\site-packages\\seaborn\\_core.py:1326: UserWarning: Vertical orientation ignored with only `x` specified.\n",
      "  warnings.warn(single_var_warning.format(\"Vertical\", \"x\"))\n",
      "C:\\Users\\acana\\miniconda3\\lib\\site-packages\\seaborn\\distributions.py:2619: FutureWarning: `distplot` is a deprecated function and will be removed in a future version. Please adapt your code to use either `displot` (a figure-level function with similar flexibility) or `kdeplot` (an axes-level function for kernel density plots).\n",
      "  warnings.warn(msg, FutureWarning)\n",
      "C:\\Users\\acana\\miniconda3\\lib\\site-packages\\seaborn\\_core.py:1326: UserWarning: Vertical orientation ignored with only `x` specified.\n",
      "  warnings.warn(single_var_warning.format(\"Vertical\", \"x\"))\n",
      "C:\\Users\\acana\\miniconda3\\lib\\site-packages\\seaborn\\distributions.py:2619: FutureWarning: `distplot` is a deprecated function and will be removed in a future version. Please adapt your code to use either `displot` (a figure-level function with similar flexibility) or `kdeplot` (an axes-level function for kernel density plots).\n",
      "  warnings.warn(msg, FutureWarning)\n",
      "C:\\Users\\acana\\miniconda3\\lib\\site-packages\\seaborn\\_core.py:1326: UserWarning: Vertical orientation ignored with only `x` specified.\n",
      "  warnings.warn(single_var_warning.format(\"Vertical\", \"x\"))\n",
      "C:\\Users\\acana\\miniconda3\\lib\\site-packages\\seaborn\\distributions.py:2619: FutureWarning: `distplot` is a deprecated function and will be removed in a future version. Please adapt your code to use either `displot` (a figure-level function with similar flexibility) or `kdeplot` (an axes-level function for kernel density plots).\n",
      "  warnings.warn(msg, FutureWarning)\n",
      "C:\\Users\\acana\\miniconda3\\lib\\site-packages\\seaborn\\_core.py:1326: UserWarning: Vertical orientation ignored with only `x` specified.\n",
      "  warnings.warn(single_var_warning.format(\"Vertical\", \"x\"))\n",
      "C:\\Users\\acana\\miniconda3\\lib\\site-packages\\seaborn\\distributions.py:2619: FutureWarning: `distplot` is a deprecated function and will be removed in a future version. Please adapt your code to use either `displot` (a figure-level function with similar flexibility) or `kdeplot` (an axes-level function for kernel density plots).\n",
      "  warnings.warn(msg, FutureWarning)\n",
      "C:\\Users\\acana\\miniconda3\\lib\\site-packages\\seaborn\\_core.py:1326: UserWarning: Vertical orientation ignored with only `x` specified.\n",
      "  warnings.warn(single_var_warning.format(\"Vertical\", \"x\"))\n",
      "C:\\Users\\acana\\miniconda3\\lib\\site-packages\\seaborn\\distributions.py:2619: FutureWarning: `distplot` is a deprecated function and will be removed in a future version. Please adapt your code to use either `displot` (a figure-level function with similar flexibility) or `kdeplot` (an axes-level function for kernel density plots).\n",
      "  warnings.warn(msg, FutureWarning)\n",
      "C:\\Users\\acana\\miniconda3\\lib\\site-packages\\seaborn\\_core.py:1326: UserWarning: Vertical orientation ignored with only `x` specified.\n",
      "  warnings.warn(single_var_warning.format(\"Vertical\", \"x\"))\n",
      "C:\\Users\\acana\\miniconda3\\lib\\site-packages\\seaborn\\distributions.py:2619: FutureWarning: `distplot` is a deprecated function and will be removed in a future version. Please adapt your code to use either `displot` (a figure-level function with similar flexibility) or `kdeplot` (an axes-level function for kernel density plots).\n",
      "  warnings.warn(msg, FutureWarning)\n",
      "C:\\Users\\acana\\miniconda3\\lib\\site-packages\\seaborn\\_core.py:1326: UserWarning: Vertical orientation ignored with only `x` specified.\n",
      "  warnings.warn(single_var_warning.format(\"Vertical\", \"x\"))\n",
      "C:\\Users\\acana\\miniconda3\\lib\\site-packages\\seaborn\\distributions.py:2619: FutureWarning: `distplot` is a deprecated function and will be removed in a future version. Please adapt your code to use either `displot` (a figure-level function with similar flexibility) or `kdeplot` (an axes-level function for kernel density plots).\n",
      "  warnings.warn(msg, FutureWarning)\n",
      "C:\\Users\\acana\\miniconda3\\lib\\site-packages\\seaborn\\_core.py:1326: UserWarning: Vertical orientation ignored with only `x` specified.\n",
      "  warnings.warn(single_var_warning.format(\"Vertical\", \"x\"))\n",
      "C:\\Users\\acana\\miniconda3\\lib\\site-packages\\seaborn\\distributions.py:2619: FutureWarning: `distplot` is a deprecated function and will be removed in a future version. Please adapt your code to use either `displot` (a figure-level function with similar flexibility) or `kdeplot` (an axes-level function for kernel density plots).\n",
      "  warnings.warn(msg, FutureWarning)\n",
      "C:\\Users\\acana\\miniconda3\\lib\\site-packages\\seaborn\\_core.py:1326: UserWarning: Vertical orientation ignored with only `x` specified.\n",
      "  warnings.warn(single_var_warning.format(\"Vertical\", \"x\"))\n",
      "C:\\Users\\acana\\miniconda3\\lib\\site-packages\\seaborn\\distributions.py:2619: FutureWarning: `distplot` is a deprecated function and will be removed in a future version. Please adapt your code to use either `displot` (a figure-level function with similar flexibility) or `kdeplot` (an axes-level function for kernel density plots).\n",
      "  warnings.warn(msg, FutureWarning)\n",
      "C:\\Users\\acana\\miniconda3\\lib\\site-packages\\seaborn\\_core.py:1326: UserWarning: Vertical orientation ignored with only `x` specified.\n",
      "  warnings.warn(single_var_warning.format(\"Vertical\", \"x\"))\n",
      "C:\\Users\\acana\\miniconda3\\lib\\site-packages\\seaborn\\distributions.py:2619: FutureWarning: `distplot` is a deprecated function and will be removed in a future version. Please adapt your code to use either `displot` (a figure-level function with similar flexibility) or `kdeplot` (an axes-level function for kernel density plots).\n",
      "  warnings.warn(msg, FutureWarning)\n",
      "C:\\Users\\acana\\miniconda3\\lib\\site-packages\\seaborn\\_core.py:1326: UserWarning: Vertical orientation ignored with only `x` specified.\n",
      "  warnings.warn(single_var_warning.format(\"Vertical\", \"x\"))\n",
      "C:\\Users\\acana\\miniconda3\\lib\\site-packages\\seaborn\\distributions.py:2619: FutureWarning: `distplot` is a deprecated function and will be removed in a future version. Please adapt your code to use either `displot` (a figure-level function with similar flexibility) or `kdeplot` (an axes-level function for kernel density plots).\n",
      "  warnings.warn(msg, FutureWarning)\n",
      "C:\\Users\\acana\\miniconda3\\lib\\site-packages\\seaborn\\_core.py:1326: UserWarning: Vertical orientation ignored with only `x` specified.\n",
      "  warnings.warn(single_var_warning.format(\"Vertical\", \"x\"))\n",
      "C:\\Users\\acana\\miniconda3\\lib\\site-packages\\seaborn\\distributions.py:2619: FutureWarning: `distplot` is a deprecated function and will be removed in a future version. Please adapt your code to use either `displot` (a figure-level function with similar flexibility) or `kdeplot` (an axes-level function for kernel density plots).\n",
      "  warnings.warn(msg, FutureWarning)\n",
      "C:\\Users\\acana\\miniconda3\\lib\\site-packages\\seaborn\\_core.py:1326: UserWarning: Vertical orientation ignored with only `x` specified.\n",
      "  warnings.warn(single_var_warning.format(\"Vertical\", \"x\"))\n",
      "C:\\Users\\acana\\miniconda3\\lib\\site-packages\\seaborn\\distributions.py:2619: FutureWarning: `distplot` is a deprecated function and will be removed in a future version. Please adapt your code to use either `displot` (a figure-level function with similar flexibility) or `kdeplot` (an axes-level function for kernel density plots).\n",
      "  warnings.warn(msg, FutureWarning)\n",
      "C:\\Users\\acana\\miniconda3\\lib\\site-packages\\seaborn\\_core.py:1326: UserWarning: Vertical orientation ignored with only `x` specified.\n",
      "  warnings.warn(single_var_warning.format(\"Vertical\", \"x\"))\n",
      "C:\\Users\\acana\\miniconda3\\lib\\site-packages\\seaborn\\distributions.py:2619: FutureWarning: `distplot` is a deprecated function and will be removed in a future version. Please adapt your code to use either `displot` (a figure-level function with similar flexibility) or `kdeplot` (an axes-level function for kernel density plots).\n",
      "  warnings.warn(msg, FutureWarning)\n",
      "C:\\Users\\acana\\miniconda3\\lib\\site-packages\\seaborn\\_core.py:1326: UserWarning: Vertical orientation ignored with only `x` specified.\n",
      "  warnings.warn(single_var_warning.format(\"Vertical\", \"x\"))\n",
      "C:\\Users\\acana\\miniconda3\\lib\\site-packages\\seaborn\\distributions.py:2619: FutureWarning: `distplot` is a deprecated function and will be removed in a future version. Please adapt your code to use either `displot` (a figure-level function with similar flexibility) or `kdeplot` (an axes-level function for kernel density plots).\n",
      "  warnings.warn(msg, FutureWarning)\n",
      "C:\\Users\\acana\\miniconda3\\lib\\site-packages\\seaborn\\_core.py:1326: UserWarning: Vertical orientation ignored with only `x` specified.\n",
      "  warnings.warn(single_var_warning.format(\"Vertical\", \"x\"))\n",
      "C:\\Users\\acana\\miniconda3\\lib\\site-packages\\seaborn\\distributions.py:2619: FutureWarning: `distplot` is a deprecated function and will be removed in a future version. Please adapt your code to use either `displot` (a figure-level function with similar flexibility) or `kdeplot` (an axes-level function for kernel density plots).\n",
      "  warnings.warn(msg, FutureWarning)\n"
     ]
    },
    {
     "name": "stderr",
     "output_type": "stream",
     "text": [
      "C:\\Users\\acana\\miniconda3\\lib\\site-packages\\seaborn\\_core.py:1326: UserWarning: Vertical orientation ignored with only `x` specified.\n",
      "  warnings.warn(single_var_warning.format(\"Vertical\", \"x\"))\n",
      "C:\\Users\\acana\\miniconda3\\lib\\site-packages\\seaborn\\distributions.py:2619: FutureWarning: `distplot` is a deprecated function and will be removed in a future version. Please adapt your code to use either `displot` (a figure-level function with similar flexibility) or `kdeplot` (an axes-level function for kernel density plots).\n",
      "  warnings.warn(msg, FutureWarning)\n",
      "C:\\Users\\acana\\miniconda3\\lib\\site-packages\\seaborn\\_core.py:1326: UserWarning: Vertical orientation ignored with only `x` specified.\n",
      "  warnings.warn(single_var_warning.format(\"Vertical\", \"x\"))\n",
      "C:\\Users\\acana\\miniconda3\\lib\\site-packages\\seaborn\\distributions.py:2619: FutureWarning: `distplot` is a deprecated function and will be removed in a future version. Please adapt your code to use either `displot` (a figure-level function with similar flexibility) or `kdeplot` (an axes-level function for kernel density plots).\n",
      "  warnings.warn(msg, FutureWarning)\n",
      "C:\\Users\\acana\\miniconda3\\lib\\site-packages\\seaborn\\_core.py:1326: UserWarning: Vertical orientation ignored with only `x` specified.\n",
      "  warnings.warn(single_var_warning.format(\"Vertical\", \"x\"))\n",
      "C:\\Users\\acana\\miniconda3\\lib\\site-packages\\seaborn\\distributions.py:2619: FutureWarning: `distplot` is a deprecated function and will be removed in a future version. Please adapt your code to use either `displot` (a figure-level function with similar flexibility) or `kdeplot` (an axes-level function for kernel density plots).\n",
      "  warnings.warn(msg, FutureWarning)\n",
      "C:\\Users\\acana\\miniconda3\\lib\\site-packages\\seaborn\\_core.py:1326: UserWarning: Vertical orientation ignored with only `x` specified.\n",
      "  warnings.warn(single_var_warning.format(\"Vertical\", \"x\"))\n"
     ]
    },
    {
     "data": {
      "image/png": "[encoded data removed]",
      "text/plain": [
       "<Figure size 1080x720 with 4 Axes>"
      ]
     },
     "metadata": {
      "needs_background": "light"
     },
     "output_type": "display_data"
    },
    {
     "data": {
      "image/png": "[encoded data removed]",
      "text/plain": [
       "<Figure size 1080x720 with 4 Axes>"
      ]
     },
     "metadata": {
      "needs_background": "light"
     },
     "output_type": "display_data"
    },
    {
     "data": {
      "image/png": "[encoded data removed]",
      "text/plain": [
       "<Figure size 1080x720 with 4 Axes>"
      ]
     },
     "metadata": {
      "needs_background": "light"
     },
     "output_type": "display_data"
    },
    {
     "data": {
      "image/png": "[encoded data removed]",
      "text/plain": [
       "<Figure size 1080x720 with 4 Axes>"
      ]
     },
     "metadata": {
      "needs_background": "light"
     },
     "output_type": "display_data"
    },
    {
     "data": {
      "image/png": "[encoded data removed]",
      "text/plain": [
       "<Figure size 1080x720 with 4 Axes>"
      ]
     },
     "metadata": {
      "needs_background": "light"
     },
     "output_type": "display_data"
    },
    {
     "data": {
      "image/png": "[encoded data removed]",
      "text/plain": [
       "<Figure size 1080x720 with 4 Axes>"
      ]
     },
     "metadata": {
      "needs_background": "light"
     },
     "output_type": "display_data"
    },
    {
     "data": {
      "image/png": "[encoded data removed]",
      "text/plain": [
       "<Figure size 1080x720 with 4 Axes>"
      ]
     },
     "metadata": {
      "needs_background": "light"
     },
     "output_type": "display_data"
    },
    {
     "data": {
      "image/png": "[encoded data removed]",
      "text/plain": [
       "<Figure size 1080x720 with 4 Axes>"
      ]
     },
     "metadata": {
      "needs_background": "light"
     },
     "output_type": "display_data"
    },
    {
     "data": {
      "image/png": "[encoded data removed]",
      "text/plain": [
       "<Figure size 1080x720 with 4 Axes>"
      ]
     },
     "metadata": {
      "needs_background": "light"
     },
     "output_type": "display_data"
    },
    {
     "data": {
      "image/png": "[encoded data removed]",
      "text/plain": [
       "<Figure size 1080x720 with 4 Axes>"
      ]
     },
     "metadata": {
      "needs_background": "light"
     },
     "output_type": "display_data"
    }
   ],
   "source": [
    "for col in features_norm:\n",
    "  fig, ax = plt.subplots(2, 2, gridspec_kw={'height_ratios': [2,1]},figsize=(15,10))\n",
    "  sns.distplot(train[col], hist = False, kde = True,\n",
    "            kde_kws = {'shade': True, 'linewidth': 2},\n",
    "            label = \"Non-Normal\", color =\"green\", ax = ax[0,0])\n",
    "  sns.boxplot(x = col, data = train, orient = 'v', color = '#99edc3', ax = ax[1,0])\n",
    "\n",
    " \n",
    "  sns.distplot(trainNorm[col], hist = False, kde = True,\n",
    "            kde_kws = {'shade': True, 'linewidth': 2},\n",
    "            label = \"Normal\", color =\"green\", ax = ax[0,1])\n",
    "  sns.boxplot(x = col, data = trainNorm, orient = 'v', color = '#99edc3', ax = ax[1,1])\n",
    "  fig.suptitle(f'Resultado Box Cox para {col}', fontsize=15)"
   ]
  },
  {
   "cell_type": "markdown",
   "metadata": {
    "id": "Q5sxvHwufaoh"
   },
   "source": [
    "**Observaciones**\n",
    "Podemos ver en los BoxPlots que muchas variables quedaron mas centradas y se logro reducir la cantidad de outliers con la transformacion"
   ]
  },
  {
   "cell_type": "code",
   "execution_count": 49,
   "metadata": {
    "executionInfo": {
     "elapsed": 135,
     "status": "ok",
     "timestamp": 1658252494501,
     "user": {
      "displayName": "Rossana Scavone",
      "userId": "17148856163347856032"
     },
     "user_tz": 420
    },
    "id": "8shZEiv4sCpo"
   },
   "outputs": [],
   "source": [
    "#Agregamos el atributo Mode (que no se normalizo) y las dos variables target\n",
    "trainNorm['popularity'] = train['popularity']\n",
    "trainNorm['ClasePopularidad'] = train['ClasePopularidad']"
   ]
  },
  {
   "cell_type": "code",
   "execution_count": 50,
   "metadata": {
    "colab": {
     "base_uri": "https://localhost:8080/",
     "height": 238
    },
    "executionInfo": {
     "elapsed": 163,
     "status": "ok",
     "timestamp": 1658252496041,
     "user": {
      "displayName": "Rossana Scavone",
      "userId": "17148856163347856032"
     },
     "user_tz": 420
    },
    "id": "tFPt5UC9gwCS",
    "outputId": "752f8692-ad26-4f8b-e652-510364b6b738"
   },
   "outputs": [
    {
     "data": {
      "text/html": [
       "<div>\n",
       "<style scoped>\n",
       "    .dataframe tbody tr th:only-of-type {\n",
       "        vertical-align: middle;\n",
       "    }\n",
       "\n",
       "    .dataframe tbody tr th {\n",
       "        vertical-align: top;\n",
       "    }\n",
       "\n",
       "    .dataframe thead th {\n",
       "        text-align: right;\n",
       "    }\n",
       "</style>\n",
       "<table border=\"1\" class=\"dataframe\">\n",
       "  <thead>\n",
       "    <tr style=\"text-align: right;\">\n",
       "      <th></th>\n",
       "      <th>t_key0</th>\n",
       "      <th>t_mode0</th>\n",
       "      <th>t_dur0</th>\n",
       "      <th>t_dance0</th>\n",
       "      <th>t_energy0</th>\n",
       "      <th>t_speech0</th>\n",
       "      <th>t_acous0</th>\n",
       "      <th>t_ins0</th>\n",
       "      <th>t_live0</th>\n",
       "      <th>t_val0</th>\n",
       "      <th>t_tempo0</th>\n",
       "      <th>popularity</th>\n",
       "      <th>ClasePopularidad</th>\n",
       "    </tr>\n",
       "    <tr>\n",
       "      <th>id</th>\n",
       "      <th></th>\n",
       "      <th></th>\n",
       "      <th></th>\n",
       "      <th></th>\n",
       "      <th></th>\n",
       "      <th></th>\n",
       "      <th></th>\n",
       "      <th></th>\n",
       "      <th></th>\n",
       "      <th></th>\n",
       "      <th></th>\n",
       "      <th></th>\n",
       "      <th></th>\n",
       "    </tr>\n",
       "  </thead>\n",
       "  <tbody>\n",
       "    <tr>\n",
       "      <th>146790</th>\n",
       "      <td>2.217079</td>\n",
       "      <td>0.0</td>\n",
       "      <td>139.731754</td>\n",
       "      <td>0.869118</td>\n",
       "      <td>0.519249</td>\n",
       "      <td>0.029225</td>\n",
       "      <td>0.319573</td>\n",
       "      <td>0.002967</td>\n",
       "      <td>0.091678</td>\n",
       "      <td>0.188732</td>\n",
       "      <td>26.457350</td>\n",
       "      <td>34.0</td>\n",
       "      <td>2</td>\n",
       "    </tr>\n",
       "    <tr>\n",
       "      <th>142735</th>\n",
       "      <td>4.304625</td>\n",
       "      <td>0.0</td>\n",
       "      <td>140.968235</td>\n",
       "      <td>1.910310</td>\n",
       "      <td>0.769341</td>\n",
       "      <td>0.067253</td>\n",
       "      <td>0.023262</td>\n",
       "      <td>0.000000</td>\n",
       "      <td>0.052209</td>\n",
       "      <td>0.663667</td>\n",
       "      <td>23.141670</td>\n",
       "      <td>2.0</td>\n",
       "      <td>1</td>\n",
       "    </tr>\n",
       "    <tr>\n",
       "      <th>971</th>\n",
       "      <td>4.304625</td>\n",
       "      <td>1.0</td>\n",
       "      <td>109.520199</td>\n",
       "      <td>0.977668</td>\n",
       "      <td>0.253525</td>\n",
       "      <td>0.026992</td>\n",
       "      <td>0.364818</td>\n",
       "      <td>0.001985</td>\n",
       "      <td>0.074177</td>\n",
       "      <td>0.444230</td>\n",
       "      <td>29.855429</td>\n",
       "      <td>62.0</td>\n",
       "      <td>4</td>\n",
       "    </tr>\n",
       "    <tr>\n",
       "      <th>61341</th>\n",
       "      <td>3.828397</td>\n",
       "      <td>1.0</td>\n",
       "      <td>75.954996</td>\n",
       "      <td>1.509001</td>\n",
       "      <td>0.931646</td>\n",
       "      <td>0.106186</td>\n",
       "      <td>0.139922</td>\n",
       "      <td>0.000000</td>\n",
       "      <td>0.120665</td>\n",
       "      <td>0.491329</td>\n",
       "      <td>31.462427</td>\n",
       "      <td>19.0</td>\n",
       "      <td>1</td>\n",
       "    </tr>\n",
       "    <tr>\n",
       "      <th>153359</th>\n",
       "      <td>3.828397</td>\n",
       "      <td>1.0</td>\n",
       "      <td>91.244236</td>\n",
       "      <td>1.555391</td>\n",
       "      <td>0.545826</td>\n",
       "      <td>0.035371</td>\n",
       "      <td>0.251469</td>\n",
       "      <td>0.149262</td>\n",
       "      <td>0.083623</td>\n",
       "      <td>0.272233</td>\n",
       "      <td>34.090480</td>\n",
       "      <td>43.0</td>\n",
       "      <td>3</td>\n",
       "    </tr>\n",
       "  </tbody>\n",
       "</table>\n",
       "</div>"
      ],
      "text/plain": [
       "          t_key0  t_mode0      t_dur0  t_dance0  t_energy0  t_speech0  \\\n",
       "id                                                                      \n",
       "146790  2.217079      0.0  139.731754  0.869118   0.519249   0.029225   \n",
       "142735  4.304625      0.0  140.968235  1.910310   0.769341   0.067253   \n",
       "971     4.304625      1.0  109.520199  0.977668   0.253525   0.026992   \n",
       "61341   3.828397      1.0   75.954996  1.509001   0.931646   0.106186   \n",
       "153359  3.828397      1.0   91.244236  1.555391   0.545826   0.035371   \n",
       "\n",
       "        t_acous0    t_ins0   t_live0    t_val0   t_tempo0  popularity  \\\n",
       "id                                                                      \n",
       "146790  0.319573  0.002967  0.091678  0.188732  26.457350        34.0   \n",
       "142735  0.023262  0.000000  0.052209  0.663667  23.141670         2.0   \n",
       "971     0.364818  0.001985  0.074177  0.444230  29.855429        62.0   \n",
       "61341   0.139922  0.000000  0.120665  0.491329  31.462427        19.0   \n",
       "153359  0.251469  0.149262  0.083623  0.272233  34.090480        43.0   \n",
       "\n",
       "        ClasePopularidad  \n",
       "id                        \n",
       "146790                 2  \n",
       "142735                 1  \n",
       "971                    4  \n",
       "61341                  1  \n",
       "153359                 3  "
      ]
     },
     "execution_count": 50,
     "metadata": {},
     "output_type": "execute_result"
    }
   ],
   "source": [
    "trainNorm.head()"
   ]
  },
  {
   "cell_type": "code",
   "execution_count": 51,
   "metadata": {
    "id": "e3dc5b7d"
   },
   "outputs": [],
   "source": [
    "#Guardamos el data set obtenido, que sera el Train Set para entrenamiento de Algoritmos\n",
    "\n",
    "#Correr esta celda solo si no se tiene el archivo guardado previamente\n",
    "\n",
    "trainNorm.to_csv('trainset.csv')"
   ]
  },
  {
   "cell_type": "markdown",
   "metadata": {
    "id": "2enaXFLFulrY"
   },
   "source": [
    "## Pipeline - Etapa 2\n",
    "\n",
    "1) Rellenar nulos con funcion `fill_na` (tomando como referencia el train set original)\n",
    "\n",
    "2) Transformar atributo Duration a segundos\n",
    "\n",
    "3) Eliminar atributo Time Signature (t_sig0)\n",
    "\n",
    "4) Eliminar registros con Tempo (t_tempo0) igual a 0, usando funcion `removeCeros`\n",
    "\n",
    "5) Eliminar registros con Duration > 360 segundos, usando funcion `removeOutliers`\n",
    "\n",
    "6) Normalizacion de atributos seleccionados"
   ]
  },
  {
   "cell_type": "markdown",
   "metadata": {},
   "source": [
    "## Transformacion de Test Set"
   ]
  },
  {
   "cell_type": "code",
   "execution_count": 52,
   "metadata": {},
   "outputs": [
    {
     "data": {
      "text/html": [
       "<div>\n",
       "<style scoped>\n",
       "    .dataframe tbody tr th:only-of-type {\n",
       "        vertical-align: middle;\n",
       "    }\n",
       "\n",
       "    .dataframe tbody tr th {\n",
       "        vertical-align: top;\n",
       "    }\n",
       "\n",
       "    .dataframe thead th {\n",
       "        text-align: right;\n",
       "    }\n",
       "</style>\n",
       "<table border=\"1\" class=\"dataframe\">\n",
       "  <thead>\n",
       "    <tr style=\"text-align: right;\">\n",
       "      <th></th>\n",
       "      <th>t_key0</th>\n",
       "      <th>t_mode0</th>\n",
       "      <th>t_dur0</th>\n",
       "      <th>t_dance0</th>\n",
       "      <th>t_energy0</th>\n",
       "      <th>t_speech0</th>\n",
       "      <th>t_acous0</th>\n",
       "      <th>t_ins0</th>\n",
       "      <th>t_live0</th>\n",
       "      <th>t_val0</th>\n",
       "      <th>t_tempo0</th>\n",
       "      <th>t_sig0</th>\n",
       "      <th>popularity</th>\n",
       "      <th>ClasePopularidad</th>\n",
       "    </tr>\n",
       "    <tr>\n",
       "      <th>id</th>\n",
       "      <th></th>\n",
       "      <th></th>\n",
       "      <th></th>\n",
       "      <th></th>\n",
       "      <th></th>\n",
       "      <th></th>\n",
       "      <th></th>\n",
       "      <th></th>\n",
       "      <th></th>\n",
       "      <th></th>\n",
       "      <th></th>\n",
       "      <th></th>\n",
       "      <th></th>\n",
       "      <th></th>\n",
       "    </tr>\n",
       "  </thead>\n",
       "  <tbody>\n",
       "    <tr>\n",
       "      <th>116295</th>\n",
       "      <td>6.0</td>\n",
       "      <td>1.0</td>\n",
       "      <td>172833.0</td>\n",
       "      <td>0.618</td>\n",
       "      <td>0.471</td>\n",
       "      <td>0.0480</td>\n",
       "      <td>0.4000</td>\n",
       "      <td>0.000004</td>\n",
       "      <td>0.0826</td>\n",
       "      <td>0.326</td>\n",
       "      <td>81.000</td>\n",
       "      <td>4.0</td>\n",
       "      <td>56.0</td>\n",
       "      <td>3</td>\n",
       "    </tr>\n",
       "    <tr>\n",
       "      <th>101223</th>\n",
       "      <td>2.0</td>\n",
       "      <td>1.0</td>\n",
       "      <td>294338.0</td>\n",
       "      <td>0.754</td>\n",
       "      <td>0.812</td>\n",
       "      <td>0.1840</td>\n",
       "      <td>0.0010</td>\n",
       "      <td>0.620000</td>\n",
       "      <td>0.1220</td>\n",
       "      <td>0.245</td>\n",
       "      <td>173.033</td>\n",
       "      <td>4.0</td>\n",
       "      <td>22.0</td>\n",
       "      <td>2</td>\n",
       "    </tr>\n",
       "    <tr>\n",
       "      <th>47928</th>\n",
       "      <td>7.0</td>\n",
       "      <td>1.0</td>\n",
       "      <td>194946.0</td>\n",
       "      <td>0.764</td>\n",
       "      <td>0.863</td>\n",
       "      <td>0.0720</td>\n",
       "      <td>0.0321</td>\n",
       "      <td>0.005680</td>\n",
       "      <td>0.1000</td>\n",
       "      <td>0.846</td>\n",
       "      <td>122.995</td>\n",
       "      <td>4.0</td>\n",
       "      <td>22.0</td>\n",
       "      <td>2</td>\n",
       "    </tr>\n",
       "    <tr>\n",
       "      <th>88722</th>\n",
       "      <td>6.0</td>\n",
       "      <td>1.0</td>\n",
       "      <td>162741.0</td>\n",
       "      <td>0.670</td>\n",
       "      <td>0.898</td>\n",
       "      <td>0.0645</td>\n",
       "      <td>0.1970</td>\n",
       "      <td>0.000000</td>\n",
       "      <td>0.0406</td>\n",
       "      <td>0.948</td>\n",
       "      <td>173.896</td>\n",
       "      <td>4.0</td>\n",
       "      <td>50.0</td>\n",
       "      <td>3</td>\n",
       "    </tr>\n",
       "    <tr>\n",
       "      <th>111363</th>\n",
       "      <td>7.0</td>\n",
       "      <td>0.0</td>\n",
       "      <td>173913.0</td>\n",
       "      <td>0.826</td>\n",
       "      <td>0.663</td>\n",
       "      <td>0.0448</td>\n",
       "      <td>0.0154</td>\n",
       "      <td>0.000002</td>\n",
       "      <td>0.1480</td>\n",
       "      <td>0.919</td>\n",
       "      <td>113.988</td>\n",
       "      <td>4.0</td>\n",
       "      <td>35.0</td>\n",
       "      <td>2</td>\n",
       "    </tr>\n",
       "  </tbody>\n",
       "</table>\n",
       "</div>"
      ],
      "text/plain": [
       "        t_key0  t_mode0    t_dur0  t_dance0  t_energy0  t_speech0  t_acous0  \\\n",
       "id                                                                            \n",
       "116295     6.0      1.0  172833.0     0.618      0.471     0.0480    0.4000   \n",
       "101223     2.0      1.0  294338.0     0.754      0.812     0.1840    0.0010   \n",
       "47928      7.0      1.0  194946.0     0.764      0.863     0.0720    0.0321   \n",
       "88722      6.0      1.0  162741.0     0.670      0.898     0.0645    0.1970   \n",
       "111363     7.0      0.0  173913.0     0.826      0.663     0.0448    0.0154   \n",
       "\n",
       "          t_ins0  t_live0  t_val0  t_tempo0  t_sig0  popularity  \\\n",
       "id                                                                \n",
       "116295  0.000004   0.0826   0.326    81.000     4.0        56.0   \n",
       "101223  0.620000   0.1220   0.245   173.033     4.0        22.0   \n",
       "47928   0.005680   0.1000   0.846   122.995     4.0        22.0   \n",
       "88722   0.000000   0.0406   0.948   173.896     4.0        50.0   \n",
       "111363  0.000002   0.1480   0.919   113.988     4.0        35.0   \n",
       "\n",
       "        ClasePopularidad  \n",
       "id                        \n",
       "116295                 3  \n",
       "101223                 2  \n",
       "47928                  2  \n",
       "88722                  3  \n",
       "111363                 2  "
      ]
     },
     "execution_count": 52,
     "metadata": {},
     "output_type": "execute_result"
    }
   ],
   "source": [
    "test.head()"
   ]
  },
  {
   "cell_type": "code",
   "execution_count": 53,
   "metadata": {},
   "outputs": [
    {
     "data": {
      "text/plain": [
       "(14472, 14)"
      ]
     },
     "execution_count": 53,
     "metadata": {},
     "output_type": "execute_result"
    }
   ],
   "source": [
    "test.shape"
   ]
  },
  {
   "cell_type": "code",
   "execution_count": 54,
   "metadata": {},
   "outputs": [
    {
     "data": {
      "text/plain": [
       "t_key0              0\n",
       "t_mode0             0\n",
       "t_dur0              0\n",
       "t_dance0            0\n",
       "t_energy0           0\n",
       "t_speech0           0\n",
       "t_acous0            0\n",
       "t_ins0              0\n",
       "t_live0             0\n",
       "t_val0              0\n",
       "t_tempo0            0\n",
       "popularity          0\n",
       "ClasePopularidad    0\n",
       "dtype: int64"
      ]
     },
     "execution_count": 54,
     "metadata": {},
     "output_type": "execute_result"
    }
   ],
   "source": [
    "# 1) fill_na\n",
    "\n",
    "atributos = ['t_key0','t_mode0','t_dance0','t_energy0','t_speech0','t_acous0','t_ins0','t_live0','t_val0','t_tempo0','t_sig0']\n",
    "\n",
    "fill_na(train_ref,test,atributos)\n",
    "#Verificacion\n",
    "train.isnull().sum()"
   ]
  },
  {
   "cell_type": "code",
   "execution_count": 55,
   "metadata": {},
   "outputs": [],
   "source": [
    "# 2) pasar Duration a segundos\n",
    "test['t_dur0'] = test['t_dur0'].apply(lambda x: round(x/1000,2))"
   ]
  },
  {
   "cell_type": "code",
   "execution_count": 56,
   "metadata": {},
   "outputs": [],
   "source": [
    "# 3) Eliminar Time Signature (t_sig0) \n",
    "test.drop('t_sig0',inplace=True, axis = 1)"
   ]
  },
  {
   "cell_type": "code",
   "execution_count": 57,
   "metadata": {},
   "outputs": [
    {
     "data": {
      "text/plain": [
       "t_key0              0\n",
       "t_mode0             0\n",
       "t_dur0              0\n",
       "t_dance0            0\n",
       "t_energy0           0\n",
       "t_speech0           0\n",
       "t_acous0            0\n",
       "t_ins0              0\n",
       "t_live0             0\n",
       "t_val0              0\n",
       "t_tempo0            9\n",
       "popularity          0\n",
       "ClasePopularidad    0\n",
       "dtype: int64"
      ]
     },
     "execution_count": 57,
     "metadata": {},
     "output_type": "execute_result"
    }
   ],
   "source": [
    "# 4) Eliminar registros con Tempo = 0\n",
    "test['t_tempo0']= test['t_tempo0'].apply(lambda x : removerCeros(x))\n",
    "test.isnull().sum()"
   ]
  },
  {
   "cell_type": "code",
   "execution_count": 58,
   "metadata": {},
   "outputs": [],
   "source": [
    "test.dropna(inplace = True)"
   ]
  },
  {
   "cell_type": "code",
   "execution_count": 59,
   "metadata": {},
   "outputs": [
    {
     "data": {
      "text/plain": [
       "t_key0              543\n",
       "t_mode0             543\n",
       "t_dur0              543\n",
       "t_dance0            543\n",
       "t_energy0           543\n",
       "t_speech0           543\n",
       "t_acous0            543\n",
       "t_ins0              543\n",
       "t_live0             543\n",
       "t_val0              543\n",
       "t_tempo0            543\n",
       "popularity          543\n",
       "ClasePopularidad    543\n",
       "dtype: int64"
      ]
     },
     "execution_count": 59,
     "metadata": {},
     "output_type": "execute_result"
    }
   ],
   "source": [
    "test.loc[test['t_dur0']>360].count()"
   ]
  },
  {
   "cell_type": "code",
   "execution_count": 60,
   "metadata": {},
   "outputs": [
    {
     "data": {
      "text/plain": [
       "t_key0                0\n",
       "t_mode0               0\n",
       "t_dur0              543\n",
       "t_dance0              0\n",
       "t_energy0             0\n",
       "t_speech0             0\n",
       "t_acous0              0\n",
       "t_ins0                0\n",
       "t_live0               0\n",
       "t_val0                0\n",
       "t_tempo0              0\n",
       "popularity            0\n",
       "ClasePopularidad      0\n",
       "dtype: int64"
      ]
     },
     "execution_count": 60,
     "metadata": {},
     "output_type": "execute_result"
    }
   ],
   "source": [
    "# 5) Eliminar registros con Duration > 360 segundos\n",
    "test['t_dur0']= test['t_dur0'].apply(lambda x : removerOutlier(x,360))\n",
    "test.isnull().sum()"
   ]
  },
  {
   "cell_type": "code",
   "execution_count": 61,
   "metadata": {},
   "outputs": [],
   "source": [
    "test.dropna(inplace = True)"
   ]
  },
  {
   "cell_type": "code",
   "execution_count": 62,
   "metadata": {},
   "outputs": [
    {
     "name": "stdout",
     "output_type": "stream",
     "text": [
      "t_key0 hecha\n",
      "t_dur0 hecha\n",
      "t_dance0 hecha\n",
      "t_energy0 hecha\n",
      "t_speech0 hecha\n",
      "t_acous0 hecha\n",
      "t_ins0 hecha\n",
      "t_live0 hecha\n",
      "t_val0 hecha\n",
      "t_tempo0 hecha\n"
     ]
    }
   ],
   "source": [
    "# 6) Normalizacion de atributos seleccionados\n",
    "\n",
    "'''Desplazamos los atributos que presentan valores cero'''\n",
    "\n",
    "atributos_norm = ['t_key0','t_dance0','t_energy0','t_speech0','t_acous0','t_ins0','t_live0','t_val0']\n",
    "\n",
    "for col in atributos_norm:\n",
    "  test[col]= test[col].apply(lambda x : x+1)\n",
    "\n",
    "'''Normalizamos los atributos seleccionados'''\n",
    "\n",
    "\n",
    "features_norm = ['t_key0','t_dur0','t_dance0','t_energy0','t_speech0','t_acous0','t_ins0','t_live0','t_val0','t_tempo0']\n",
    "testNorm = test.drop(['popularity','ClasePopularidad'],axis = 1)\n",
    "L = []\n",
    "\n",
    "for col in features_norm:\n",
    "  norm,l = stats.boxcox(test[col])\n",
    "  testNorm[col] = norm\n",
    "  L.append(l)\n",
    "  print(f'{col} hecha')\n"
   ]
  },
  {
   "cell_type": "code",
   "execution_count": 63,
   "metadata": {},
   "outputs": [],
   "source": [
    "#Agregamos el atributo Mode (que no se normalizo) y las dos variables target\n",
    "testNorm['popularity'] = test['popularity']\n",
    "testNorm['ClasePopularidad'] = test['ClasePopularidad']"
   ]
  },
  {
   "cell_type": "code",
   "execution_count": 64,
   "metadata": {},
   "outputs": [
    {
     "data": {
      "text/html": [
       "<div>\n",
       "<style scoped>\n",
       "    .dataframe tbody tr th:only-of-type {\n",
       "        vertical-align: middle;\n",
       "    }\n",
       "\n",
       "    .dataframe tbody tr th {\n",
       "        vertical-align: top;\n",
       "    }\n",
       "\n",
       "    .dataframe thead th {\n",
       "        text-align: right;\n",
       "    }\n",
       "</style>\n",
       "<table border=\"1\" class=\"dataframe\">\n",
       "  <thead>\n",
       "    <tr style=\"text-align: right;\">\n",
       "      <th></th>\n",
       "      <th>t_key0</th>\n",
       "      <th>t_mode0</th>\n",
       "      <th>t_dur0</th>\n",
       "      <th>t_dance0</th>\n",
       "      <th>t_energy0</th>\n",
       "      <th>t_speech0</th>\n",
       "      <th>t_acous0</th>\n",
       "      <th>t_ins0</th>\n",
       "      <th>t_live0</th>\n",
       "      <th>t_val0</th>\n",
       "      <th>t_tempo0</th>\n",
       "      <th>popularity</th>\n",
       "      <th>ClasePopularidad</th>\n",
       "    </tr>\n",
       "    <tr>\n",
       "      <th>id</th>\n",
       "      <th></th>\n",
       "      <th></th>\n",
       "      <th></th>\n",
       "      <th></th>\n",
       "      <th></th>\n",
       "      <th></th>\n",
       "      <th></th>\n",
       "      <th></th>\n",
       "      <th></th>\n",
       "      <th></th>\n",
       "      <th></th>\n",
       "      <th></th>\n",
       "      <th></th>\n",
       "    </tr>\n",
       "  </thead>\n",
       "  <tbody>\n",
       "    <tr>\n",
       "      <th>116295</th>\n",
       "      <td>3.873489</td>\n",
       "      <td>1.0</td>\n",
       "      <td>102.077434</td>\n",
       "      <td>1.136005</td>\n",
       "      <td>0.652068</td>\n",
       "      <td>0.038806</td>\n",
       "      <td>0.245297</td>\n",
       "      <td>0.000004</td>\n",
       "      <td>0.061371</td>\n",
       "      <td>0.313870</td>\n",
       "      <td>20.325737</td>\n",
       "      <td>56.0</td>\n",
       "      <td>3</td>\n",
       "    </tr>\n",
       "    <tr>\n",
       "      <th>101223</th>\n",
       "      <td>1.595405</td>\n",
       "      <td>1.0</td>\n",
       "      <td>163.222452</td>\n",
       "      <td>1.559666</td>\n",
       "      <td>1.375892</td>\n",
       "      <td>0.090603</td>\n",
       "      <td>0.000999</td>\n",
       "      <td>0.144474</td>\n",
       "      <td>0.079899</td>\n",
       "      <td>0.237952</td>\n",
       "      <td>32.519312</td>\n",
       "      <td>22.0</td>\n",
       "      <td>2</td>\n",
       "    </tr>\n",
       "    <tr>\n",
       "      <th>47928</th>\n",
       "      <td>4.359420</td>\n",
       "      <td>1.0</td>\n",
       "      <td>113.531853</td>\n",
       "      <td>1.593801</td>\n",
       "      <td>1.504156</td>\n",
       "      <td>0.052763</td>\n",
       "      <td>0.030623</td>\n",
       "      <td>0.005559</td>\n",
       "      <td>0.070192</td>\n",
       "      <td>0.776168</td>\n",
       "      <td>26.369467</td>\n",
       "      <td>22.0</td>\n",
       "      <td>2</td>\n",
       "    </tr>\n",
       "    <tr>\n",
       "      <th>88722</th>\n",
       "      <td>3.873489</td>\n",
       "      <td>1.0</td>\n",
       "      <td>96.792061</td>\n",
       "      <td>1.289259</td>\n",
       "      <td>1.595320</td>\n",
       "      <td>0.048714</td>\n",
       "      <td>0.151174</td>\n",
       "      <td>0.000000</td>\n",
       "      <td>0.034878</td>\n",
       "      <td>0.862629</td>\n",
       "      <td>32.618254</td>\n",
       "      <td>50.0</td>\n",
       "      <td>3</td>\n",
       "    </tr>\n",
       "    <tr>\n",
       "      <th>111363</th>\n",
       "      <td>4.359420</td>\n",
       "      <td>0.0</td>\n",
       "      <td>102.640817</td>\n",
       "      <td>1.814995</td>\n",
       "      <td>1.031562</td>\n",
       "      <td>0.036711</td>\n",
       "      <td>0.015053</td>\n",
       "      <td>0.000002</td>\n",
       "      <td>0.089617</td>\n",
       "      <td>0.838169</td>\n",
       "      <td>25.157347</td>\n",
       "      <td>35.0</td>\n",
       "      <td>2</td>\n",
       "    </tr>\n",
       "  </tbody>\n",
       "</table>\n",
       "</div>"
      ],
      "text/plain": [
       "          t_key0  t_mode0      t_dur0  t_dance0  t_energy0  t_speech0  \\\n",
       "id                                                                      \n",
       "116295  3.873489      1.0  102.077434  1.136005   0.652068   0.038806   \n",
       "101223  1.595405      1.0  163.222452  1.559666   1.375892   0.090603   \n",
       "47928   4.359420      1.0  113.531853  1.593801   1.504156   0.052763   \n",
       "88722   3.873489      1.0   96.792061  1.289259   1.595320   0.048714   \n",
       "111363  4.359420      0.0  102.640817  1.814995   1.031562   0.036711   \n",
       "\n",
       "        t_acous0    t_ins0   t_live0    t_val0   t_tempo0  popularity  \\\n",
       "id                                                                      \n",
       "116295  0.245297  0.000004  0.061371  0.313870  20.325737        56.0   \n",
       "101223  0.000999  0.144474  0.079899  0.237952  32.519312        22.0   \n",
       "47928   0.030623  0.005559  0.070192  0.776168  26.369467        22.0   \n",
       "88722   0.151174  0.000000  0.034878  0.862629  32.618254        50.0   \n",
       "111363  0.015053  0.000002  0.089617  0.838169  25.157347        35.0   \n",
       "\n",
       "        ClasePopularidad  \n",
       "id                        \n",
       "116295                 3  \n",
       "101223                 2  \n",
       "47928                  2  \n",
       "88722                  3  \n",
       "111363                 2  "
      ]
     },
     "execution_count": 64,
     "metadata": {},
     "output_type": "execute_result"
    }
   ],
   "source": [
    "testNorm.head()"
   ]
  },
  {
   "cell_type": "code",
   "execution_count": 65,
   "metadata": {},
   "outputs": [
    {
     "data": {
      "text/plain": [
       "(13920, 13)"
      ]
     },
     "execution_count": 65,
     "metadata": {},
     "output_type": "execute_result"
    }
   ],
   "source": [
    "testNorm.shape"
   ]
  },
  {
   "cell_type": "code",
   "execution_count": 66,
   "metadata": {},
   "outputs": [],
   "source": [
    "#Guardamos el data set obtenido, que sera el Train Set para entrenamiento de Algoritmos\n",
    "\n",
    "#Correr esta celda solo si no se tiene el archivo guardado previamente\n",
    "\n",
    "testNorm.to_csv('testset.csv')"
   ]
  },
  {
   "cell_type": "markdown",
   "metadata": {},
   "source": [
    "**Con esto se termina la manipulacion y limpieza de datos.**\n",
    "\n",
    "Se obtuvieron varios archivos:\n",
    "\n",
    "- clean_data: Archivo para utilizar en las visualizaciones y analisis en profundidad de la data\n",
    "- trainset: Set para entrenamiento de algoritmos, con todas las transformaciones realizadas\n",
    "- testset: Set para el fit de algoritmos, con todas las transformaciones realizadas"
   ]
  }
 ],
 "metadata": {
  "colab": {
   "collapsed_sections": [],
   "name": "Data Cleaning.ipynb",
   "provenance": []
  },
  "kernelspec": {
   "display_name": "Python 3.8.9 64-bit",
   "language": "python",
   "name": "python3"
  },
  "language_info": {
   "codemirror_mode": {
    "name": "ipython",
    "version": 3
   },
   "file_extension": ".py",
   "mimetype": "text/x-python",
   "name": "python",
   "nbconvert_exporter": "python",
   "pygments_lexer": "ipython3",
   "version": "3.11.3"
  },
  "vscode": {
   "interpreter": {
    "hash": "31f2aee4e71d21fbe5cf8b01ff0e069b9275f58929596ceb00d14d90e3e16cd6"
   }
  }
 },
 "nbformat": 4,
 "nbformat_minor": 5
}
